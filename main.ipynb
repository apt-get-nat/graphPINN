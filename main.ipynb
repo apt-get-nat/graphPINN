{
 "cells": [
  {
   "cell_type": "code",
   "execution_count": 8,
   "id": "45a621a7",
   "metadata": {},
   "outputs": [],
   "source": [
    "import numpy as np\n",
    "import torch\n",
    "import torch_geometric as pyg\n",
    "import graphPINN\n",
    "import math\n",
    "import logging\n",
    "from time import time\n",
    "from tqdm.notebook import tqdm\n",
    "from scipy.io import savemat\n",
    "\n",
    "folder = \"C:\\\\Users\\\\nhmathew\\\\Documents\\\\code\\\\run-2023-02-23\\\\\""
   ]
  },
  {
   "cell_type": "code",
   "execution_count": 9,
   "id": "1868bce1",
   "metadata": {},
   "outputs": [],
   "source": [
    "def pretty_size(n,pow=0,b=1024,u='B',pre=['']+[p+'i'for p in'KMGTPEZY']):\n",
    "    pow,n=min(int(math.log(max(n*b**pow,1),b)),len(pre)-1),n*b**pow\n",
    "    return \"%%.%if %%s%%s\"%abs(pow%(-pow-1))%(n/b**float(pow),pre[pow],u)\n",
    "\n",
    "logging.basicConfig(filename=f'{folder}run.log',format='%(asctime)s - %(message)s', filemode='a+', level=logging.INFO)\n",
    "def logfn(message, tq=True):\n",
    "    logging.info(message)\n",
    "    if tq:\n",
    "        tqdm.write(message)\n",
    "    else:\n",
    "        print(message)"
   ]
  },
  {
   "cell_type": "code",
   "execution_count": 10,
   "id": "5d03cba2",
   "metadata": {},
   "outputs": [],
   "source": [
    "device = torch.device('cuda' if torch.cuda.is_available() else 'cpu')"
   ]
  },
  {
   "cell_type": "code",
   "execution_count": 11,
   "id": "db42feca",
   "metadata": {},
   "outputs": [
    {
     "name": "stdout",
     "output_type": "stream",
     "text": [
      "24.0 GiB of cuda memory\n"
     ]
    }
   ],
   "source": [
    "logfn(f\"{pretty_size(torch.cuda.get_device_properties(0).total_memory)} of {'cuda' if torch.cuda.is_available() else 'cpu'} memory\")"
   ]
  },
  {
   "cell_type": "code",
   "execution_count": 12,
   "id": "b9361de8",
   "metadata": {},
   "outputs": [
    {
     "name": "stderr",
     "output_type": "stream",
     "text": [
      "Processing...\n",
      "100%|██████████████████████████████████████████████████████████████████████████████| 644/644 [1:45:44<00:00,  9.85s/it]\n",
      "Done!\n"
     ]
    }
   ],
   "source": [
    "batch_size = 1\n",
    "k = 100\n",
    "\n",
    "dataset = graphPINN.data.MHSDataset(f'D:\\\\nats ML stuff\\\\data_k={k}',k=k)\n",
    "\n",
    "\n",
    "trainset, validset, testset = torch.utils.data.random_split(dataset,[0.8, 0.1, 0.1],generator=torch.Generator().manual_seed(42))\n",
    "# trainset, validset, testset = torch.utils.data.random_split(dataset,[0.005, 0.001, 0.994],generator=torch.Generator().manual_seed(42))"
   ]
  },
  {
   "cell_type": "code",
   "execution_count": 13,
   "id": "0fc8914b",
   "metadata": {},
   "outputs": [],
   "source": [
    "design = [18,9,6,6,3]\n",
    "kernel = graphPINN.KernelNN(design, torch.nn.ReLU)\n",
    "convgraph = graphPINN.ConvGraph(kernel).to(device)\n",
    "\n",
    "design = [12,6,6,3]\n",
    "propkernel = graphPINN.KernelNN(design, torch.nn.ReLU)\n",
    "propgraph = graphPINN.BDPropGraph(propkernel).to(device)\n"
   ]
  },
  {
   "cell_type": "code",
   "execution_count": 14,
   "id": "3328c28e",
   "metadata": {},
   "outputs": [
    {
     "data": {
      "application/vnd.jupyter.widget-view+json": {
       "model_id": "eab505d0cd564e84b19028647286a8ce",
       "version_major": 2,
       "version_minor": 0
      },
      "text/plain": [
       "  0%|          | 0/3092 [00:00<?, ?it/s]"
      ]
     },
     "metadata": {},
     "output_type": "display_data"
    },
    {
     "name": "stdout",
     "output_type": "stream",
     "text": [
      "Epoch 1 completed. Loss: 36.4398078918457; Total skipped: 264; Total time: 23545.09375858307\n",
      "running vec: 28.127338409423828, running mhs: 0.08386331796646118, running div: 8.228604316711426\n"
     ]
    },
    {
     "data": {
      "application/vnd.jupyter.widget-view+json": {
       "model_id": "ef3fcce17f724e86a3dfc9aa1ba0aef3",
       "version_major": 2,
       "version_minor": 0
      },
      "text/plain": [
       "  0%|          | 0/386 [00:00<?, ?it/s]"
      ]
     },
     "metadata": {},
     "output_type": "display_data"
    },
    {
     "name": "stdout",
     "output_type": "stream",
     "text": [
      "Validation loss: 50.54824447631836, total skipped: 31, validation time: 2915.774275779724\n",
      "running vec: 37.88922882080078, running mhs: 0.037443857640028, running div: 12.621569633483887\n"
     ]
    },
    {
     "data": {
      "application/vnd.jupyter.widget-view+json": {
       "model_id": "6f430445f22e4b889ffbf858d7689f45",
       "version_major": 2,
       "version_minor": 0
      },
      "text/plain": [
       "  0%|          | 0/3092 [00:00<?, ?it/s]"
      ]
     },
     "metadata": {},
     "output_type": "display_data"
    },
    {
     "name": "stdout",
     "output_type": "stream",
     "text": [
      "Epoch 2 completed. Loss: 38.758628845214844; Total skipped: 264; Total time: 23826.29337835312\n",
      "running vec: 28.12733268737793, running mhs: 0.047043636441230774, running div: 10.584253311157227\n"
     ]
    },
    {
     "data": {
      "application/vnd.jupyter.widget-view+json": {
       "model_id": "d88a2e1e560c446f9b5861f12ab3e2ab",
       "version_major": 2,
       "version_minor": 0
      },
      "text/plain": [
       "  0%|          | 0/386 [00:00<?, ?it/s]"
      ]
     },
     "metadata": {},
     "output_type": "display_data"
    },
    {
     "name": "stdout",
     "output_type": "stream",
     "text": [
      "Validation loss: 57.04352569580078, total skipped: 31, validation time: 2912.829377889633\n",
      "running vec: 37.88557052612305, running mhs: 0.03768550977110863, running div: 19.120267868041992\n"
     ]
    },
    {
     "data": {
      "application/vnd.jupyter.widget-view+json": {
       "model_id": "2d453d76cf784f5e89fe89ee5ceb3f8b",
       "version_major": 2,
       "version_minor": 0
      },
      "text/plain": [
       "  0%|          | 0/3092 [00:00<?, ?it/s]"
      ]
     },
     "metadata": {},
     "output_type": "display_data"
    },
    {
     "name": "stdout",
     "output_type": "stream",
     "text": [
      "Epoch 3 completed. Loss: 41.97667694091797; Total skipped: 264; Total time: 23830.65084338188\n",
      "running vec: 28.1208438873291, running mhs: 0.04396802932024002, running div: 13.811864852905273\n"
     ]
    },
    {
     "data": {
      "application/vnd.jupyter.widget-view+json": {
       "model_id": "430168b54ef04231a3ea9eaeed94c0f2",
       "version_major": 2,
       "version_minor": 0
      },
      "text/plain": [
       "  0%|          | 0/386 [00:00<?, ?it/s]"
      ]
     },
     "metadata": {},
     "output_type": "display_data"
    },
    {
     "name": "stdout",
     "output_type": "stream",
     "text": [
      "Validation loss: 57.475399017333984, total skipped: 31, validation time: 2921.6089940071106\n",
      "running vec: 37.8637580871582, running mhs: 0.04037060588598251, running div: 19.571266174316406\n"
     ]
    },
    {
     "data": {
      "application/vnd.jupyter.widget-view+json": {
       "model_id": "991a093334224ce8ab79042f9abdb945",
       "version_major": 2,
       "version_minor": 0
      },
      "text/plain": [
       "  0%|          | 0/3092 [00:00<?, ?it/s]"
      ]
     },
     "metadata": {},
     "output_type": "display_data"
    },
    {
     "name": "stdout",
     "output_type": "stream",
     "text": [
      "Epoch 4 completed. Loss: 47.15961837768555; Total skipped: 264; Total time: 23853.660502433777\n",
      "running vec: 28.118637084960938, running mhs: 0.04212522506713867, running div: 18.998855590820312\n"
     ]
    },
    {
     "data": {
      "application/vnd.jupyter.widget-view+json": {
       "model_id": "74aec63503714e2c9e7b5626aacbb2cf",
       "version_major": 2,
       "version_minor": 0
      },
      "text/plain": [
       "  0%|          | 0/386 [00:00<?, ?it/s]"
      ]
     },
     "metadata": {},
     "output_type": "display_data"
    },
    {
     "name": "stdout",
     "output_type": "stream",
     "text": [
      "Validation loss: 54.35874557495117, total skipped: 31, validation time: 2920.70063662529\n",
      "running vec: 37.86005401611328, running mhs: 0.03805379569530487, running div: 16.46063804626465\n"
     ]
    },
    {
     "data": {
      "application/vnd.jupyter.widget-view+json": {
       "model_id": "dd2fbe0f3a604f28a99ba25429b48446",
       "version_major": 2,
       "version_minor": 0
      },
      "text/plain": [
       "  0%|          | 0/3092 [00:00<?, ?it/s]"
      ]
     },
     "metadata": {},
     "output_type": "display_data"
    },
    {
     "name": "stdout",
     "output_type": "stream",
     "text": [
      "Epoch 5 completed. Loss: 39.78526306152344; Total skipped: 264; Total time: 23871.073615074158\n",
      "running vec: 28.114511489868164, running mhs: 0.03997684270143509, running div: 11.630776405334473\n"
     ]
    },
    {
     "data": {
      "application/vnd.jupyter.widget-view+json": {
       "model_id": "cc70d2c0d0bb4905a9c4d85b53d2b940",
       "version_major": 2,
       "version_minor": 0
      },
      "text/plain": [
       "  0%|          | 0/386 [00:00<?, ?it/s]"
      ]
     },
     "metadata": {},
     "output_type": "display_data"
    },
    {
     "name": "stdout",
     "output_type": "stream",
     "text": [
      "Validation loss: 47.924072265625, total skipped: 31, validation time: 2920.46866440773\n",
      "running vec: 37.8585090637207, running mhs: 0.03745351731777191, running div: 10.028109550476074\n",
      "validation loss: tensor([50.5482, 57.0435, 57.4754, 54.3587, 47.9241])\n",
      "training loss: tensor([36.4398, 38.7586, 41.9767, 47.1596, 39.7853])\n"
     ]
    }
   ],
   "source": [
    "def train(propgraph, convgraph, epochs = 1, lbfgs = False):\n",
    "    \n",
    "    if lbfgs:\n",
    "        def closure():\n",
    "            # necessary for lbfgs\n",
    "            optimizer.zero_grad()\n",
    "            output = convgraph.forward(kdtree,iter=10)\n",
    "            loss = graphPINN.MHS.loss(output, true)\n",
    "            loss.backward()\n",
    "            return loss\n",
    "        optimizer = torch.optim.LBFGS(convgraph.kernel.parameters())\n",
    "    else:\n",
    "        optimizer = torch.optim.Adam(convgraph.kernel.parameters())\n",
    "    \n",
    "    training_loss   = torch.zeros(4,epochs)\n",
    "    validation_loss = torch.zeros(4,epochs)\n",
    "    for epoch in range(epochs):\n",
    "        trainLoader = pyg.loader.DataLoader(trainset, batch_size=batch_size,shuffle=False)\n",
    "        validLoader = pyg.loader.DataLoader(validset, batch_size=batch_size,shuffle=False)\n",
    "        \n",
    "        convgraph.train(True)\n",
    "        \n",
    "        running_loss = 0\n",
    "        running_vec = 0\n",
    "        running_mhs = 0\n",
    "        running_div = 0\n",
    "        iter = 0\n",
    "        skipped = 0\n",
    "        start_time = time()\n",
    "        \n",
    "        for data in tqdm(trainLoader):\n",
    "            data['bd','propagates','in'].edge_index, data['bd','propagates','in'].edge_attr = \\\n",
    "                        pyg.utils.dense_to_sparse(\n",
    "                                torch.ones(data['bd'].x.shape[0],data['in'].x.shape[0])\n",
    "                        )\n",
    "            \n",
    "            data = data.to_homogeneous()\n",
    "            data.to(device)\n",
    "            \n",
    "            optimizer.zero_grad()\n",
    "            \n",
    "            true = [data.y[:,0:3],data.x[:,3],data.x[:,4],data.x[:,5]]\n",
    "            \n",
    "            pred = graphPINN.FullModel(data, propgraph, convgraph)\n",
    "            \n",
    "            loss, vec_diff, mhs_diff, div_diff = graphPINN.MHS.loss(pred,true, logfn=None)\n",
    "            \n",
    "            iter += 1\n",
    "            \n",
    "            if loss.item() < 1e4:\n",
    "                loss.backward()\n",
    "                if lbfgs:\n",
    "                    optimizer.step(closure)\n",
    "                else:\n",
    "                    optimizer.step()\n",
    "\n",
    "                running_loss += loss.item()\n",
    "                running_vec += vec_diff\n",
    "                running_mhs += mhs_diff\n",
    "                running_div += div_diff\n",
    "#                 logfn(f'epoch {epoch+1} iter {iter}/{len(trainLoader)}, loss {loss.item()}')\n",
    "            else:\n",
    "#                 logfn(f'loss skipped...')\n",
    "                skipped += 1\n",
    "            \n",
    "        training_loss[:,epoch] = torch.tensor((running_vec/(len(trainLoader)-skipped),\n",
    "                                               running_mhs/(len(trainLoader)-skipped),\n",
    "                                               running_div/(len(trainLoader)-skipped),\n",
    "                                              running_loss/(len(trainLoader)-skipped)\n",
    "                                 ))\n",
    "        \n",
    "        logfn(f'Epoch {epoch+1} completed. Loss: {training_loss[3,epoch]}; Total skipped: {skipped}; Total time: {time()-start_time}', tq=False)\n",
    "        logfn(f'running vec: {training_loss[0,epoch]}, running mhs: {training_loss[1,epoch]}, running div: {training_loss[2,epoch]}')\n",
    "        \n",
    "        convgraph.train(False)\n",
    "        torch.save(convgraph.state_dict(), f'{folder}epoch-{epoch+1}_trainsize-{len(trainset)}_k-{k}.pt')\n",
    "        \n",
    "        start_time = time()\n",
    "        valid_skipped = 0\n",
    "        valid_vec = 0\n",
    "        valid_mhs = 0\n",
    "        valid_div = 0\n",
    "        running_valid = 0\n",
    "        for data in tqdm(validLoader):\n",
    "            data['bd','propagates','in'].edge_index, data['bd','propagates','in'].edge_attr = \\\n",
    "                        pyg.utils.dense_to_sparse(\n",
    "                                torch.ones(data['bd'].x.shape[0],data['in'].x.shape[0])\n",
    "                        )\n",
    "            \n",
    "            data = data.to_homogeneous()\n",
    "            data.to(device)\n",
    "            \n",
    "            true = [data.y[:,0:3],data.x[:,3],data.x[:,4],data.x[:,5]]\n",
    "            pred = graphPINN.FullModel(data, propgraph, convgraph)\n",
    "            \n",
    "            loss, vec, mhs, div = graphPINN.MHS.loss(pred,true, logfn=None)\n",
    "            \n",
    "            if loss.item() < 1e4:\n",
    "                running_valid += loss.item()\n",
    "                valid_vec += vec\n",
    "                valid_mhs += mhs\n",
    "                valid_div += div\n",
    "            else:\n",
    "#                 logfn('  skipped')\n",
    "                valid_skipped += 1\n",
    "        validation_loss[:,epoch] = torch.tensor((valid_vec/(len(validLoader)-valid_skipped),\n",
    "                                                 valid_mhs/(len(validLoader)-valid_skipped),\n",
    "                                                 valid_div/(len(validLoader)-valid_skipped),\n",
    "                                             running_valid/(len(validLoader)-valid_skipped)\n",
    "                                   ))\n",
    "        logfn(f'Validation loss: {validation_loss[3,epoch]}, total skipped: {valid_skipped}, validation time: {time()-start_time}', tq=False)\n",
    "        logfn(f'running vec: {validation_loss[0,epoch]}, running mhs: {validation_loss[1,epoch]}, running div: {validation_loss[2,epoch]}')\n",
    "        \n",
    "            \n",
    "    return running_loss, training_loss, validation_loss\n",
    "\n",
    "epochs = 5\n",
    "loss, training_loss, validation_loss = train(propgraph, convgraph, epochs=epochs)\n",
    "logfn(f'validation loss: {validation_loss[3,:]}', tq=False)\n",
    "logfn(f'training loss: {training_loss[3,:]}', tq=False)"
   ]
  },
  {
   "cell_type": "code",
   "execution_count": 15,
   "id": "76e3a04d",
   "metadata": {},
   "outputs": [
    {
     "name": "stdout",
     "output_type": "stream",
     "text": [
      "tensor([[2.8127e+01, 2.8127e+01, 2.8121e+01, 2.8119e+01, 2.8115e+01],\n",
      "        [8.3863e-02, 4.7044e-02, 4.3968e-02, 4.2125e-02, 3.9977e-02],\n",
      "        [8.2286e+00, 1.0584e+01, 1.3812e+01, 1.8999e+01, 1.1631e+01],\n",
      "        [3.6440e+01, 3.8759e+01, 4.1977e+01, 4.7160e+01, 3.9785e+01]])\n",
      "tensor([[3.7889e+01, 3.7886e+01, 3.7864e+01, 3.7860e+01, 3.7859e+01],\n",
      "        [3.7444e-02, 3.7686e-02, 4.0371e-02, 3.8054e-02, 3.7454e-02],\n",
      "        [1.2622e+01, 1.9120e+01, 1.9571e+01, 1.6461e+01, 1.0028e+01],\n",
      "        [5.0548e+01, 5.7044e+01, 5.7475e+01, 5.4359e+01, 4.7924e+01]])\n"
     ]
    }
   ],
   "source": [
    "lossdict = {}\n",
    "lossdict['training'] = training_loss\n",
    "lossdict['validation'] = validation_loss\n",
    "lossdict['ordering'] = ['vector','mhs','div','total']\n",
    "print(lossdict['training'])\n",
    "print(lossdict['validation'])"
   ]
  },
  {
   "cell_type": "code",
   "execution_count": 16,
   "id": "f0cc9c91",
   "metadata": {},
   "outputs": [],
   "source": [
    "savemat(f'{folder}loss_{epochs}_trainsize-{len(trainset)}_k-{k}.mat', lossdict)"
   ]
  },
  {
   "cell_type": "code",
   "execution_count": null,
   "id": "c127280b",
   "metadata": {},
   "outputs": [],
   "source": [
    "print(f'{pretty_size(torch.cuda.memory_allocated())}/{pretty_size(torch.cuda.max_memory_allocated())} allocated, ' +\n",
    "      f'{pretty_size(torch.cuda.memory_reserved())}/{pretty_size(torch.cuda.get_device_properties(0).total_memory)} reserved')"
   ]
  },
  {
   "cell_type": "code",
   "execution_count": null,
   "id": "604f24c4",
   "metadata": {},
   "outputs": [],
   "source": [
    "# convgraph.load_state_dict(torch.load('epoch-0_trainsize-3092_k-100.pt'))"
   ]
  },
  {
   "cell_type": "code",
   "execution_count": null,
   "id": "f8cbd7f9",
   "metadata": {},
   "outputs": [],
   "source": [
    "sample = dataset[0]\n",
    "sample['bd','propagates','in'].edge_index, sample['bd','propagates','in'].edge_attr = \\\n",
    "            pyg.utils.dense_to_sparse(\n",
    "                        torch.ones(sample['bd'].x.shape[0],sample['in'].x.shape[0])\n",
    "            )\n",
    "print(sample)"
   ]
  },
  {
   "cell_type": "code",
   "execution_count": null,
   "id": "2276101d",
   "metadata": {},
   "outputs": [],
   "source": [
    "homosamp = sample.to_homogeneous()"
   ]
  },
  {
   "cell_type": "code",
   "execution_count": null,
   "id": "522ef4a0",
   "metadata": {},
   "outputs": [],
   "source": [
    "print(homosamp.x)"
   ]
  },
  {
   "cell_type": "code",
   "execution_count": null,
   "id": "cb6e4348",
   "metadata": {},
   "outputs": [],
   "source": [
    "print(homosamp.edge_index[:,homosamp.edge_type==1])"
   ]
  }
 ],
 "metadata": {
  "kernelspec": {
   "display_name": "Python 3 (ipykernel)",
   "language": "python",
   "name": "python3"
  },
  "language_info": {
   "codemirror_mode": {
    "name": "ipython",
    "version": 3
   },
   "file_extension": ".py",
   "mimetype": "text/x-python",
   "name": "python",
   "nbconvert_exporter": "python",
   "pygments_lexer": "ipython3",
   "version": "3.9.13"
  }
 },
 "nbformat": 4,
 "nbformat_minor": 5
}
