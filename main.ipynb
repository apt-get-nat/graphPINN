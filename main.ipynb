{
 "cells": [
  {
   "cell_type": "code",
   "execution_count": null,
   "id": "45a621a7",
   "metadata": {},
   "outputs": [],
   "source": [
    "import numpy as np\n",
    "import torch\n",
    "import torch_geometric as pyg\n",
    "import graphPINN\n",
    "import math\n",
    "import logging\n",
    "from time import time\n",
    "from tqdm.notebook import tqdm\n",
    "from scipy.io import savemat\n",
    "\n",
    "folder = \"C:\\\\Users\\\\nhmathew\\\\Documents\\\\code\\\\run-2023-02-21\\\\\""
   ]
  },
  {
   "cell_type": "code",
   "execution_count": null,
   "id": "1868bce1",
   "metadata": {},
   "outputs": [],
   "source": [
    "def pretty_size(n,pow=0,b=1024,u='B',pre=['']+[p+'i'for p in'KMGTPEZY']):\n",
    "    pow,n=min(int(math.log(max(n*b**pow,1),b)),len(pre)-1),n*b**pow\n",
    "    return \"%%.%if %%s%%s\"%abs(pow%(-pow-1))%(n/b**float(pow),pre[pow],u)\n",
    "\n",
    "logging.basicConfig(filename=f'{folder}run.log',format='%(asctime)s - %(message)s', filemode='a+', level=logging.INFO)\n",
    "def logfn(message, tq=True):\n",
    "    logging.info(message)\n",
    "    if tq:\n",
    "        tqdm.write(message)\n",
    "    else:\n",
    "        print(message)"
   ]
  },
  {
   "cell_type": "code",
   "execution_count": null,
   "id": "5d03cba2",
   "metadata": {},
   "outputs": [],
   "source": [
    "device = torch.device('cuda' if torch.cuda.is_available() else 'cpu')"
   ]
  },
  {
   "cell_type": "code",
   "execution_count": null,
   "id": "db42feca",
   "metadata": {},
   "outputs": [],
   "source": [
    "logfn(f\"{pretty_size(torch.cuda.get_device_properties(0).total_memory)} of {'cuda' if torch.cuda.is_available() else 'cpu'} memory\")"
   ]
  },
  {
   "cell_type": "code",
   "execution_count": null,
   "id": "b9361de8",
   "metadata": {},
   "outputs": [],
   "source": [
    "batch_size = 1\n",
    "k = 50\n",
    "\n",
    "dataset = graphPINN.data.MHSDataset(f'D:\\\\nats ML stuff\\\\data_k={k}',k=k)\n",
    "\n",
    "\n",
    "# trainset, validset, testset = torch.utils.data.random_split(dataset,[0.8, 0.1, 0.1],generator=torch.Generator().manual_seed(42))\n",
    "trainset, validset, testset = torch.utils.data.random_split(dataset,[0.005, 0.001, 0.994],generator=torch.Generator().manual_seed(42))"
   ]
  },
  {
   "cell_type": "code",
   "execution_count": null,
   "id": "0fc8914b",
   "metadata": {},
   "outputs": [],
   "source": [
    "design = [18,9,6,6,3]\n",
    "kernel = graphPINN.KernelNN(design, torch.nn.ReLU)\n",
    "convgraph = graphPINN.ConvGraph(kernel).to(device)\n",
    "\n",
    "design = [12,6,6,3]\n",
    "propkernel = graphPINN.KernelNN(design, torch.nn.ReLU)\n",
    "propgraph = graphPINN.BDPropGraph(propkernel).to(device)\n"
   ]
  },
  {
   "cell_type": "code",
   "execution_count": null,
   "id": "305de9b9",
   "metadata": {},
   "outputs": [],
   "source": [
    "def train(propgraph, convgraph, epochs = 1, lbfgs = False):\n",
    "    \n",
    "    if lbfgs:\n",
    "        def closure():\n",
    "            # necessary for lbfgs\n",
    "            optimizer.zero_grad()\n",
    "            output = convgraph.forward(kdtree,iter=10)\n",
    "            loss = graphPINN.MHS.loss(output, true)\n",
    "            loss.backward()\n",
    "            return loss\n",
    "        optimizer = torch.optim.LBFGS(convgraph.kernel.parameters())\n",
    "    else:\n",
    "        optimizer = torch.optim.Adam(convgraph.kernel.parameters())\n",
    "    \n",
    "    training_loss   = torch.zeros(4,epochs)\n",
    "    validation_loss = torch.zeros(4,epochs)\n",
    "    for epoch in range(epochs):\n",
    "        trainLoader = pyg.loader.DataLoader(trainset, batch_size=batch_size,shuffle=False)\n",
    "        validLoader = pyg.loader.DataLoader(validset, batch_size=batch_size,shuffle=False)\n",
    "        \n",
    "        convgraph.train(True)\n",
    "        \n",
    "        running_loss = 0\n",
    "        running_vec = 0\n",
    "        running_mhs = 0\n",
    "        running_div = 0\n",
    "        iter = 0\n",
    "        skipped = 0\n",
    "        start_time = time()\n",
    "        \n",
    "        for data in tqdm(trainLoader):\n",
    "            data['bd','propagates','in'].edge_index, data['bd','propagates','in'].edge_attr = \\\n",
    "                        pyg.utils.dense_to_sparse(\n",
    "                                torch.ones(data['bd'].x.shape[0],data['in'].x.shape[0])\n",
    "                        )\n",
    "            \n",
    "            data = data.to_homogeneous()\n",
    "            data.to(device)\n",
    "            \n",
    "            optimizer.zero_grad()\n",
    "            \n",
    "            true = [data.y[:,0:3],data.x[:,3],data.x[:,4],data.x[:,5]]\n",
    "            \n",
    "            pred = graphPINN.FullModel(data, propgraph, convgraph)\n",
    "            \n",
    "            loss, vec_diff, mhs_diff, div_diff = graphPINN.MHS.loss(pred,true, logfn=None)\n",
    "            \n",
    "            iter += 1\n",
    "            \n",
    "            if loss.item() < 1000:\n",
    "                loss.backward()\n",
    "                if lbfgs:\n",
    "                    optimizer.step(closure)\n",
    "                else:\n",
    "                    optimizer.step()\n",
    "\n",
    "                running_loss += loss.item()\n",
    "                running_vec += vec_diff\n",
    "                running_mhs += mhs_diff\n",
    "                running_div += div_diff\n",
    "#                 logfn(f'epoch {epoch+1} iter {iter}/{len(trainLoader)}, loss {loss.item()}')\n",
    "            else:\n",
    "#                 logfn(f'loss skipped...')\n",
    "                skipped += 1\n",
    "            \n",
    "        training_loss[:,epoch] = torch.tensor((running_vec/(len(trainLoader)-skipped),\n",
    "                                               running_mhs/(len(trainLoader)-skipped),\n",
    "                                               running_div/(len(trainLoader)-skipped),\n",
    "                                              running_loss/(len(trainLoader)-skipped)\n",
    "                                 ))\n",
    "        \n",
    "        logfn(f'Epoch {epoch+1} completed. Loss: {training_loss[3,epoch]}; Total skipped: {skipped}; Total time: {time()-start_time}', tq=False)\n",
    "        logfn(f'running vec: {training_loss[0,epoch]}, running mhs: {training_loss[1,epoch]}, running div: {training_loss[2,epoch]}')\n",
    "        \n",
    "        convgraph.train(False)\n",
    "        torch.save(convgraph.state_dict(), f'{folder}epoch-{epoch+1}_trainsize-{len(trainset)}_k-{k}.pt')\n",
    "        \n",
    "        start_time = time()\n",
    "        valid_skipped = 0\n",
    "        valid_vec = 0\n",
    "        valid_mhs = 0\n",
    "        valid_div = 0\n",
    "        running_valid = 0\n",
    "        for data in tqdm(validLoader):\n",
    "            data['bd','propagates','in'].edge_index, data['bd','propagates','in'].edge_attr = \\\n",
    "                        pyg.utils.dense_to_sparse(\n",
    "                                torch.ones(data['bd'].x.shape[0],data['in'].x.shape[0])\n",
    "                        )\n",
    "            \n",
    "            data = data.to_homogeneous()\n",
    "            data.to(device)\n",
    "            \n",
    "            true = [data.y[:,0:3],data.x[:,3],data.x[:,4],data.x[:,5]]\n",
    "            pred = graphPINN.FullModel(data, propgraph, convgraph)\n",
    "            \n",
    "            loss, vec, mhs, div = graphPINN.MHS.loss(pred,true, logfn=None)\n",
    "            \n",
    "            if loss.item() < 1000:\n",
    "                running_valid += loss.item()\n",
    "                valid_vec += vec\n",
    "                valid_mhs += mhs\n",
    "                valid_div += div\n",
    "            else:\n",
    "#                 logfn('  skipped')\n",
    "                valid_skipped += 1\n",
    "        validation_loss[:,epoch] = torch.tensor((valid_vec/(len(validLoader)-valid_skipped),\n",
    "                                                 valid_mhs/(len(validLoader)-valid_skipped),\n",
    "                                                 valid_div/(len(validLoader)-valid_skipped),\n",
    "                                             running_valid/(len(validLoader)-valid_skipped)\n",
    "                                   ))\n",
    "        logfn(f'Validation loss: {validation_loss[3,epoch]}, total skipped: {valid_skipped}, validation time: {time()-start_time}', tq=False)\n",
    "        logfn(f'running vec: {validation_loss[0,epoch]}, running mhs: {validation_loss[1,epoch]}, running div: {validation_loss[2,epoch]}')\n",
    "        \n",
    "            \n",
    "    return running_loss, training_loss, validation_loss\n",
    "\n",
    "epochs = 5\n",
    "loss, training_loss, validation_loss = train(propgraph, convgraph, epochs=epochs)\n",
    "logfn(f'validation loss: {validation_loss[3,:]}', tq=False)\n",
    "logfn(f'training loss: {training_loss[3,:]}', tq=False)"
   ]
  },
  {
   "cell_type": "code",
   "execution_count": null,
   "id": "69299928",
   "metadata": {},
   "outputs": [],
   "source": [
    "lossdict = {}\n",
    "lossdict['training'] = training_loss\n",
    "lossdict['validation'] = validation_loss\n",
    "lossdict['ordering'] = ['vector','mhs','div','total']\n",
    "print(lossdict['training'])\n",
    "print(lossdict['validation'])"
   ]
  },
  {
   "cell_type": "code",
   "execution_count": null,
   "id": "db1fdb95",
   "metadata": {},
   "outputs": [],
   "source": [
    "savemat(f'{foler}loss_{epochs}_trainsize-{len(trainset)}_k-{k}.mat', lossdict)"
   ]
  },
  {
   "cell_type": "code",
   "execution_count": null,
   "id": "c127280b",
   "metadata": {},
   "outputs": [],
   "source": [
    "print(f'{pretty_size(torch.cuda.memory_allocated())}/{pretty_size(torch.cuda.max_memory_allocated())} allocated, ' +\n",
    "      f'{pretty_size(torch.cuda.memory_reserved())}/{pretty_size(torch.cuda.get_device_properties(0).total_memory)} reserved')"
   ]
  },
  {
   "cell_type": "code",
   "execution_count": null,
   "id": "604f24c4",
   "metadata": {},
   "outputs": [],
   "source": [
    "# convgraph.load_state_dict(torch.load('epoch-0_trainsize-3092_k-100.pt'))"
   ]
  },
  {
   "cell_type": "code",
   "execution_count": null,
   "id": "f8cbd7f9",
   "metadata": {},
   "outputs": [],
   "source": [
    "sample = dataset[0]\n",
    "sample['bd','propagates','in'].edge_index, sample['bd','propagates','in'].edge_attr = \\\n",
    "            pyg.utils.dense_to_sparse(\n",
    "                        torch.ones(sample['bd'].x.shape[0],sample['in'].x.shape[0])\n",
    "            )\n",
    "print(sample)"
   ]
  },
  {
   "cell_type": "code",
   "execution_count": null,
   "id": "2276101d",
   "metadata": {},
   "outputs": [],
   "source": [
    "homosamp = sample.to_homogeneous()"
   ]
  },
  {
   "cell_type": "code",
   "execution_count": null,
   "id": "522ef4a0",
   "metadata": {},
   "outputs": [],
   "source": [
    "print(homosamp.x)"
   ]
  },
  {
   "cell_type": "code",
   "execution_count": null,
   "id": "cb6e4348",
   "metadata": {},
   "outputs": [],
   "source": [
    "print(homosamp.edge_index[:,homosamp.edge_type==1])"
   ]
  }
 ],
 "metadata": {
  "kernelspec": {
   "display_name": "Python 3 (ipykernel)",
   "language": "python",
   "name": "python3"
  },
  "language_info": {
   "codemirror_mode": {
    "name": "ipython",
    "version": 3
   },
   "file_extension": ".py",
   "mimetype": "text/x-python",
   "name": "python",
   "nbconvert_exporter": "python",
   "pygments_lexer": "ipython3",
   "version": "3.9.13"
  }
 },
 "nbformat": 4,
 "nbformat_minor": 5
}
