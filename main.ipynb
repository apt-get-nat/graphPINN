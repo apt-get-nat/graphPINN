{
 "cells": [
  {
   "cell_type": "code",
   "execution_count": 1,
   "id": "45a621a7",
   "metadata": {},
   "outputs": [],
   "source": [
    "import numpy as np\n",
    "import torch\n",
    "import torch_geometric as pyg\n",
    "import graphPINN\n",
    "import math\n",
    "import logging\n",
    "from time import time\n",
    "from tqdm.notebook import tqdm"
   ]
  },
  {
   "cell_type": "code",
   "execution_count": 2,
   "id": "1868bce1",
   "metadata": {},
   "outputs": [],
   "source": [
    "def pretty_size(n,pow=0,b=1024,u='B',pre=['']+[p+'i'for p in'KMGTPEZY']):\n",
    "    pow,n=min(int(math.log(max(n*b**pow,1),b)),len(pre)-1),n*b**pow\n",
    "    return \"%%.%if %%s%%s\"%abs(pow%(-pow-1))%(n/b**float(pow),pre[pow],u)\n",
    "\n",
    "logging.basicConfig(filename='log.log',format='%(asctime)s - %(message)s', filemode='a+', level=logging.INFO)\n",
    "def logfn(message, tq=True):\n",
    "    logging.info(message)\n",
    "    if tq:\n",
    "        tqdm.write(message)\n",
    "    else:\n",
    "        print(message)"
   ]
  },
  {
   "cell_type": "code",
   "execution_count": 3,
   "id": "5d03cba2",
   "metadata": {},
   "outputs": [],
   "source": [
    "device = torch.device('cuda' if torch.cuda.is_available() else 'cpu')"
   ]
  },
  {
   "cell_type": "code",
   "execution_count": 4,
   "id": "db42feca",
   "metadata": {},
   "outputs": [
    {
     "name": "stdout",
     "output_type": "stream",
     "text": [
      "24.0 GiB of cuda memory\n"
     ]
    }
   ],
   "source": [
    "logfn(f\"{pretty_size(torch.cuda.get_device_properties(0).total_memory)} of {'cuda' if torch.cuda.is_available() else 'cpu'} memory\")"
   ]
  },
  {
   "cell_type": "code",
   "execution_count": 5,
   "id": "b9361de8",
   "metadata": {},
   "outputs": [
    {
     "name": "stderr",
     "output_type": "stream",
     "text": [
      "Processing...\n",
      "100%|████████████████████████████████████████████████████████████████████████████████| 644/644 [51:56<00:00,  4.84s/it]\n",
      "Done!\n"
     ]
    }
   ],
   "source": [
    "batch_size = 1\n",
    "k = 50\n",
    "\n",
    "dataset = graphPINN.data.MHSDataset(f'D:\\\\nats ML stuff\\\\data_k={k}',k=k)\n",
    "\n",
    "\n",
    "trainset, validset, testset = torch.utils.data.random_split(dataset,[0.8, 0.1, 0.1],generator=torch.Generator().manual_seed(42))\n",
    "# trainset, validset, testset = torch.utils.data.random_split(dataset,[0.005, 0.001, 0.994],generator=torch.Generator().manual_seed(42))"
   ]
  },
  {
   "cell_type": "code",
   "execution_count": 6,
   "id": "0fc8914b",
   "metadata": {},
   "outputs": [],
   "source": [
    "design = [18,9,6,6,3]\n",
    "kernel = graphPINN.KernelNN(design, torch.nn.ReLU)\n",
    "convgraph = graphPINN.ConvGraph(kernel).to(device)\n",
    "\n",
    "design = [9,6,6,3]\n",
    "propkernel = graphPINN.KernelNN(design, torch.nn.ReLU)\n",
    "propgraph = graphPINN.BDPropGraph(propkernel).to(device)\n"
   ]
  },
  {
   "cell_type": "code",
   "execution_count": null,
   "id": "26bddb4e",
   "metadata": {
    "scrolled": true
   },
   "outputs": [],
   "source": [
    "def train(convgraph, epochs = 1, lbfgs = False):\n",
    "    \n",
    "    if lbfgs:\n",
    "        def closure():\n",
    "            # necessary for lbfgs\n",
    "            optimizer.zero_grad()\n",
    "            output = convgraph.forward(kdtree,iter=10)\n",
    "            loss = graphPINN.MHS.loss(output, true)\n",
    "            loss.backward()\n",
    "            return loss\n",
    "        optimizer = torch.optim.LBFGS(convgraph.kernel.parameters())\n",
    "    else:\n",
    "        optimizer = torch.optim.Adam(convgraph.kernel.parameters())\n",
    "    \n",
    "    validation_loss = [0]*epochs\n",
    "    for epoch in range(1,epochs):\n",
    "        trainLoader = pyg.loader.DataLoader(trainset, batch_size=batch_size,shuffle=False)\n",
    "        validLoader = pyg.loader.DataLoader(validset, batch_size=batch_size,shuffle=False)\n",
    "        \n",
    "        convgraph.train(True)\n",
    "        \n",
    "        running_loss = 0\n",
    "        running_vec = 0\n",
    "        running_mhs = 0\n",
    "        running_div = 0\n",
    "        iter = 0\n",
    "        skipped = 0\n",
    "        start_time = time()\n",
    "        \n",
    "        for data in tqdm(trainLoader):\n",
    "            data['bd','propagates','in'].edge_index, data['bd','propagates','in'].edge_attr = \\\n",
    "                        pyg.utils.dense_to_sparse(\n",
    "                                torch.ones(data['bd'].x.shape[0],data['in'].x.shape[0])\n",
    "                        )\n",
    "            \n",
    "            \n",
    "            data = data.to_homogeneous()\n",
    "            \n",
    "            data.to(device)\n",
    "            \n",
    "            optimizer.zero_grad()\n",
    "            \n",
    "            true = [data.y[:,0:3],data.y[:,3],data.y[:,4],data.y[:,5]]\n",
    "            \n",
    "            data.x[:,0:3] = propgraph.forward(data)\n",
    "            \n",
    "            pred = convgraph.forward(data, iter=1)\n",
    "            loss, vec_diff, mhs_diff, div_diff = graphPINN.MHS.loss(pred,true, logfn=None)\n",
    "            \n",
    "            iter += 1\n",
    "            \n",
    "            if loss.item() < 1000:\n",
    "                loss.backward()\n",
    "                if lbfgs:\n",
    "                    optimizer.step(closure)\n",
    "                else:\n",
    "                    optimizer.step()\n",
    "\n",
    "                running_loss += loss.item()\n",
    "                running_vec += vec_diff\n",
    "                running_mhs += mhs_diff\n",
    "                running_div += div_diff\n",
    "#                 logfn(f'epoch {epoch} iter {iter}/{len(trainLoader)}, loss {loss.item()}')\n",
    "            else:\n",
    "#                 logfn('loss skipped...')\n",
    "                skipped += 1\n",
    "            \n",
    "        logfn(f'Epoch {epoch} completed. Loss: {running_loss / (len(trainLoader)-skipped)}; Total skipped: {skipped}; Total time: {time()-start_time}', tq=False)\n",
    "        logfn(f'running vec: {running_vec / (len(trainLoader)-skipped)}, running mhs: {running_mhs / (len(trainLoader)-skipped)}, running div: {running_div / (len(trainLoader)-skipped)}')\n",
    "        \n",
    "        convgraph.train(False)\n",
    "        torch.save(convgraph.state_dict(), f'epoch-{epoch}_trainsize-{len(trainset)}_k-{k}.pt')\n",
    "        \n",
    "        start_time = time()\n",
    "        valid_skipped = 0\n",
    "        valid_vec = 0\n",
    "        valid_mhs = 0\n",
    "        valid_div = 0\n",
    "        running_valid = 0\n",
    "        for kdtree in tqdm(validLoader):\n",
    "            kdtree.to(device)\n",
    "            true = [kdtree.y[:,0:3],kdtree.y[:,3],kdtree.y[:,4],kdtree.y[:,5]]\n",
    "            pred = convgraph.forward(kdtree, iter=20)\n",
    "            loss, vec, mhs, div = graphPINN.MHS.loss(pred,true, logfn = None)\n",
    "            if loss.item() < 1000:\n",
    "                running_valid += loss.item()\n",
    "                valid_vec += vec\n",
    "                valid_mhs += mhs\n",
    "                valid_div += div\n",
    "            else:\n",
    "#                 logfn('  skipped')\n",
    "                valid_skipped += 1\n",
    "        validation_loss[epoch] = running_valid/(len(validLoader)-valid_skipped)\n",
    "        logfn(f'Validation loss: {validation_loss[epoch]}, validation time = {time()-start_time}', tq=False)\n",
    "        logfn(f'running vec: {valid_vec / (len(validLoader)-valid_skipped)}, running mhs: {valid_mhs / (len(validLoader)-valid_skipped)}, running div: {valid_div / (len(validLoader)-valid_skipped)}')\n",
    "        \n",
    "            \n",
    "    return running_loss, validation_loss\n",
    "\n",
    "loss, validation_loss = train(convgraph, epochs=5)\n",
    "logfn(validation_loss, tq=False)"
   ]
  },
  {
   "cell_type": "code",
   "execution_count": null,
   "id": "c127280b",
   "metadata": {},
   "outputs": [],
   "source": [
    "print(f'{pretty_size(torch.cuda.memory_allocated())}/{pretty_size(torch.cuda.max_memory_allocated())} allocated, ' +\n",
    "      f'{pretty_size(torch.cuda.memory_reserved())}/{pretty_size(torch.cuda.get_device_properties(0).total_memory)} reserved')"
   ]
  },
  {
   "cell_type": "code",
   "execution_count": null,
   "id": "a3d545d9",
   "metadata": {},
   "outputs": [],
   "source": [
    "def fullValidate(epochs, filePrefix='epoch-', filePostfix='_trainsize-3092_k-50.pt'):\n",
    "    convgraph.train(False)\n",
    "    validLoader = pyg.loader.DataLoader(validset, batch_size=batch_size,shuffle=False)\n",
    "    start_time = time()\n",
    "    \n",
    "    validation_loss = [0]*len(epochs)\n",
    "    for epoch in epochs:\n",
    "        convgraph.load_state_dict(torch.load(f'{filePrefix}{epoch}{filePostfix}'))\n",
    "        logfn(f'Loaded epoch {epoch}')\n",
    "        valid_skipped = 0\n",
    "        for kdtree in tqdm(validLoader):\n",
    "            kdtree.to(device)\n",
    "            true = [kdtree.y[:,0:3],kdtree.y[:,3],kdtree.y[:,4],kdtree.y[:,5]]\n",
    "            pred = convgraph.forward(kdtree, iter=20)\n",
    "            loss = graphPINN.MHS.loss(pred,true, logfn = logging.info)\n",
    "            if loss.item() < 100:\n",
    "                validation_loss[epoch] += loss.item()\n",
    "            else:\n",
    "                logging.info('  skipped')\n",
    "                valid_skipped += 1\n",
    "            validation_loss[epoch] = validation_loss[epoch]/(len(validLoader)-valid_skipped)\n",
    "        logfn(f'Validation loss: {validation_loss[epoch]}, validation time = {time()-start_time}')\n",
    "    return validation_loss\n",
    "\n",
    "validloss_full = fullValidate([0,1,2,3,4])"
   ]
  },
  {
   "cell_type": "code",
   "execution_count": null,
   "id": "604f24c4",
   "metadata": {},
   "outputs": [],
   "source": [
    "convgraph.load_state_dict(torch.load('epoch-0_trainsize-3092_k-100.pt'))"
   ]
  },
  {
   "cell_type": "code",
   "execution_count": null,
   "id": "f8cbd7f9",
   "metadata": {},
   "outputs": [],
   "source": [
    "sample = dataset[0]\n",
    "sample['bd','propagates','in'].edge_index, sample['bd','propagates','in'].edge_attr = \\\n",
    "            pyg.utils.dense_to_sparse(\n",
    "                        torch.ones(sample['bd'].x.shape[0],sample['in'].x.shape[0])\n",
    "            )\n",
    "print(sample)"
   ]
  },
  {
   "cell_type": "code",
   "execution_count": null,
   "id": "2276101d",
   "metadata": {},
   "outputs": [],
   "source": [
    "homosamp = sample.to_homogeneous()"
   ]
  },
  {
   "cell_type": "code",
   "execution_count": null,
   "id": "522ef4a0",
   "metadata": {},
   "outputs": [],
   "source": [
    "print(homosamp.x)"
   ]
  },
  {
   "cell_type": "code",
   "execution_count": null,
   "id": "cb6e4348",
   "metadata": {},
   "outputs": [],
   "source": [
    "print(homosamp.edge_index[:,homosamp.edge_type==1])"
   ]
  },
  {
   "cell_type": "code",
   "execution_count": null,
   "id": "c07f3e21",
   "metadata": {},
   "outputs": [],
   "source": [
    "edges = pyg.utils.dense_to_sparse(torch.ones(1063,22862))\n",
    "print(edges)"
   ]
  },
  {
   "cell_type": "code",
   "execution_count": null,
   "id": "dd6285c2",
   "metadata": {},
   "outputs": [],
   "source": [
    "class BDPropGraph(pyg.nn.MessagePassing):\n",
    "    def __init__(self, kernel):\n",
    "        super().__init__(aggr='mean')\n",
    "        self.kernel = kernel\n",
    "    def reset_parameters(self):\n",
    "        self.kernel.reset_parameters()\n",
    "    def message(self, x_i, x_j, pos_i, pos_j, edge_attr):\n",
    "        update = self.kernel.forward(torch.cat((pos_i,pos_j,x_j),1))\n",
    "        \n",
    "        return update\n",
    "    def update(self, aggr_out):\n",
    "        return aggr_out\n",
    "    \n",
    "    def forward(self, x_bd, x_int, pos_bd, pos_int):\n",
    "        M = pos_int.shape[0]\n",
    "        N = pos_bd.shape[0]\n",
    "        x = self.propagate([range(M) for j in range(N)], size=(M,N), x=(x_bd,x_int), pos=(pos_bd,pos_int))\n",
    "        return x"
   ]
  }
 ],
 "metadata": {
  "kernelspec": {
   "display_name": "Python 3 (ipykernel)",
   "language": "python",
   "name": "python3"
  },
  "language_info": {
   "codemirror_mode": {
    "name": "ipython",
    "version": 3
   },
   "file_extension": ".py",
   "mimetype": "text/x-python",
   "name": "python",
   "nbconvert_exporter": "python",
   "pygments_lexer": "ipython3",
   "version": "3.9.13"
  }
 },
 "nbformat": 4,
 "nbformat_minor": 5
}
