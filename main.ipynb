{
 "cells": [
  {
   "cell_type": "code",
   "execution_count": 1,
   "id": "45a621a7",
   "metadata": {},
   "outputs": [],
   "source": [
    "import numpy as np\n",
    "import torch\n",
    "import torch_geometric as pyg\n",
    "import graphPINN\n",
    "import math\n",
    "import logging\n",
    "from time import time\n",
    "from tqdm.notebook import tqdm\n",
    "from scipy.io import savemat, loadmat\n",
    "\n",
    "folder = \"C:\\\\Users\\\\nhmathew\\\\Documents\\\\code\\\\run-2023-03-24\\\\\""
   ]
  },
  {
   "cell_type": "code",
   "execution_count": 2,
   "id": "1868bce1",
   "metadata": {},
   "outputs": [],
   "source": [
    "def pretty_size(n,pow=0,b=1024,u='B',pre=['']+[p+'i'for p in'KMGTPEZY']):\n",
    "    pow,n=min(int(math.log(max(n*b**pow,1),b)),len(pre)-1),n*b**pow\n",
    "    return \"%%.%if %%s%%s\"%abs(pow%(-pow-1))%(n/b**float(pow),pre[pow],u)\n",
    "\n",
    "logging.basicConfig(filename=f'{folder}run.log',format='%(asctime)s - %(message)s', filemode='a+', level=logging.INFO)\n",
    "def logfn(message, tq=True):\n",
    "    logging.info(message)\n",
    "    if tq:\n",
    "        tqdm.write(message)\n",
    "    else:\n",
    "        print(message)"
   ]
  },
  {
   "cell_type": "code",
   "execution_count": 3,
   "id": "5d03cba2",
   "metadata": {},
   "outputs": [],
   "source": [
    "device = torch.device('cuda' if torch.cuda.is_available() else 'cpu')"
   ]
  },
  {
   "cell_type": "code",
   "execution_count": 4,
   "id": "db42feca",
   "metadata": {},
   "outputs": [
    {
     "name": "stdout",
     "output_type": "stream",
     "text": [
      "24.0 GiB of cuda memory\n"
     ]
    }
   ],
   "source": [
    "logfn(f\"{pretty_size(torch.cuda.get_device_properties(0).total_memory)} of {'cuda' if torch.cuda.is_available() else 'cpu'} memory\")"
   ]
  },
  {
   "cell_type": "code",
   "execution_count": 5,
   "id": "b9361de8",
   "metadata": {},
   "outputs": [
    {
     "name": "stderr",
     "output_type": "stream",
     "text": [
      "Processing...\n"
     ]
    },
    {
     "name": "stdout",
     "output_type": "stream",
     "text": [
      "[[        nan         nan         nan         nan         nan         nan]\n",
      " [-0.28392392  0.81494624 -0.71732434  0.23404927 -0.14284131 -0.00602433]\n",
      " [-0.36476276  0.77855327 -0.68413518  0.26200218 -0.0961105  -0.04541946]\n",
      " ...\n",
      " [ 0.55212457 -0.85547023 -0.84863978  0.38177943  0.2564918   0.25028223]\n",
      " [ 0.47173118 -0.82666037 -0.76495981  0.37654531  0.23326542  0.2541595 ]\n",
      " [ 0.40269666 -0.79750435 -0.68892387  0.37747599  0.20596134  0.25480139]]\n"
     ]
    },
    {
     "name": "stderr",
     "output_type": "stream",
     "text": [
      "\r",
      "  0%|                                                                                            | 0/6 [00:00<?, ?it/s]"
     ]
    },
    {
     "name": "stdout",
     "output_type": "stream",
     "text": [
      "[[        nan         nan         nan         nan         nan         nan]\n",
      " [-0.28392392  0.81494624 -0.71732434  0.23404927 -0.14284131 -0.00602433]\n",
      " [-0.36476276  0.77855327 -0.68413518  0.26200218 -0.0961105  -0.04541946]\n",
      " ...\n",
      " [ 0.55212457 -0.85547023 -0.84863978  0.38177943  0.2564918   0.25028223]\n",
      " [ 0.47173118 -0.82666037 -0.76495981  0.37654531  0.23326542  0.2541595 ]\n",
      " [ 0.40269666 -0.79750435 -0.68892387  0.37747599  0.20596134  0.25480139]]\n"
     ]
    },
    {
     "name": "stderr",
     "output_type": "stream",
     "text": [
      "\r",
      " 17%|██████████████                                                                      | 1/6 [00:09<00:49,  9.98s/it]"
     ]
    },
    {
     "name": "stdout",
     "output_type": "stream",
     "text": [
      "[[        nan         nan         nan         nan         nan         nan]\n",
      " [-0.69358968  0.19867853  0.16241398 -0.32219482 -0.35975336  0.66328238]\n",
      " [-0.6693937   0.17093083  0.14719214 -0.36720971 -0.29064197  0.53996955]\n",
      " ...\n",
      " [ 0.24235124  0.23656706  0.04864346  0.05830191  0.04006793 -1.03578976]\n",
      " [ 0.29020659  0.22094354  0.08837072  0.06546805  0.02957868 -1.01415173]\n",
      " [ 0.33349644  0.20429681  0.13059272  0.06888747  0.01586599 -0.99722353]]\n"
     ]
    },
    {
     "name": "stderr",
     "output_type": "stream",
     "text": [
      " 17%|██████████████                                                                      | 1/6 [00:16<01:22, 16.60s/it]\n"
     ]
    },
    {
     "ename": "KeyboardInterrupt",
     "evalue": "",
     "output_type": "error",
     "traceback": [
      "\u001b[1;31m---------------------------------------------------------------------------\u001b[0m",
      "\u001b[1;31mKeyboardInterrupt\u001b[0m                         Traceback (most recent call last)",
      "\u001b[1;32m~\\AppData\\Local\\Temp\\1\\ipykernel_5788\\1661981640.py\u001b[0m in \u001b[0;36m<module>\u001b[1;34m\u001b[0m\n\u001b[0;32m      2\u001b[0m \u001b[0mk\u001b[0m \u001b[1;33m=\u001b[0m \u001b[1;36m100\u001b[0m\u001b[1;33m\u001b[0m\u001b[1;33m\u001b[0m\u001b[0m\n\u001b[0;32m      3\u001b[0m \u001b[1;33m\u001b[0m\u001b[0m\n\u001b[1;32m----> 4\u001b[1;33m \u001b[0mdataset\u001b[0m \u001b[1;33m=\u001b[0m \u001b[0mgraphPINN\u001b[0m\u001b[1;33m.\u001b[0m\u001b[0mdata\u001b[0m\u001b[1;33m.\u001b[0m\u001b[0mMHSDataset\u001b[0m\u001b[1;33m(\u001b[0m\u001b[1;34mf'D:\\\\nats ML stuff\\\\data_k={k}'\u001b[0m\u001b[1;33m,\u001b[0m\u001b[0mk\u001b[0m\u001b[1;33m=\u001b[0m\u001b[0mk\u001b[0m\u001b[1;33m)\u001b[0m\u001b[1;33m\u001b[0m\u001b[1;33m\u001b[0m\u001b[0m\n\u001b[0m\u001b[0;32m      5\u001b[0m \u001b[1;33m\u001b[0m\u001b[0m\n\u001b[0;32m      6\u001b[0m \u001b[1;33m\u001b[0m\u001b[0m\n",
      "\u001b[1;32m~\\Documents\\code\\graphPINN\\graphPINN\\data.py\u001b[0m in \u001b[0;36m__init__\u001b[1;34m(self, root, k, transform, pre_transform, pre_filter)\u001b[0m\n\u001b[0;32m     60\u001b[0m         \u001b[0mself\u001b[0m\u001b[1;33m.\u001b[0m\u001b[0mallSharps\u001b[0m \u001b[1;33m=\u001b[0m \u001b[0m_allsharps\u001b[0m\u001b[1;33m\u001b[0m\u001b[1;33m\u001b[0m\u001b[0m\n\u001b[0;32m     61\u001b[0m         \u001b[0mself\u001b[0m\u001b[1;33m.\u001b[0m\u001b[0mk\u001b[0m\u001b[1;33m=\u001b[0m\u001b[0mk\u001b[0m\u001b[1;33m\u001b[0m\u001b[1;33m\u001b[0m\u001b[0m\n\u001b[1;32m---> 62\u001b[1;33m         \u001b[0msuper\u001b[0m\u001b[1;33m(\u001b[0m\u001b[1;33m)\u001b[0m\u001b[1;33m.\u001b[0m\u001b[0m__init__\u001b[0m\u001b[1;33m(\u001b[0m\u001b[0mroot\u001b[0m\u001b[1;33m,\u001b[0m \u001b[0mtransform\u001b[0m\u001b[1;33m,\u001b[0m \u001b[0mpre_transform\u001b[0m\u001b[1;33m,\u001b[0m \u001b[0mpre_filter\u001b[0m\u001b[1;33m)\u001b[0m\u001b[1;33m\u001b[0m\u001b[1;33m\u001b[0m\u001b[0m\n\u001b[0m\u001b[0;32m     63\u001b[0m     \u001b[1;33m@\u001b[0m\u001b[0mproperty\u001b[0m\u001b[1;33m\u001b[0m\u001b[1;33m\u001b[0m\u001b[0m\n\u001b[0;32m     64\u001b[0m     \u001b[1;32mdef\u001b[0m \u001b[0mraw_file_names\u001b[0m\u001b[1;33m(\u001b[0m\u001b[0mself\u001b[0m\u001b[1;33m)\u001b[0m\u001b[1;33m:\u001b[0m\u001b[1;33m\u001b[0m\u001b[1;33m\u001b[0m\u001b[0m\n",
      "\u001b[1;32m~\\Documents\\code\\graphPINN\\torch_geometric\\data\\dataset.py\u001b[0m in \u001b[0;36m__init__\u001b[1;34m(self, root, transform, pre_transform, pre_filter, log)\u001b[0m\n\u001b[0;32m     92\u001b[0m \u001b[1;33m\u001b[0m\u001b[0m\n\u001b[0;32m     93\u001b[0m         \u001b[1;32mif\u001b[0m \u001b[0mself\u001b[0m\u001b[1;33m.\u001b[0m\u001b[0mhas_process\u001b[0m\u001b[1;33m:\u001b[0m\u001b[1;33m\u001b[0m\u001b[1;33m\u001b[0m\u001b[0m\n\u001b[1;32m---> 94\u001b[1;33m             \u001b[0mself\u001b[0m\u001b[1;33m.\u001b[0m\u001b[0m_process\u001b[0m\u001b[1;33m(\u001b[0m\u001b[1;33m)\u001b[0m\u001b[1;33m\u001b[0m\u001b[1;33m\u001b[0m\u001b[0m\n\u001b[0m\u001b[0;32m     95\u001b[0m \u001b[1;33m\u001b[0m\u001b[0m\n\u001b[0;32m     96\u001b[0m     \u001b[1;32mdef\u001b[0m \u001b[0mindices\u001b[0m\u001b[1;33m(\u001b[0m\u001b[0mself\u001b[0m\u001b[1;33m)\u001b[0m \u001b[1;33m->\u001b[0m \u001b[0mSequence\u001b[0m\u001b[1;33m:\u001b[0m\u001b[1;33m\u001b[0m\u001b[1;33m\u001b[0m\u001b[0m\n",
      "\u001b[1;32m~\\Documents\\code\\graphPINN\\torch_geometric\\data\\dataset.py\u001b[0m in \u001b[0;36m_process\u001b[1;34m(self)\u001b[0m\n\u001b[0;32m    219\u001b[0m \u001b[1;33m\u001b[0m\u001b[0m\n\u001b[0;32m    220\u001b[0m         \u001b[0mmakedirs\u001b[0m\u001b[1;33m(\u001b[0m\u001b[0mself\u001b[0m\u001b[1;33m.\u001b[0m\u001b[0mprocessed_dir\u001b[0m\u001b[1;33m)\u001b[0m\u001b[1;33m\u001b[0m\u001b[1;33m\u001b[0m\u001b[0m\n\u001b[1;32m--> 221\u001b[1;33m         \u001b[0mself\u001b[0m\u001b[1;33m.\u001b[0m\u001b[0mprocess\u001b[0m\u001b[1;33m(\u001b[0m\u001b[1;33m)\u001b[0m\u001b[1;33m\u001b[0m\u001b[1;33m\u001b[0m\u001b[0m\n\u001b[0m\u001b[0;32m    222\u001b[0m \u001b[1;33m\u001b[0m\u001b[0m\n\u001b[0;32m    223\u001b[0m         \u001b[0mpath\u001b[0m \u001b[1;33m=\u001b[0m \u001b[0mosp\u001b[0m\u001b[1;33m.\u001b[0m\u001b[0mjoin\u001b[0m\u001b[1;33m(\u001b[0m\u001b[0mself\u001b[0m\u001b[1;33m.\u001b[0m\u001b[0mprocessed_dir\u001b[0m\u001b[1;33m,\u001b[0m \u001b[1;34m'pre_transform.pt'\u001b[0m\u001b[1;33m)\u001b[0m\u001b[1;33m\u001b[0m\u001b[1;33m\u001b[0m\u001b[0m\n",
      "\u001b[1;32m~\\Documents\\code\\graphPINN\\graphPINN\\data.py\u001b[0m in \u001b[0;36mprocess\u001b[1;34m(self)\u001b[0m\n\u001b[0;32m    106\u001b[0m                     \u001b[0mself\u001b[0m\u001b[1;33m.\u001b[0m\u001b[0mpre_transform\u001b[0m\u001b[1;33m(\u001b[0m\u001b[0mdata\u001b[0m\u001b[1;33m=\u001b[0m\u001b[0mdata\u001b[0m\u001b[1;33m[\u001b[0m\u001b[1;34m'in'\u001b[0m\u001b[1;33m]\u001b[0m\u001b[1;33m)\u001b[0m\u001b[1;33m\u001b[0m\u001b[1;33m\u001b[0m\u001b[0m\n\u001b[0;32m    107\u001b[0m \u001b[1;33m\u001b[0m\u001b[0m\n\u001b[1;32m--> 108\u001b[1;33m                 \u001b[0mtorch\u001b[0m\u001b[1;33m.\u001b[0m\u001b[0msave\u001b[0m\u001b[1;33m(\u001b[0m\u001b[0mdata\u001b[0m\u001b[1;33m,\u001b[0m \u001b[0mosp\u001b[0m\u001b[1;33m.\u001b[0m\u001b[0mjoin\u001b[0m\u001b[1;33m(\u001b[0m\u001b[0mself\u001b[0m\u001b[1;33m.\u001b[0m\u001b[0mprocessed_dir\u001b[0m\u001b[1;33m,\u001b[0m \u001b[1;34mf'simulation_{counter}.pt'\u001b[0m\u001b[1;33m)\u001b[0m\u001b[1;33m)\u001b[0m\u001b[1;33m\u001b[0m\u001b[1;33m\u001b[0m\u001b[0m\n\u001b[0m\u001b[0;32m    109\u001b[0m                 \u001b[0mcounter\u001b[0m \u001b[1;33m+=\u001b[0m \u001b[1;36m1\u001b[0m\u001b[1;33m\u001b[0m\u001b[1;33m\u001b[0m\u001b[0m\n\u001b[0;32m    110\u001b[0m \u001b[1;33m\u001b[0m\u001b[0m\n",
      "\u001b[1;32m~\\Anaconda3\\lib\\site-packages\\torch\\serialization.py\u001b[0m in \u001b[0;36msave\u001b[1;34m(obj, f, pickle_module, pickle_protocol, _use_new_zipfile_serialization)\u001b[0m\n\u001b[0;32m    421\u001b[0m     \u001b[1;32mif\u001b[0m \u001b[0m_use_new_zipfile_serialization\u001b[0m\u001b[1;33m:\u001b[0m\u001b[1;33m\u001b[0m\u001b[1;33m\u001b[0m\u001b[0m\n\u001b[0;32m    422\u001b[0m         \u001b[1;32mwith\u001b[0m \u001b[0m_open_zipfile_writer\u001b[0m\u001b[1;33m(\u001b[0m\u001b[0mf\u001b[0m\u001b[1;33m)\u001b[0m \u001b[1;32mas\u001b[0m \u001b[0mopened_zipfile\u001b[0m\u001b[1;33m:\u001b[0m\u001b[1;33m\u001b[0m\u001b[1;33m\u001b[0m\u001b[0m\n\u001b[1;32m--> 423\u001b[1;33m             \u001b[0m_save\u001b[0m\u001b[1;33m(\u001b[0m\u001b[0mobj\u001b[0m\u001b[1;33m,\u001b[0m \u001b[0mopened_zipfile\u001b[0m\u001b[1;33m,\u001b[0m \u001b[0mpickle_module\u001b[0m\u001b[1;33m,\u001b[0m \u001b[0mpickle_protocol\u001b[0m\u001b[1;33m)\u001b[0m\u001b[1;33m\u001b[0m\u001b[1;33m\u001b[0m\u001b[0m\n\u001b[0m\u001b[0;32m    424\u001b[0m             \u001b[1;32mreturn\u001b[0m\u001b[1;33m\u001b[0m\u001b[1;33m\u001b[0m\u001b[0m\n\u001b[0;32m    425\u001b[0m     \u001b[1;32melse\u001b[0m\u001b[1;33m:\u001b[0m\u001b[1;33m\u001b[0m\u001b[1;33m\u001b[0m\u001b[0m\n",
      "\u001b[1;32m~\\Anaconda3\\lib\\site-packages\\torch\\serialization.py\u001b[0m in \u001b[0;36m_save\u001b[1;34m(obj, zip_file, pickle_module, pickle_protocol)\u001b[0m\n\u001b[0;32m    648\u001b[0m         \u001b[1;31m# Now that it is on the CPU we can directly copy it into the zip file\u001b[0m\u001b[1;33m\u001b[0m\u001b[1;33m\u001b[0m\u001b[0m\n\u001b[0;32m    649\u001b[0m         \u001b[0mnum_bytes\u001b[0m \u001b[1;33m=\u001b[0m \u001b[0mstorage\u001b[0m\u001b[1;33m.\u001b[0m\u001b[0mnbytes\u001b[0m\u001b[1;33m(\u001b[0m\u001b[1;33m)\u001b[0m\u001b[1;33m\u001b[0m\u001b[1;33m\u001b[0m\u001b[0m\n\u001b[1;32m--> 650\u001b[1;33m         \u001b[0mzip_file\u001b[0m\u001b[1;33m.\u001b[0m\u001b[0mwrite_record\u001b[0m\u001b[1;33m(\u001b[0m\u001b[0mname\u001b[0m\u001b[1;33m,\u001b[0m \u001b[0mstorage\u001b[0m\u001b[1;33m.\u001b[0m\u001b[0mdata_ptr\u001b[0m\u001b[1;33m(\u001b[0m\u001b[1;33m)\u001b[0m\u001b[1;33m,\u001b[0m \u001b[0mnum_bytes\u001b[0m\u001b[1;33m)\u001b[0m\u001b[1;33m\u001b[0m\u001b[1;33m\u001b[0m\u001b[0m\n\u001b[0m\u001b[0;32m    651\u001b[0m \u001b[1;33m\u001b[0m\u001b[0m\n\u001b[0;32m    652\u001b[0m \u001b[1;33m\u001b[0m\u001b[0m\n",
      "\u001b[1;31mKeyboardInterrupt\u001b[0m: "
     ]
    }
   ],
   "source": [
    "batch_size = 1\n",
    "k = 100\n",
    "\n",
    "dataset = graphPINN.data.MHSDataset(f'D:\\\\nats ML stuff\\\\data_k={k}',k=k)\n",
    "\n",
    "\n",
    "trainset, validset, testset = torch.utils.data.random_split(dataset,[0.8, 0.1, 0.1],generator=torch.Generator().manual_seed(314))\n",
    "# trainset, validset, testset = torch.utils.data.random_split(dataset,[0.005, 0.001, 0.994],generator=torch.Generator().manual_seed(314))"
   ]
  },
  {
   "cell_type": "code",
   "execution_count": null,
   "id": "3e00a72e",
   "metadata": {},
   "outputs": [],
   "source": [
    "convdesign = [18,9,6,3]\n",
    "# convdesign = [18,3]\n",
    "convkernel = graphPINN.KernelNN(convdesign, torch.nn.ReLU)\n",
    "convgraph = graphPINN.ConvGraph(convkernel)\n",
    "\n",
    "propdesign = [12,6,3]\n",
    "# propdesign = [12,3]\n",
    "propkernel = graphPINN.KernelNN(propdesign, torch.nn.ReLU)\n",
    "propgraph = graphPINN.BDPropGraph(propkernel)\n",
    "\n",
    "model = graphPINN.FullModel(propgraph, convgraph).to(device)"
   ]
  },
  {
   "cell_type": "code",
   "execution_count": null,
   "id": "b11b6569",
   "metadata": {
    "scrolled": false
   },
   "outputs": [],
   "source": [
    "def train(model, epochs = 1, lbfgs = False, lossindex=-1, start_epoch = 0):\n",
    "    \n",
    "    if lbfgs:\n",
    "        def closure():\n",
    "            # necessary for lbfgs\n",
    "            optimizer.zero_grad()\n",
    "            output = model.forward(data)\n",
    "            loss = graphPINN.MHS.loss(output, true)\n",
    "            loss.backward()\n",
    "            return loss\n",
    "        optimizer = torch.optim.LBFGS(model.parameters())\n",
    "    else:\n",
    "        optimizer = torch.optim.Adam(model.parameters())\n",
    "    \n",
    "    training_loss   = torch.zeros(4,epochs)\n",
    "    validation_loss = torch.zeros(4,epochs)\n",
    "    \n",
    "    if start_epoch != 0:\n",
    "        model.load_state_dict(torch.load(f'{folder}epoch-{start_epoch}_trainsize-{len(trainset)}_k-{k}.pt'))\n",
    "    for epoch in range(start_epoch, epochs):\n",
    "        trainLoader = pyg.loader.DataLoader(trainset, batch_size=batch_size,shuffle=False)\n",
    "        validLoader = pyg.loader.DataLoader(validset, batch_size=batch_size,shuffle=False)\n",
    "        \n",
    "        convgraph.train(True)\n",
    "        \n",
    "        running_loss = 0\n",
    "        running_vec = 0\n",
    "        running_mhs = 0\n",
    "        running_div = 0\n",
    "        iter = 0\n",
    "        skipped = 0\n",
    "        start_time = time()\n",
    "        \n",
    "        for data in tqdm(trainLoader):\n",
    "            data['bd','propagates','in'].edge_index, data['bd','propagates','in'].edge_attr = \\\n",
    "                        pyg.utils.dense_to_sparse(\n",
    "                                torch.ones(data['bd'].x.shape[0],data['in'].x.shape[0])\n",
    "                        )\n",
    "            \n",
    "            data = data.to_homogeneous()\n",
    "            data.to(device)\n",
    "            \n",
    "            optimizer.zero_grad()\n",
    "            \n",
    "            true = [data.y[:,0:3],data.x[:,3],data.x[:,4],data.x[:,5]]\n",
    "            \n",
    "            pred = model.forward(data)\n",
    "            \n",
    "            loss, vec_diff, mhs_diff, div_diff = graphPINN.MHS.loss(pred,true, index=lossindex, logfn=None)\n",
    "            \n",
    "            iter += 1\n",
    "            \n",
    "            if vec_diff+mhs_diff < 1e2:\n",
    "                loss.backward()\n",
    "                if lbfgs:\n",
    "                    optimizer.step(closure)\n",
    "                else:\n",
    "                    optimizer.step()\n",
    "\n",
    "                running_loss += loss.item()\n",
    "                running_vec += vec_diff\n",
    "                running_mhs += mhs_diff\n",
    "                running_div += div_diff\n",
    "                logfn(f'epoch {epoch+1} iter {iter}/{len(trainLoader)}, loss {loss.item()}')\n",
    "            else:\n",
    "                logfn(f'loss {vec_diff}+{mhs_diff}={vec_diff+mhs_diff}  skipped...')\n",
    "                skipped += 1\n",
    "            \n",
    "        training_loss[:,epoch] = torch.tensor((running_vec/(len(trainLoader)-skipped),\n",
    "                                               running_mhs/(len(trainLoader)-skipped),\n",
    "                                               running_div/(len(trainLoader)-skipped),\n",
    "                                              running_loss/(len(trainLoader)-skipped)\n",
    "                                 ))\n",
    "        logfn(f'Epoch {epoch+1} completed. Loss: {training_loss[3,epoch]}; Total skipped: {skipped}; Total time: {time()-start_time}', tq=True)\n",
    "        logfn(f'running vec: {training_loss[0,epoch]}, running mhs: {training_loss[1,epoch]}, running div: {training_loss[2,epoch]}')\n",
    "        \n",
    "        model.train(False)\n",
    "        torch.save(model.state_dict(), f'{folder}epoch-{epoch+1}_trainsize-{len(trainset)}_k-{k}.pt')\n",
    "        \n",
    "        start_time = time()\n",
    "        valid_skipped = 0\n",
    "        valid_vec = 0\n",
    "        valid_mhs = 0\n",
    "        valid_div = 0\n",
    "        running_valid = 0\n",
    "        for data in validLoader:\n",
    "            data['bd','propagates','in'].edge_index, data['bd','propagates','in'].edge_attr = \\\n",
    "                        pyg.utils.dense_to_sparse(\n",
    "                                torch.ones(data['bd'].x.shape[0],data['in'].x.shape[0])\n",
    "                        )\n",
    "            \n",
    "            data = data.to_homogeneous()\n",
    "            data.to(device)\n",
    "            \n",
    "            true = [data.y[:,0:3],data.x[:,3],data.x[:,4],data.x[:,5]]\n",
    "            pred = model.forward(data)\n",
    "            \n",
    "            loss, vec, mhs, div = graphPINN.MHS.loss(pred,true, index=lossindex, logfn=None)\n",
    "            \n",
    "            if vec+mhs < 2e2:\n",
    "                running_valid += loss.item()\n",
    "                valid_vec += vec\n",
    "                valid_mhs += mhs\n",
    "                valid_div += div\n",
    "            else:\n",
    "#                 logfn('  skipped')\n",
    "                valid_skipped += 1\n",
    "        validation_loss[:,epoch] = torch.tensor((valid_vec/(len(validLoader)-valid_skipped),\n",
    "                                                 valid_mhs/(len(validLoader)-valid_skipped),\n",
    "                                                 valid_div/(len(validLoader)-valid_skipped),\n",
    "                                             running_valid/(len(validLoader)-valid_skipped)\n",
    "                                   ))\n",
    "        logfn(f'Validation loss: {validation_loss[3,epoch]}, total skipped: {valid_skipped}, validation time: {time()-start_time}', tq=True)\n",
    "#         logfn(f'running vec: {validation_loss[0,epoch]}, running mhs: {validation_loss[1,epoch]}, running div: {validation_loss[2,epoch]}')\n",
    "        \n",
    "            \n",
    "    return running_loss, training_loss, validation_loss\n",
    "\n",
    "epochs = 5\n",
    "key = 0\n",
    "lossdict = {'index_array':[[0,1,2],[3,4,5],[0,1,2],[3,4,5],-1]}\n",
    "for index in tqdm(lossdict['index_array']):\n",
    "    print(f'key {key} - index {index}')\n",
    "    if key == 0:\n",
    "        loss, training_loss, validation_loss = train(model, epochs=epochs, lossindex=index)\n",
    "    else:\n",
    "        loss, training_loss, validation_loss = train(model, epochs=epochs, lossindex=index)\n",
    "    torch.save(model.state_dict(), f'{folder}key-{key}_trainsize-{len(trainset)}_k-{k}.pt')\n",
    "    lossdict[f'train{key}'] = training_loss.numpy()\n",
    "    lossdict[f'valid{key}'] = validation_loss.numpy()\n",
    "    logfn(f'training loss:\\n{lossdict[f\"train{key}\"]}', tq=False)\n",
    "    logfn(f'validation loss:\\n{lossdict[f\"valid{key}\"]}', tq=False)\n",
    "    torch.save(model.state_dict(), f'{folder}model_key-{key}_trainsize-{len(trainset)}_k-{k}.pt')\n",
    "    key = key + 1\n",
    "    savemat(f'{folder}loss_key-{key}_params-{math.prod(convdesign)+math.prod(propdesign)}.mat', lossdict)\n",
    "lossdict['index_array'] = str(lossdict['index_array'])"
   ]
  },
  {
   "cell_type": "code",
   "execution_count": null,
   "id": "f0cc9c91",
   "metadata": {},
   "outputs": [],
   "source": [
    "savemat(f'{folder}loss_{epochs}_trainsize-{len(trainset)}_k-{k}_params-{math.prod(convdesign)+math.prod(propdesign)}.mat', lossdict)"
   ]
  },
  {
   "cell_type": "code",
   "execution_count": null,
   "id": "c127280b",
   "metadata": {},
   "outputs": [],
   "source": [
    "print(f'{pretty_size(torch.cuda.memory_allocated())}/{pretty_size(torch.cuda.max_memory_allocated())} allocated, ' +\n",
    "      f'{pretty_size(torch.cuda.memory_reserved())}/{pretty_size(torch.cuda.get_device_properties(0).total_memory)} reserved')"
   ]
  },
  {
   "cell_type": "code",
   "execution_count": null,
   "id": "604f24c4",
   "metadata": {},
   "outputs": [],
   "source": [
    "# convgraph.load_state_dict(torch.load('epoch-0_trainsize-3092_k-100.pt'))"
   ]
  },
  {
   "cell_type": "code",
   "execution_count": null,
   "id": "f8cbd7f9",
   "metadata": {},
   "outputs": [],
   "source": [
    "sample = dataset[0]\n",
    "sample['bd','propagates','in'].edge_index, sample['bd','propagates','in'].edge_attr = \\\n",
    "            pyg.utils.dense_to_sparse(\n",
    "                        torch.ones(sample['bd'].x.shape[0],sample['in'].x.shape[0])\n",
    "            )\n",
    "print(sample)"
   ]
  },
  {
   "cell_type": "code",
   "execution_count": null,
   "id": "2276101d",
   "metadata": {},
   "outputs": [],
   "source": [
    "homosamp = sample.to_homogeneous()"
   ]
  },
  {
   "cell_type": "code",
   "execution_count": null,
   "id": "522ef4a0",
   "metadata": {},
   "outputs": [],
   "source": [
    "print(sample['in'].x)"
   ]
  },
  {
   "cell_type": "code",
   "execution_count": null,
   "id": "b332f7f5",
   "metadata": {},
   "outputs": [],
   "source": [
    "print(homosamp.edge_index[:,homosamp.edge_type==1])"
   ]
  },
  {
   "cell_type": "code",
   "execution_count": null,
   "id": "cb6e4348",
   "metadata": {},
   "outputs": [],
   "source": [
    "lossdict"
   ]
  },
  {
   "cell_type": "code",
   "execution_count": null,
   "id": "7359b2f4",
   "metadata": {},
   "outputs": [],
   "source": [
    "mat = loadmat(f'{folder}loss_{5}_trainsize-{len(trainset)}_k-{k}_params-90.mat')"
   ]
  },
  {
   "cell_type": "code",
   "execution_count": null,
   "id": "9ba6447e",
   "metadata": {},
   "outputs": [],
   "source": [
    "for key in mat:\n",
    "    print(key)\n",
    "    print(mat[key])"
   ]
  },
  {
   "cell_type": "code",
   "execution_count": null,
   "id": "b62af8dd",
   "metadata": {},
   "outputs": [],
   "source": [
    "range(5)"
   ]
  },
  {
   "cell_type": "code",
   "execution_count": null,
   "id": "55d3acd4",
   "metadata": {},
   "outputs": [],
   "source": []
  }
 ],
 "metadata": {
  "kernelspec": {
   "display_name": "Python 3 (ipykernel)",
   "language": "python",
   "name": "python3"
  },
  "language_info": {
   "codemirror_mode": {
    "name": "ipython",
    "version": 3
   },
   "file_extension": ".py",
   "mimetype": "text/x-python",
   "name": "python",
   "nbconvert_exporter": "python",
   "pygments_lexer": "ipython3",
   "version": "3.9.13"
  }
 },
 "nbformat": 4,
 "nbformat_minor": 5
}
