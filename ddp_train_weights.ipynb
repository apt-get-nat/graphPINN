{
 "cells": [
  {
   "cell_type": "code",
   "execution_count": 1,
   "id": "607cfb86",
   "metadata": {},
   "outputs": [],
   "source": [
    "import numpy as np\n",
    "import torch\n",
    "import torch_geometric as pyg\n",
    "import graphPINN\n",
    "import math\n",
    "\n",
    "from time import time\n",
    "from tqdm.notebook import tqdm\n",
    "from scipy.io import savemat, loadmat\n",
    "import os\n",
    "\n",
    "os.environ['MKL_THREADING_LAYER'] = 'GNU' # fixes a weird intel multiprocessing error with numpy"
   ]
  },
  {
   "cell_type": "code",
   "execution_count": 2,
   "id": "95577920",
   "metadata": {},
   "outputs": [],
   "source": [
    "folder = \"/home/nasa/code/checkpoints/2023-04-05/\"\n",
    "if not os.path.exists(folder):\n",
    "    os.makedirs(folder)"
   ]
  },
  {
   "cell_type": "code",
   "execution_count": 3,
   "id": "ed4cc55c",
   "metadata": {},
   "outputs": [],
   "source": [
    "logfn = graphPINN.debug.Logfn(folder)"
   ]
  },
  {
   "cell_type": "code",
   "execution_count": 4,
   "id": "451d7bad",
   "metadata": {},
   "outputs": [
    {
     "name": "stdout",
     "output_type": "stream",
     "text": [
      "0: 48.0 GiB of cuda memory\n",
      "1: 48.0 GiB of cuda memory\n"
     ]
    }
   ],
   "source": [
    "device = torch.device('cuda' if torch.cuda.is_available() else 'cpu')\n",
    "for j in range(torch.cuda.device_count()):\n",
    "    logfn(f\"{j}: {graphPINN.debug.pretty_size(torch.cuda.get_device_properties(j).total_memory)} of {'cuda' if torch.cuda.is_available() else 'cpu'} memory\")"
   ]
  },
  {
   "cell_type": "code",
   "execution_count": 5,
   "id": "bd574139",
   "metadata": {},
   "outputs": [],
   "source": [
    "k = 100\n",
    "ddp = True\n",
    "\n",
    "dataset = graphPINN.data.MHSDataset(f'/mnt/d/data_k={k}',k=k)\n",
    "propdesign = [12,6,3]\n",
    "# propdesign = [12,3]\n",
    "convdesign = [18,9,6,3]\n",
    "# convdesign = [18,3]\n",
    "\n",
    "propkernel = graphPINN.KernelNN(propdesign, torch.nn.ReLU)\n",
    "propgraph = graphPINN.BDPropGraph(propkernel)\n",
    "convkernel = graphPINN.KernelNN(convdesign, torch.nn.ReLU)\n",
    "convgraph = graphPINN.ConvGraph(convkernel)\n",
    "model = graphPINN.FullModel(propgraph, convgraph)\n",
    "\n",
    "#trainset, validset, testset = torch.utils.data.random_split(dataset,[0.8, 0.1, 0.1],generator=torch.Generator().manual_seed(314))\n",
    "trainset, validset, testset = torch.utils.data.random_split(dataset,[0.01, 0.005, 0.985],generator=torch.Generator().manual_seed(314))"
   ]
  },
  {
   "cell_type": "code",
   "execution_count": null,
   "id": "0bc8e6ce",
   "metadata": {
    "scrolled": false
   },
   "outputs": [
    {
     "data": {
      "application/vnd.jupyter.widget-view+json": {
       "model_id": "70b2dd014d7d4446b83df36b56ef858b",
       "version_major": 2,
       "version_minor": 0
      },
      "text/plain": [
       "  0%|          | 0/5 [00:00<?, ?it/s]"
      ]
     },
     "metadata": {},
     "output_type": "display_data"
    },
    {
     "name": "stdout",
     "output_type": "stream",
     "text": [
      "key 0 - index [0, 1, 2]\n",
      "Starting on rank 0\n",
      "Starting on rank 1\n"
     ]
    }
   ],
   "source": [
    "key = 0\n",
    "lossdict = {'index_array':[[0,1,2],[3,4,5],[0,1,2],[3,4,5],-1]}\n",
    "\n",
    "for index in tqdm(lossdict['index_array']):\n",
    "    print(f'key {key} - index {index}')\n",
    "    training_loss, validation_loss, state_dict = graphPINN.learn.train(\n",
    "                model, trainset, validset,\n",
    "                epochs=5, logfn=logfn, checkpointfile=folder, use_ddp = ddp)\n",
    "    model.load_state_dict(state_dict)\n",
    "    lossdict[f'train{key}'] = (sum(training_loss)/len(training_loss)).cpu().numpy()\n",
    "    lossdict[f'valid{key}'] = (sum(validation_loss)/len(validation_loss)).cpu().numpy()\n",
    "    logfn(f'training loss:\\n{lossdict[f\"train{key}\"]}')\n",
    "    logfn(f'validation loss:\\n{lossdict[f\"valid{key}\"]}')\n",
    "    savemat(f'{folder}loss_key-{key}_params-{math.prod(convdesign)+math.prod(propdesign)}.mat', lossdict)\n",
    "    \n",
    "    key = key + 1\n",
    "\n",
    "lossdict['index_array'] = str(lossdict['index_array'])\n",
    "torch.save(model, f'{folder}model_trainsize-{len(trainset)}_k-{k}_params-{math.prod(convdesign)+math.prod(propdesign)}.pt')\n",
    "savemat(f'{folder}loss_{epochs}_trainsize-{len(trainset)}_k-{k}_params-{math.prod(convdesign)+math.prod(propdesign)}.mat', lossdict)"
   ]
  },
  {
   "cell_type": "code",
   "execution_count": null,
   "id": "0000fb78",
   "metadata": {},
   "outputs": [],
   "source": [
    "print((sum(training_loss)/len(training_loss)).cpu().numpy())\n",
    "print((sum(validation_loss)/len(validation_loss)).cpu().numpy())"
   ]
  },
  {
   "cell_type": "code",
   "execution_count": null,
   "id": "0948f813",
   "metadata": {},
   "outputs": [],
   "source": []
  }
 ],
 "metadata": {
  "kernelspec": {
   "display_name": "Python [conda env:.conda-pinn]",
   "language": "python",
   "name": "conda-env-.conda-pinn-py"
  },
  "language_info": {
   "codemirror_mode": {
    "name": "ipython",
    "version": 3
   },
   "file_extension": ".py",
   "mimetype": "text/x-python",
   "name": "python",
   "nbconvert_exporter": "python",
   "pygments_lexer": "ipython3",
   "version": "3.10.10"
  }
 },
 "nbformat": 4,
 "nbformat_minor": 5
}
