{
 "cells": [
  {
   "cell_type": "code",
   "execution_count": 1,
   "id": "607cfb86",
   "metadata": {},
   "outputs": [],
   "source": [
    "import numpy as np\n",
    "import torch\n",
    "import torch_geometric as pyg\n",
    "import graphPINN\n",
    "import math\n",
    "\n",
    "from time import time\n",
    "from tqdm.notebook import tqdm\n",
    "from scipy.io import savemat, loadmat\n",
    "import os\n",
    "\n",
    "# os.environ['MKL_THREADING_LAYER'] = 'GNU' # fixes a weird intel multiprocessing error with numpy"
   ]
  },
  {
   "cell_type": "code",
   "execution_count": 2,
   "id": "95577920",
   "metadata": {},
   "outputs": [],
   "source": [
    "folder = \"C:\\\\Users\\\\NASA\\\\Documents\\\\ML_checkpoints\\\\2023-04-27\\\\\"\n",
    "if not os.path.exists(folder):\n",
    "    os.makedirs(folder)"
   ]
  },
  {
   "cell_type": "code",
   "execution_count": 3,
   "id": "ed4cc55c",
   "metadata": {},
   "outputs": [],
   "source": [
    "logfn = graphPINN.debug.Logfn(folder)"
   ]
  },
  {
   "cell_type": "code",
   "execution_count": 4,
   "id": "451d7bad",
   "metadata": {},
   "outputs": [
    {
     "name": "stdout",
     "output_type": "stream",
     "text": [
      "0: 48.0 GiB of cuda memory\n",
      "1: 48.0 GiB of cuda memory\n"
     ]
    }
   ],
   "source": [
    "device = torch.device('cuda' if torch.cuda.is_available() else 'cpu')\n",
    "for j in range(torch.cuda.device_count()):\n",
    "    logfn(f\"{j}: {graphPINN.debug.pretty_size(torch.cuda.get_device_properties(j).total_memory)} of {'cuda' if torch.cuda.is_available() else 'cpu'} memory\")"
   ]
  },
  {
   "cell_type": "code",
   "execution_count": 4,
   "id": "bd574139",
   "metadata": {},
   "outputs": [],
   "source": [
    "k = 100\n",
    "ddp = True\n",
    "\n",
    "dataset = graphPINN.data.MHSDataset(f'D:\\\\scattered_data_k={k}',k=k)\n",
    "propdesign = [12,6,3]\n",
    "# propdesign = [12,3]\n",
    "convdesign = [18,9,6,3]\n",
    "# convdesign = [18,3]\n",
    "\n",
    "propkernel = graphPINN.KernelNN(propdesign, torch.nn.ReLU)\n",
    "propgraph = graphPINN.BDPropGraph(propkernel)\n",
    "convkernel = graphPINN.KernelNN(convdesign, torch.nn.ReLU)\n",
    "convgraph = graphPINN.ConvGraph(convkernel)\n",
    "model = graphPINN.FullModel(propgraph, convgraph)\n",
    "\n",
    "trainset, validset, testset = torch.utils.data.random_split(dataset,[0.8, 0.1, 0.1],generator=torch.Generator().manual_seed(314))\n",
    "# trainset, validset, testset = torch.utils.data.random_split(dataset,[0.01, 0.005, 0.985],generator=torch.Generator().manual_seed(314))"
   ]
  },
  {
   "cell_type": "code",
   "execution_count": null,
   "id": "0bc8e6ce",
   "metadata": {
    "scrolled": false
   },
   "outputs": [
    {
     "name": "stdout",
     "output_type": "stream",
     "text": [
      "key 0 - index [0, 1, 2]\n",
      "Starting on rank 0\n",
      "Starting on rank 1\n",
      "  [0] iter 1/3, loss 7.329127311706543\n",
      "  [1] iter 1/3, loss 5.297978401184082\n",
      "  [0] iter 2/3, loss 5.2879533767700195\n",
      "  [1] iter 2/3, loss 6.113253593444824\n",
      "  [0] iter 3/3, loss 7.863614559173584\n",
      "[0] Epoch 1 completed. Loss: 6.826898574829102; Total time: 782.5795669555664\n",
      "[0] running vec: 1.3391778469085693, running mhs: 5.487493515014648, running div: 0.00022701657144352794\n",
      "  [1] iter 3/3, loss 7.451117515563965\n",
      "[1] Epoch 1 completed. Loss: 6.287449836730957; Total time: 785.504088640213\n",
      "[1] running vec: 1.2544631958007812, running mhs: 5.032764911651611, running div: 0.00022169403382577002\n",
      "  [0] iter 1/1, loss 6.318548202514648\n",
      "[0] Validation loss: 6.318548202514648; validation time: 260.70579767227173\n",
      "[0] running vec: 1.3763699531555176, running mhs: 4.941967487335205, running div: 0.00021071200899314135\n",
      "  [1] iter 1/1, loss 5.552245140075684\n",
      "[1] Validation loss: 5.552245140075684; validation time: 260.92543387413025\n",
      "[1] running vec: 0.9531750082969666, running mhs: 4.598870277404785, running div: 0.00019954159506596625\n",
      "  [0] iter 1/3, loss 7.319870948791504\n",
      "  [1] iter 1/3, loss 5.289163589477539\n",
      "  [0] iter 2/3, loss 5.279265880584717\n",
      "  [1] iter 2/3, loss 6.106095790863037\n",
      "  [0] iter 3/3, loss 7.856623649597168\n",
      "[0] Epoch 2 completed. Loss: 6.818586826324463; Total time: 352.40352416038513\n",
      "[0] running vec: 1.3307445049285889, running mhs: 5.4876484870910645, running div: 0.00019385117047932\n",
      "  [1] iter 3/3, loss 7.44218635559082\n",
      "[1] Epoch 2 completed. Loss: 6.279148578643799; Total time: 350.50564885139465\n",
      "[1] running vec: 1.2458924055099487, running mhs: 5.033066749572754, running div: 0.00018962823378387839\n",
      "  [0] iter 1/1, loss 6.310275077819824\n",
      "[0] Validation loss: 6.310275077819824; validation time: 106.47644877433777\n",
      "[0] running vec: 1.3679319620132446, running mhs: 4.942160606384277, running div: 0.00018251879373565316\n",
      "  [1] iter 1/1, loss 5.544373035430908\n",
      "[1] Validation loss: 5.544373035430908; validation time: 106.989173412323\n",
      "[1] running vec: 0.9449364542961121, running mhs: 4.599266052246094, running div: 0.0001709243661025539\n",
      "  [0] iter 1/3, loss 7.311454772949219\n",
      "  [1] iter 1/3, loss 5.281116485595703\n",
      "  [1] iter 2/3, loss 6.099475860595703\n",
      "  [0] iter 2/3, loss 5.2713212966918945\n",
      "  [1] iter 3/3, loss 7.434177875518799\n",
      "[1] Epoch 3 completed. Loss: 6.271590232849121; Total time: 349.82562589645386\n",
      "[1] running vec: 1.2380379438400269, running mhs: 5.033387660980225, running div: 0.0001643569557927549\n",
      "  [0] iter 3/3, loss 7.850088119506836\n",
      "[0] Epoch 3 completed. Loss: 6.810954570770264; Total time: 354.4956781864166\n",
      "[0] running vec: 1.3229782581329346, running mhs: 5.487808704376221, running div: 0.0001674668601481244\n",
      "  [1] iter 1/1, loss 5.5371599197387695\n",
      "[1] Validation loss: 5.5371599197387695; validation time: 109.43180465698242\n",
      "[1] running vec: 0.9373869895935059, running mhs: 4.599623680114746, running div: 0.00014955626102164388\n",
      "  [0] iter 1/1, loss 6.302760124206543\n",
      "[0] Validation loss: 6.302760124206543; validation time: 110.46410036087036\n",
      "[0] running vec: 1.3602403402328491, running mhs: 4.942358493804932, running div: 0.00016119038627948612\n",
      "  [1] iter 1/3, loss 5.273753643035889\n",
      "  [0] iter 1/3, loss 7.303878307342529\n",
      "  [1] iter 2/3, loss 6.093378067016602\n",
      "  [0] iter 2/3, loss 5.264167785644531\n",
      "  [0] iter 3/3, loss 7.844046592712402\n",
      "[0] Epoch 4 completed. Loss: 6.804030895233154; Total time: 343.3365240097046\n",
      "[0] running vec: 1.3158729076385498, running mhs: 5.488009929656982, running div: 0.00014789968554396182\n",
      "  [1] iter 3/3, loss 7.427124500274658\n",
      "[1] Epoch 4 completed. Loss: 6.26475191116333; Total time: 350.48979330062866\n",
      "[1] running vec: 1.230891227722168, running mhs: 5.033716201782227, running div: 0.0001447865943191573\n",
      "  [0] iter 1/1, loss 6.296080589294434\n",
      "[0] Validation loss: 6.296080589294434; validation time: 97.92013382911682\n",
      "[0] running vec: 1.3532599210739136, running mhs: 4.942676067352295, running div: 0.00014425900008063763\n",
      "  [1] iter 1/1, loss 5.530595779418945\n",
      "[1] Validation loss: 5.530595779418945; validation time: 106.97456073760986\n",
      "[1] running vec: 0.930495023727417, running mhs: 4.599966049194336, running div: 0.00013458379544317722\n",
      "  [0] iter 1/3, loss 7.297236442565918\n",
      "  [1] iter 1/3, loss 5.267116546630859\n",
      "  [0] iter 2/3, loss 5.2577691078186035\n",
      "  [1] iter 2/3, loss 6.087886333465576\n",
      "  [1] iter 3/3, loss 7.420743942260742\n",
      "[1] Epoch 5 completed. Loss: 6.25858211517334; Total time: 336.2091414928436\n",
      "[1] running vec: 1.2244130373001099, running mhs: 5.034039497375488, running div: 0.00012967773363925517\n",
      "  [1] iter 1/1, loss 5.524762153625488\n",
      "[1] Validation loss: 5.524762153625488; validation time: 72.45684766769409\n",
      "[1] running vec: 0.9242167472839355, running mhs: 4.6004228591918945, running div: 0.0001225578016601503\n"
     ]
    }
   ],
   "source": [
    "key = 0\n",
    "lossdict = {'index_array':[[0,1,2],[3,4,5],[0,1,2],[3,4,5],-1]}\n",
    "\n",
    "for index in lossdict['index_array']:\n",
    "    print(f'key {key} - index {index}')\n",
    "    training_loss, validation_loss, state_dict = graphPINN.learn.train(\n",
    "                model, trainset, validset,\n",
    "                epochs=5, logfn=logfn, checkpointfile=folder, use_ddp = ddp)\n",
    "    model.load_state_dict(state_dict)\n",
    "    lossdict[f'train{key}'] = (sum(training_loss)/len(training_loss)).cpu().numpy()\n",
    "    lossdict[f'valid{key}'] = (sum(validation_loss)/len(validation_loss)).cpu().numpy()\n",
    "    logfn(f'training loss:\\n{lossdict[f\"train{key}\"]}')\n",
    "    logfn(f'validation loss:\\n{lossdict[f\"valid{key}\"]}')\n",
    "    savemat(f'{folder}loss_key-{key}_params-{math.prod(convdesign)+math.prod(propdesign)}.mat', lossdict)\n",
    "    \n",
    "    key = key + 1\n",
    "\n",
    "lossdict['index_array'] = str(lossdict['index_array'])\n",
    "torch.save(model, f'{folder}model_trainsize-{len(trainset)}_k-{k}_params-{math.prod(convdesign)+math.prod(propdesign)}.pt')\n",
    "savemat(f'{folder}loss_{epochs}_trainsize-{len(trainset)}_k-{k}_params-{math.prod(convdesign)+math.prod(propdesign)}.mat', lossdict)"
   ]
  },
  {
   "cell_type": "code",
   "execution_count": null,
   "id": "0000fb78",
   "metadata": {},
   "outputs": [],
   "source": [
    "print((sum(training_loss)/len(training_loss)).cpu().numpy())\n",
    "print((sum(validation_loss)/len(validation_loss)).cpu().numpy())"
   ]
  },
  {
   "cell_type": "code",
   "execution_count": 13,
   "id": "ceb7ebf3",
   "metadata": {},
   "outputs": [
    {
     "data": {
      "text/plain": [
       "<All keys matched successfully>"
      ]
     },
     "execution_count": 13,
     "metadata": {},
     "output_type": "execute_result"
    }
   ],
   "source": [
    "model.load_state_dict(torch.load(\"C:\\\\Users\\\\NASA\\\\Documents\\\\ML_checkpoints\\\\2023-04-27\\\\2023-04-27_1682625968.9837143epoch-10.pt\"))"
   ]
  },
  {
   "cell_type": "code",
   "execution_count": 14,
   "id": "d81464d2",
   "metadata": {},
   "outputs": [],
   "source": [
    "torch.save(model.module,\"C:\\\\Users\\\\NASA\\\\Documents\\\\ML_checkpoints\\\\2023-04-27\\\\2023-04-27_1682625968.9837143model-10.pt\")"
   ]
  },
  {
   "cell_type": "code",
   "execution_count": null,
   "id": "4a1ebd48",
   "metadata": {},
   "outputs": [],
   "source": []
  }
 ],
 "metadata": {
  "kernelspec": {
   "display_name": "Python 3 (ipykernel)",
   "language": "python",
   "name": "python3"
  },
  "language_info": {
   "codemirror_mode": {
    "name": "ipython",
    "version": 3
   },
   "file_extension": ".py",
   "mimetype": "text/x-python",
   "name": "python",
   "nbconvert_exporter": "python",
   "pygments_lexer": "ipython3",
   "version": "3.10.11"
  }
 },
 "nbformat": 4,
 "nbformat_minor": 5
}
