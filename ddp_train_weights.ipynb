{
 "cells": [
  {
   "cell_type": "code",
   "execution_count": 1,
   "id": "607cfb86",
   "metadata": {},
   "outputs": [],
   "source": [
    "import numpy as np\n",
    "import torch\n",
    "import torch_geometric as pyg\n",
    "import graphPINN\n",
    "import math\n",
    "\n",
    "from time import time\n",
    "from tqdm.notebook import tqdm\n",
    "from scipy.io import savemat, loadmat\n",
    "import os\n",
    "\n",
    "# os.environ['MKL_THREADING_LAYER'] = 'GNU' # fixes a weird intel multiprocessing error with numpy"
   ]
  },
  {
   "cell_type": "code",
   "execution_count": 2,
   "id": "95577920",
   "metadata": {},
   "outputs": [],
   "source": [
    "folder = \"C:\\\\Users\\\\NASA\\\\Documents\\\\ML_checkpoints\\\\2023-05-09\\\\\"\n",
    "if not os.path.exists(folder):\n",
    "    os.makedirs(folder)"
   ]
  },
  {
   "cell_type": "code",
   "execution_count": 3,
   "id": "ed4cc55c",
   "metadata": {},
   "outputs": [],
   "source": [
    "logfn = graphPINN.debug.Logfn(folder)"
   ]
  },
  {
   "cell_type": "code",
   "execution_count": 4,
   "id": "451d7bad",
   "metadata": {},
   "outputs": [
    {
     "name": "stdout",
     "output_type": "stream",
     "text": [
      "0: 48.0 GiB of cuda memory\n",
      "1: 48.0 GiB of cuda memory\n"
     ]
    }
   ],
   "source": [
    "device = torch.device('cuda' if torch.cuda.is_available() else 'cpu')\n",
    "for j in range(torch.cuda.device_count()):\n",
    "    logfn(f\"{j}: {graphPINN.debug.pretty_size(torch.cuda.get_device_properties(j).total_memory)} of {'cuda' if torch.cuda.is_available() else 'cpu'} memory\")"
   ]
  },
  {
   "cell_type": "code",
   "execution_count": 5,
   "id": "bd574139",
   "metadata": {},
   "outputs": [
    {
     "name": "stderr",
     "output_type": "stream",
     "text": [
      "Processing...\n",
      "  0%|                                                                                          | 0/242 [00:00<?, ?it/s]\n"
     ]
    },
    {
     "name": "stdout",
     "output_type": "stream",
     "text": [
      "{'x': tensor([[0., 0., 0., 0., 0., 0.],\n",
      "        [0., 0., 0., 0., 0., 0.],\n",
      "        [0., 0., 0., 0., 0., 0.],\n",
      "        ...,\n",
      "        [0., 0., 0., 0., 0., 0.],\n",
      "        [0., 0., 0., 0., 0., 0.],\n",
      "        [0., 0., 0., 0., 0., 0.]]), 'y': tensor([[ 0.1794, -0.0255, -0.0576],\n",
      "        [ 0.2938, -0.3325, -0.0243],\n",
      "        [ 0.1760, -0.0579, -0.0189],\n",
      "        ...,\n",
      "        [-0.7126,  0.0877, -0.2728],\n",
      "        [-0.5177,  0.0455,  0.2815],\n",
      "        [-0.4295,  0.1871, -0.4607]]), 'pos': tensor([[ 2.8347e-06,  2.6544e+00,  5.3414e+00],\n",
      "        [ 8.6648e-06,  2.6269e-01,  3.3905e-01],\n",
      "        [ 1.2713e-05,  2.5963e+00,  8.7212e-01],\n",
      "        ...,\n",
      "        [ 9.9979e-01,  1.9351e+00, -8.4926e-02],\n",
      "        [ 9.9987e-01,  1.7487e+00, -9.1536e-02],\n",
      "        [ 9.9998e-01,  2.1871e+00, -8.7503e-02]])}\n"
     ]
    },
    {
     "ename": "AttributeError",
     "evalue": "'NoneType' object has no attribute 'knn_graph'",
     "output_type": "error",
     "traceback": [
      "\u001b[1;31m---------------------------------------------------------------------------\u001b[0m",
      "\u001b[1;31mAttributeError\u001b[0m                            Traceback (most recent call last)",
      "Cell \u001b[1;32mIn[5], line 4\u001b[0m\n\u001b[0;32m      1\u001b[0m k \u001b[38;5;241m=\u001b[39m \u001b[38;5;241m100\u001b[39m\n\u001b[0;32m      2\u001b[0m ddp \u001b[38;5;241m=\u001b[39m \u001b[38;5;28;01mTrue\u001b[39;00m\n\u001b[1;32m----> 4\u001b[0m dataset \u001b[38;5;241m=\u001b[39m \u001b[43mgraphPINN\u001b[49m\u001b[38;5;241;43m.\u001b[39;49m\u001b[43mdata\u001b[49m\u001b[38;5;241;43m.\u001b[39;49m\u001b[43mMHSDataset\u001b[49m\u001b[43m(\u001b[49m\u001b[38;5;124;43mf\u001b[39;49m\u001b[38;5;124;43m'\u001b[39;49m\u001b[38;5;124;43mD:\u001b[39;49m\u001b[38;5;130;43;01m\\\\\u001b[39;49;00m\u001b[38;5;124;43mscattered_data_k=\u001b[39;49m\u001b[38;5;132;43;01m{\u001b[39;49;00m\u001b[43mk\u001b[49m\u001b[38;5;132;43;01m}\u001b[39;49;00m\u001b[38;5;124;43m'\u001b[39;49m\u001b[43m,\u001b[49m\u001b[43mk\u001b[49m\u001b[38;5;241;43m=\u001b[39;49m\u001b[43mk\u001b[49m\u001b[43m)\u001b[49m\n\u001b[0;32m      5\u001b[0m propdesign \u001b[38;5;241m=\u001b[39m [\u001b[38;5;241m12\u001b[39m,\u001b[38;5;241m6\u001b[39m,\u001b[38;5;241m3\u001b[39m]\n\u001b[0;32m      6\u001b[0m \u001b[38;5;66;03m# propdesign = [12,3]\u001b[39;00m\n",
      "File \u001b[1;32m~\\Documents\\Python Scripts\\graphPINN\\graphPINN\\data.py:62\u001b[0m, in \u001b[0;36mMHSDataset.__init__\u001b[1;34m(self, root, k, transform, pre_transform, pre_filter)\u001b[0m\n\u001b[0;32m     60\u001b[0m \u001b[38;5;28mself\u001b[39m\u001b[38;5;241m.\u001b[39mallSharps \u001b[38;5;241m=\u001b[39m get_allsharps()\n\u001b[0;32m     61\u001b[0m \u001b[38;5;28mself\u001b[39m\u001b[38;5;241m.\u001b[39mk\u001b[38;5;241m=\u001b[39mk\n\u001b[1;32m---> 62\u001b[0m \u001b[38;5;28;43msuper\u001b[39;49m\u001b[43m(\u001b[49m\u001b[43m)\u001b[49m\u001b[38;5;241;43m.\u001b[39;49m\u001b[38;5;21;43m__init__\u001b[39;49m\u001b[43m(\u001b[49m\u001b[43mroot\u001b[49m\u001b[43m,\u001b[49m\u001b[43m \u001b[49m\u001b[43mtransform\u001b[49m\u001b[43m,\u001b[49m\u001b[43m \u001b[49m\u001b[43mpre_transform\u001b[49m\u001b[43m,\u001b[49m\u001b[43m \u001b[49m\u001b[43mpre_filter\u001b[49m\u001b[43m)\u001b[49m\n",
      "File \u001b[1;32m~\\anaconda3\\envs\\pinn\\lib\\site-packages\\torch_geometric\\data\\dataset.py:97\u001b[0m, in \u001b[0;36mDataset.__init__\u001b[1;34m(self, root, transform, pre_transform, pre_filter, log)\u001b[0m\n\u001b[0;32m     94\u001b[0m     \u001b[38;5;28mself\u001b[39m\u001b[38;5;241m.\u001b[39m_download()\n\u001b[0;32m     96\u001b[0m \u001b[38;5;28;01mif\u001b[39;00m \u001b[38;5;28mself\u001b[39m\u001b[38;5;241m.\u001b[39mhas_process:\n\u001b[1;32m---> 97\u001b[0m     \u001b[38;5;28;43mself\u001b[39;49m\u001b[38;5;241;43m.\u001b[39;49m\u001b[43m_process\u001b[49m\u001b[43m(\u001b[49m\u001b[43m)\u001b[49m\n",
      "File \u001b[1;32m~\\anaconda3\\envs\\pinn\\lib\\site-packages\\torch_geometric\\data\\dataset.py:230\u001b[0m, in \u001b[0;36mDataset._process\u001b[1;34m(self)\u001b[0m\n\u001b[0;32m    227\u001b[0m     \u001b[38;5;28mprint\u001b[39m(\u001b[38;5;124m'\u001b[39m\u001b[38;5;124mProcessing...\u001b[39m\u001b[38;5;124m'\u001b[39m, file\u001b[38;5;241m=\u001b[39msys\u001b[38;5;241m.\u001b[39mstderr)\n\u001b[0;32m    229\u001b[0m makedirs(\u001b[38;5;28mself\u001b[39m\u001b[38;5;241m.\u001b[39mprocessed_dir)\n\u001b[1;32m--> 230\u001b[0m \u001b[38;5;28;43mself\u001b[39;49m\u001b[38;5;241;43m.\u001b[39;49m\u001b[43mprocess\u001b[49m\u001b[43m(\u001b[49m\u001b[43m)\u001b[49m\n\u001b[0;32m    232\u001b[0m path \u001b[38;5;241m=\u001b[39m osp\u001b[38;5;241m.\u001b[39mjoin(\u001b[38;5;28mself\u001b[39m\u001b[38;5;241m.\u001b[39mprocessed_dir, \u001b[38;5;124m'\u001b[39m\u001b[38;5;124mpre_transform.pt\u001b[39m\u001b[38;5;124m'\u001b[39m)\n\u001b[0;32m    233\u001b[0m torch\u001b[38;5;241m.\u001b[39msave(_repr(\u001b[38;5;28mself\u001b[39m\u001b[38;5;241m.\u001b[39mpre_transform), path)\n",
      "File \u001b[1;32m~\\Documents\\Python Scripts\\graphPINN\\graphPINN\\data.py:97\u001b[0m, in \u001b[0;36mMHSDataset.process\u001b[1;34m(self)\u001b[0m\n\u001b[0;32m     95\u001b[0m data[\u001b[38;5;124m'\u001b[39m\u001b[38;5;124min\u001b[39m\u001b[38;5;124m'\u001b[39m]\u001b[38;5;241m.\u001b[39mpos \u001b[38;5;241m=\u001b[39m pos_in\n\u001b[0;32m     96\u001b[0m \u001b[38;5;28mprint\u001b[39m(data[\u001b[38;5;124m'\u001b[39m\u001b[38;5;124min\u001b[39m\u001b[38;5;124m'\u001b[39m])\n\u001b[1;32m---> 97\u001b[0m data[\u001b[38;5;124m'\u001b[39m\u001b[38;5;124min\u001b[39m\u001b[38;5;124m'\u001b[39m,\u001b[38;5;124m'\u001b[39m\u001b[38;5;124madj\u001b[39m\u001b[38;5;124m'\u001b[39m,\u001b[38;5;124m'\u001b[39m\u001b[38;5;124min\u001b[39m\u001b[38;5;124m'\u001b[39m]\u001b[38;5;241m.\u001b[39medge_index \u001b[38;5;241m=\u001b[39m \u001b[43mKNNGraph\u001b[49m\u001b[43m(\u001b[49m\u001b[43mk\u001b[49m\u001b[38;5;241;43m=\u001b[39;49m\u001b[38;5;28;43mself\u001b[39;49m\u001b[38;5;241;43m.\u001b[39;49m\u001b[43mk\u001b[49m\u001b[43m)\u001b[49m\u001b[43m(\u001b[49m\u001b[43mdata\u001b[49m\u001b[43m[\u001b[49m\u001b[38;5;124;43m'\u001b[39;49m\u001b[38;5;124;43min\u001b[39;49m\u001b[38;5;124;43m'\u001b[39;49m\u001b[43m]\u001b[49m\u001b[43m)\u001b[49m\u001b[38;5;241m.\u001b[39medge_index\n\u001b[0;32m     98\u001b[0m data[\u001b[38;5;124m'\u001b[39m\u001b[38;5;124min\u001b[39m\u001b[38;5;124m'\u001b[39m]\u001b[38;5;241m.\u001b[39medge_index \u001b[38;5;241m=\u001b[39m \u001b[38;5;28;01mNone\u001b[39;00m\n\u001b[0;32m     99\u001b[0m data[\u001b[38;5;124m'\u001b[39m\u001b[38;5;124mbd\u001b[39m\u001b[38;5;124m'\u001b[39m]\u001b[38;5;241m.\u001b[39mx \u001b[38;5;241m=\u001b[39m torch\u001b[38;5;241m.\u001b[39mcat((x_bd,p_bd),\u001b[38;5;241m1\u001b[39m)\n",
      "File \u001b[1;32m~\\anaconda3\\envs\\pinn\\lib\\site-packages\\torch_geometric\\transforms\\knn_graph.py:52\u001b[0m, in \u001b[0;36mKNNGraph.__call__\u001b[1;34m(self, data)\u001b[0m\n\u001b[0;32m     49\u001b[0m data\u001b[38;5;241m.\u001b[39medge_attr \u001b[38;5;241m=\u001b[39m \u001b[38;5;28;01mNone\u001b[39;00m\n\u001b[0;32m     50\u001b[0m batch \u001b[38;5;241m=\u001b[39m data\u001b[38;5;241m.\u001b[39mbatch \u001b[38;5;28;01mif\u001b[39;00m \u001b[38;5;124m'\u001b[39m\u001b[38;5;124mbatch\u001b[39m\u001b[38;5;124m'\u001b[39m \u001b[38;5;129;01min\u001b[39;00m data \u001b[38;5;28;01melse\u001b[39;00m \u001b[38;5;28;01mNone\u001b[39;00m\n\u001b[1;32m---> 52\u001b[0m edge_index \u001b[38;5;241m=\u001b[39m \u001b[43mtorch_geometric\u001b[49m\u001b[38;5;241;43m.\u001b[39;49m\u001b[43mnn\u001b[49m\u001b[38;5;241;43m.\u001b[39;49m\u001b[43mknn_graph\u001b[49m\u001b[43m(\u001b[49m\n\u001b[0;32m     53\u001b[0m \u001b[43m    \u001b[49m\u001b[43mdata\u001b[49m\u001b[38;5;241;43m.\u001b[39;49m\u001b[43mpos\u001b[49m\u001b[43m,\u001b[49m\n\u001b[0;32m     54\u001b[0m \u001b[43m    \u001b[49m\u001b[38;5;28;43mself\u001b[39;49m\u001b[38;5;241;43m.\u001b[39;49m\u001b[43mk\u001b[49m\u001b[43m,\u001b[49m\n\u001b[0;32m     55\u001b[0m \u001b[43m    \u001b[49m\u001b[43mbatch\u001b[49m\u001b[43m,\u001b[49m\n\u001b[0;32m     56\u001b[0m \u001b[43m    \u001b[49m\u001b[43mloop\u001b[49m\u001b[38;5;241;43m=\u001b[39;49m\u001b[38;5;28;43mself\u001b[39;49m\u001b[38;5;241;43m.\u001b[39;49m\u001b[43mloop\u001b[49m\u001b[43m,\u001b[49m\n\u001b[0;32m     57\u001b[0m \u001b[43m    \u001b[49m\u001b[43mflow\u001b[49m\u001b[38;5;241;43m=\u001b[39;49m\u001b[38;5;28;43mself\u001b[39;49m\u001b[38;5;241;43m.\u001b[39;49m\u001b[43mflow\u001b[49m\u001b[43m,\u001b[49m\n\u001b[0;32m     58\u001b[0m \u001b[43m    \u001b[49m\u001b[43mcosine\u001b[49m\u001b[38;5;241;43m=\u001b[39;49m\u001b[38;5;28;43mself\u001b[39;49m\u001b[38;5;241;43m.\u001b[39;49m\u001b[43mcosine\u001b[49m\u001b[43m,\u001b[49m\n\u001b[0;32m     59\u001b[0m \u001b[43m    \u001b[49m\u001b[43mnum_workers\u001b[49m\u001b[38;5;241;43m=\u001b[39;49m\u001b[38;5;28;43mself\u001b[39;49m\u001b[38;5;241;43m.\u001b[39;49m\u001b[43mnum_workers\u001b[49m\u001b[43m,\u001b[49m\n\u001b[0;32m     60\u001b[0m \u001b[43m\u001b[49m\u001b[43m)\u001b[49m\n\u001b[0;32m     62\u001b[0m \u001b[38;5;28;01mif\u001b[39;00m \u001b[38;5;28mself\u001b[39m\u001b[38;5;241m.\u001b[39mforce_undirected:\n\u001b[0;32m     63\u001b[0m     edge_index \u001b[38;5;241m=\u001b[39m to_undirected(edge_index, num_nodes\u001b[38;5;241m=\u001b[39mdata\u001b[38;5;241m.\u001b[39mnum_nodes)\n",
      "File \u001b[1;32m~\\anaconda3\\envs\\pinn\\lib\\site-packages\\torch_geometric\\nn\\pool\\__init__.py:130\u001b[0m, in \u001b[0;36mknn_graph\u001b[1;34m(x, k, batch, loop, flow, cosine, num_workers)\u001b[0m\n\u001b[0;32m     95\u001b[0m \u001b[38;5;28;01mdef\u001b[39;00m \u001b[38;5;21mknn_graph\u001b[39m(x: Tensor, k: \u001b[38;5;28mint\u001b[39m, batch: OptTensor \u001b[38;5;241m=\u001b[39m \u001b[38;5;28;01mNone\u001b[39;00m, loop: \u001b[38;5;28mbool\u001b[39m \u001b[38;5;241m=\u001b[39m \u001b[38;5;28;01mFalse\u001b[39;00m,\n\u001b[0;32m     96\u001b[0m               flow: \u001b[38;5;28mstr\u001b[39m \u001b[38;5;241m=\u001b[39m \u001b[38;5;124m'\u001b[39m\u001b[38;5;124msource_to_target\u001b[39m\u001b[38;5;124m'\u001b[39m, cosine: \u001b[38;5;28mbool\u001b[39m \u001b[38;5;241m=\u001b[39m \u001b[38;5;28;01mFalse\u001b[39;00m,\n\u001b[0;32m     97\u001b[0m               num_workers: \u001b[38;5;28mint\u001b[39m \u001b[38;5;241m=\u001b[39m \u001b[38;5;241m1\u001b[39m) \u001b[38;5;241m-\u001b[39m\u001b[38;5;241m>\u001b[39m Tensor:\n\u001b[0;32m     98\u001b[0m \u001b[38;5;250m    \u001b[39m\u001b[38;5;124mr\u001b[39m\u001b[38;5;124;03m\"\"\"Computes graph edges to the nearest :obj:`k` points.\u001b[39;00m\n\u001b[0;32m     99\u001b[0m \n\u001b[0;32m    100\u001b[0m \u001b[38;5;124;03m    .. code-block:: python\u001b[39;00m\n\u001b[1;32m   (...)\u001b[0m\n\u001b[0;32m    128\u001b[0m \u001b[38;5;124;03m    :rtype: :class:`torch.Tensor`\u001b[39;00m\n\u001b[0;32m    129\u001b[0m \u001b[38;5;124;03m    \"\"\"\u001b[39;00m\n\u001b[1;32m--> 130\u001b[0m     \u001b[38;5;28;01mreturn\u001b[39;00m \u001b[43mtorch_cluster\u001b[49m\u001b[38;5;241;43m.\u001b[39;49m\u001b[43mknn_graph\u001b[49m(x, k, batch, loop, flow, cosine,\n\u001b[0;32m    131\u001b[0m                                    num_workers)\n",
      "\u001b[1;31mAttributeError\u001b[0m: 'NoneType' object has no attribute 'knn_graph'"
     ]
    }
   ],
   "source": [
    "k = 100\n",
    "ddp = True\n",
    "\n",
    "dataset = graphPINN.data.MHSDataset(f'D:\\\\scattered_data_k={k}',k=k)\n",
    "propdesign = [12,6,3]\n",
    "# propdesign = [12,3]\n",
    "convdesign = [18,9,6,3]\n",
    "# convdesign = [18,3]\n",
    "\n",
    "propkernel = graphPINN.KernelNN(propdesign, torch.nn.ReLU)\n",
    "propgraph = graphPINN.BDPropGraph(propkernel)\n",
    "convkernel = graphPINN.KernelNN(convdesign, torch.nn.ReLU)\n",
    "convgraph = graphPINN.ConvGraph(convkernel)\n",
    "model = graphPINN.FullModel(propgraph, convgraph)\n",
    "\n",
    "trainset, validset, testset = torch.utils.data.random_split(dataset,[0.8, 0.1, 0.1],generator=torch.Generator().manual_seed(314))\n",
    "# trainset, validset, testset = torch.utils.data.random_split(dataset,[0.01, 0.005, 0.985],generator=torch.Generator().manual_seed(314))"
   ]
  },
  {
   "cell_type": "code",
   "execution_count": null,
   "id": "0bc8e6ce",
   "metadata": {
    "scrolled": false
   },
   "outputs": [],
   "source": [
    "key = 0\n",
    "lossdict = {'index_array':[[0,1,2],[3,4,5],[0,1,2],[3,4,5],-1]}\n",
    "\n",
    "for index in lossdict['index_array']:\n",
    "    print(f'key {key} - index {index}')\n",
    "    training_loss, validation_loss, state_dict = graphPINN.learn.train(\n",
    "                model, trainset, validset,\n",
    "                epochs=5, logfn=logfn, checkpointfile=folder, use_ddp = ddp)\n",
    "    model.load_state_dict(state_dict)\n",
    "    lossdict[f'train{key}'] = (sum(training_loss)/len(training_loss)).cpu().numpy()\n",
    "    lossdict[f'valid{key}'] = (sum(validation_loss)/len(validation_loss)).cpu().numpy()\n",
    "    logfn(f'training loss:\\n{lossdict[f\"train{key}\"]}')\n",
    "    logfn(f'validation loss:\\n{lossdict[f\"valid{key}\"]}')\n",
    "    savemat(f'{folder}loss_key-{key}_params-{math.prod(convdesign)+math.prod(propdesign)}.mat', lossdict)\n",
    "    \n",
    "    key = key + 1\n",
    "\n",
    "lossdict['index_array'] = str(lossdict['index_array'])\n",
    "torch.save(model, f'{folder}model_trainsize-{len(trainset)}_k-{k}_params-{math.prod(convdesign)+math.prod(propdesign)}.pt')\n",
    "savemat(f'{folder}loss_{epochs}_trainsize-{len(trainset)}_k-{k}_params-{math.prod(convdesign)+math.prod(propdesign)}.mat', lossdict)"
   ]
  },
  {
   "cell_type": "code",
   "execution_count": null,
   "id": "0000fb78",
   "metadata": {},
   "outputs": [],
   "source": [
    "print((sum(training_loss)/len(training_loss)).cpu().numpy())\n",
    "print((sum(validation_loss)/len(validation_loss)).cpu().numpy())"
   ]
  },
  {
   "cell_type": "code",
   "execution_count": null,
   "id": "ceb7ebf3",
   "metadata": {},
   "outputs": [],
   "source": [
    "model.load_state_dict(torch.load(\"C:\\\\Users\\\\NASA\\\\Documents\\\\ML_checkpoints\\\\2023-04-27\\\\2023-04-27_1682625968.9837143epoch-10.pt\"))"
   ]
  },
  {
   "cell_type": "code",
   "execution_count": null,
   "id": "d81464d2",
   "metadata": {},
   "outputs": [],
   "source": [
    "torch.save(model.module,\"C:\\\\Users\\\\NASA\\\\Documents\\\\ML_checkpoints\\\\2023-04-27\\\\2023-04-27_1682625968.9837143model-10.pt\")"
   ]
  },
  {
   "cell_type": "code",
   "execution_count": 6,
   "id": "4a1ebd48",
   "metadata": {},
   "outputs": [
    {
     "data": {
      "text/plain": [
       "2"
      ]
     },
     "execution_count": 6,
     "metadata": {},
     "output_type": "execute_result"
    }
   ],
   "source": [
    "arr = [1,2,3]\n",
    "arr [1]"
   ]
  },
  {
   "cell_type": "code",
   "execution_count": null,
   "id": "8922b190",
   "metadata": {},
   "outputs": [],
   "source": []
  }
 ],
 "metadata": {
  "kernelspec": {
   "display_name": "Python 3 (ipykernel)",
   "language": "python",
   "name": "python3"
  },
  "language_info": {
   "codemirror_mode": {
    "name": "ipython",
    "version": 3
   },
   "file_extension": ".py",
   "mimetype": "text/x-python",
   "name": "python",
   "nbconvert_exporter": "python",
   "pygments_lexer": "ipython3",
   "version": "3.10.11"
  }
 },
 "nbformat": 4,
 "nbformat_minor": 5
}
