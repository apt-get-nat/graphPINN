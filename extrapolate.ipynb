{
 "cells": [
  {
   "cell_type": "code",
   "execution_count": 19,
   "id": "25aa1953",
   "metadata": {},
   "outputs": [],
   "source": [
    "import numpy as np\n",
    "import torch\n",
    "import torch_geometric as pyg\n",
    "import graphPINN\n",
    "import math\n",
    "import logging\n",
    "from time import time\n",
    "from tqdm.notebook import tqdm\n",
    "from scipy.io import savemat, loadmat\n",
    "import os"
   ]
  },
  {
   "cell_type": "code",
   "execution_count": 20,
   "id": "533e6021",
   "metadata": {},
   "outputs": [],
   "source": [
    "folder = \"C:\\\\Users\\\\NASA\\\\Documents\\\\ML_checkpoints\\\\2023-07-07\\\\\"\n",
    "if not os.path.exists(f'{folder}extraps\\\\'):\n",
    "    os.makedirs(f'{folder}extraps\\\\')\n",
    "device = torch.device('cuda' if torch.cuda.is_available() else 'cpu')"
   ]
  },
  {
   "cell_type": "code",
   "execution_count": 21,
   "id": "582c4bbb",
   "metadata": {},
   "outputs": [],
   "source": [
    "k = 100\n",
    "\n",
    "dataset = graphPINN.data.MHSDataset(f\"E:\\\\scattered_data_v4_k={k}\",k)\n",
    "\n",
    "\n",
    "# trainset, validset, testset = torch.utils.data.random_split(dataset,[0.8, 0.1, 0.1],generator=torch.Generator().manual_seed(314))\n",
    "trainset, validset, testset = torch.utils.data.random_split(dataset,[0.01, 0.005, 0.985],generator=torch.Generator().manual_seed(314))"
   ]
  },
  {
   "cell_type": "code",
   "execution_count": 22,
   "id": "b8b8a7b7",
   "metadata": {},
   "outputs": [
    {
     "ename": "TypeError",
     "evalue": "Expected state_dict to be dict-like, got <class 'graphPINN.core.FullModel'>.",
     "output_type": "error",
     "traceback": [
      "\u001b[1;31m---------------------------------------------------------------------------\u001b[0m",
      "\u001b[1;31mTypeError\u001b[0m                                 Traceback (most recent call last)",
      "Cell \u001b[1;32mIn[22], line 12\u001b[0m\n\u001b[0;32m     10\u001b[0m convgraph \u001b[38;5;241m=\u001b[39m graphPINN\u001b[38;5;241m.\u001b[39mConvGraph(convkernel)\n\u001b[0;32m     11\u001b[0m model \u001b[38;5;241m=\u001b[39m pyg\u001b[38;5;241m.\u001b[39mnn\u001b[38;5;241m.\u001b[39mDataParallel(graphPINN\u001b[38;5;241m.\u001b[39mFullModel(propgraph, convgraph))\n\u001b[1;32m---> 12\u001b[0m \u001b[43mmodel\u001b[49m\u001b[38;5;241;43m.\u001b[39;49m\u001b[43mload_state_dict\u001b[49m\u001b[43m(\u001b[49m\u001b[43mtorch\u001b[49m\u001b[38;5;241;43m.\u001b[39;49m\u001b[43mload\u001b[49m\u001b[43m(\u001b[49m\u001b[38;5;124;43mf\u001b[39;49m\u001b[38;5;124;43m'\u001b[39;49m\u001b[38;5;132;43;01m{\u001b[39;49;00m\u001b[43mfolder\u001b[49m\u001b[38;5;132;43;01m}\u001b[39;49;00m\u001b[38;5;124;43mmodel_trainsize-32_k-50_params-90.pt\u001b[39;49m\u001b[38;5;124;43m'\u001b[39;49m\u001b[43m)\u001b[49m\u001b[43m)\u001b[49m\n\u001b[0;32m     13\u001b[0m model \u001b[38;5;241m=\u001b[39m model\u001b[38;5;241m.\u001b[39mmodule\u001b[38;5;241m.\u001b[39mto(device)\n",
      "File \u001b[1;32m~\\anaconda3\\envs\\pinn\\lib\\site-packages\\torch\\nn\\modules\\module.py:1994\u001b[0m, in \u001b[0;36mModule.load_state_dict\u001b[1;34m(self, state_dict, strict)\u001b[0m\n\u001b[0;32m   1971\u001b[0m \u001b[38;5;250m\u001b[39m\u001b[38;5;124mr\u001b[39m\u001b[38;5;124;03m\"\"\"Copies parameters and buffers from :attr:`state_dict` into\u001b[39;00m\n\u001b[0;32m   1972\u001b[0m \u001b[38;5;124;03mthis module and its descendants. If :attr:`strict` is ``True``, then\u001b[39;00m\n\u001b[0;32m   1973\u001b[0m \u001b[38;5;124;03mthe keys of :attr:`state_dict` must exactly match the keys returned\u001b[39;00m\n\u001b[1;32m   (...)\u001b[0m\n\u001b[0;32m   1991\u001b[0m \u001b[38;5;124;03m    ``RuntimeError``.\u001b[39;00m\n\u001b[0;32m   1992\u001b[0m \u001b[38;5;124;03m\"\"\"\u001b[39;00m\n\u001b[0;32m   1993\u001b[0m \u001b[38;5;28;01mif\u001b[39;00m \u001b[38;5;129;01mnot\u001b[39;00m \u001b[38;5;28misinstance\u001b[39m(state_dict, Mapping):\n\u001b[1;32m-> 1994\u001b[0m     \u001b[38;5;28;01mraise\u001b[39;00m \u001b[38;5;167;01mTypeError\u001b[39;00m(\u001b[38;5;124m\"\u001b[39m\u001b[38;5;124mExpected state_dict to be dict-like, got \u001b[39m\u001b[38;5;132;01m{}\u001b[39;00m\u001b[38;5;124m.\u001b[39m\u001b[38;5;124m\"\u001b[39m\u001b[38;5;241m.\u001b[39mformat(\u001b[38;5;28mtype\u001b[39m(state_dict)))\n\u001b[0;32m   1996\u001b[0m missing_keys: List[\u001b[38;5;28mstr\u001b[39m] \u001b[38;5;241m=\u001b[39m []\n\u001b[0;32m   1997\u001b[0m unexpected_keys: List[\u001b[38;5;28mstr\u001b[39m] \u001b[38;5;241m=\u001b[39m []\n",
      "\u001b[1;31mTypeError\u001b[0m: Expected state_dict to be dict-like, got <class 'graphPINN.core.FullModel'>."
     ]
    }
   ],
   "source": [
    "# propdesign = [12,6,3]\n",
    "propdesign = [12,3]\n",
    "# convdesign = [18,9,6,3]\n",
    "convdesign = [18,3]\n",
    "params = 90\n",
    "\n",
    "propkernel = graphPINN.KernelNN(propdesign, torch.nn.ReLU)\n",
    "propgraph = graphPINN.BDPropGraph(propkernel)\n",
    "convkernel = graphPINN.KernelNN(convdesign, torch.nn.ReLU)\n",
    "convgraph = graphPINN.ConvGraph(convkernel)\n",
    "model = pyg.nn.DataParallel(graphPINN.FullModel(propgraph, convgraph))\n",
    "model.load_state_dict(torch.load(f'{folder}model_trainsize-32_k-50_params-90.pt'))\n",
    "model = model.module.to(device)"
   ]
  },
  {
   "cell_type": "code",
   "execution_count": 23,
   "id": "543d63da",
   "metadata": {},
   "outputs": [
    {
     "name": "stdout",
     "output_type": "stream",
     "text": [
      "FullModel(\n",
      "  (propgraph): BDPropGraph()\n",
      "  (convgraph): ConvGraph()\n",
      ")\n"
     ]
    }
   ],
   "source": [
    "params = 90\n",
    "# params = 3132\n",
    "model = torch.load(f'{folder}model_trainsize-32_k-100_params-90.pt')\n",
    "model.to(device)\n",
    "print(model)\n",
    "# model = torch.load(f'{folder}_1680737885.339157model.pt').module"
   ]
  },
  {
   "cell_type": "code",
   "execution_count": 24,
   "id": "2b43e180",
   "metadata": {},
   "outputs": [],
   "source": [
    "set = 'train'"
   ]
  },
  {
   "cell_type": "code",
   "execution_count": 25,
   "id": "0fbaa356",
   "metadata": {},
   "outputs": [
    {
     "data": {
      "application/vnd.jupyter.widget-view+json": {
       "model_id": "8c084658e2ed43d590ffc89db617cec4",
       "version_major": 2,
       "version_minor": 0
      },
      "text/plain": [
       "  0%|          | 0/5 [00:00<?, ?it/s]"
      ]
     },
     "metadata": {},
     "output_type": "display_data"
    },
    {
     "name": "stdout",
     "output_type": "stream",
     "text": [
      "0 7110\n",
      "1 7581\n",
      "2 7798\n",
      "3 7081\n",
      "4 7581\n"
     ]
    }
   ],
   "source": [
    "for j in tqdm(range(0,5)):\n",
    "#     print(trainset[j].to_homogeneous().to(device))\n",
    "    if set == 'train':\n",
    "        data = trainset[j].to_homogeneous().to(device)\n",
    "    elif set == 'validate':\n",
    "        data = validset[j].to_homogeneous().to(device)\n",
    "    elif set == 'test':\n",
    "        data = testset[j].to_homogeneous().to(device)\n",
    "    else:\n",
    "        data = dataset.get(j).to_homogeneous().to(device)\n",
    "\n",
    "    print(j,data.sharpnum.cpu().numpy()[0])\n",
    "    pred = model(data)[0].detach()\n",
    "\n",
    "    mat = {'Bml':pred.cpu().numpy(),\n",
    "           'Btn':data.y.cpu().numpy(),\n",
    "           'nodes':data.pos.cpu().numpy(),\n",
    "           'pres':data.x[:,3:6].detach().cpu().numpy(),\n",
    "           'sharp':data.sharpnum.cpu().numpy()[0]}\n",
    "    savemat(f'{folder}\\\\extraps\\\\params-{params}_{set}{j}.mat',mat)"
   ]
  },
  {
   "cell_type": "code",
   "execution_count": 14,
   "id": "3762fadb",
   "metadata": {},
   "outputs": [
    {
     "name": "stdout",
     "output_type": "stream",
     "text": [
      "7085\n"
     ]
    }
   ],
   "source": [
    "print(data.sharpnum.cpu().numpy()[0])"
   ]
  },
  {
   "cell_type": "code",
   "execution_count": null,
   "id": "1f93401f",
   "metadata": {},
   "outputs": [],
   "source": []
  }
 ],
 "metadata": {
  "kernelspec": {
   "display_name": "Python 3 (ipykernel)",
   "language": "python",
   "name": "python3"
  },
  "language_info": {
   "codemirror_mode": {
    "name": "ipython",
    "version": 3
   },
   "file_extension": ".py",
   "mimetype": "text/x-python",
   "name": "python",
   "nbconvert_exporter": "python",
   "pygments_lexer": "ipython3",
   "version": "3.10.11"
  }
 },
 "nbformat": 4,
 "nbformat_minor": 5
}
