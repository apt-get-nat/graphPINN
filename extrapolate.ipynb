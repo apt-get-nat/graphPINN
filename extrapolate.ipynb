{
 "cells": [
  {
   "cell_type": "code",
   "execution_count": null,
   "id": "25aa1953",
   "metadata": {},
   "outputs": [],
   "source": [
    "import numpy as np\n",
    "import torch\n",
    "import torch_geometric as pyg\n",
    "import graphPINN\n",
    "import math\n",
    "import logging\n",
    "from time import time\n",
    "from tqdm.notebook import tqdm\n",
    "from scipy.io import savemat, loadmat\n",
    "import os"
   ]
  },
  {
   "cell_type": "code",
   "execution_count": null,
   "id": "533e6021",
   "metadata": {},
   "outputs": [],
   "source": [
    "folder = \"C:\\\\Users\\\\NASA\\\\Documents\\\\ML_checkpoints\\\\2023-10-10\\\\\"\n",
    "if not os.path.exists(f'{folder}extraps\\\\'):\n",
    "    os.makedirs(f'{folder}extraps\\\\')\n",
    "device = torch.device('cuda' if torch.cuda.is_available() else 'cpu')"
   ]
  },
  {
   "cell_type": "code",
   "execution_count": null,
   "id": "582c4bbb",
   "metadata": {},
   "outputs": [],
   "source": [
    "k = 100\n",
    "l = 100\n",
    "bd = 200\n",
    "dataset = graphPINN.data.MHSDataset(f'D:\\\\v4_set_k={k}_l={l}_bd={bd}',k=k, l=l, bd=bd)\n",
    "\n",
    "# trainset, validset, testset = torch.utils.data.random_split(dataset,[0.8, 0.1, 0.1],generator=torch.Generator().manual_seed(314))\n",
    "trainset, validset, testset = torch.utils.data.random_split(dataset,[0.01, 0.005, 0.985],generator=torch.Generator().manual_seed(314))"
   ]
  },
  {
   "cell_type": "code",
   "execution_count": null,
   "id": "b8b8a7b7",
   "metadata": {},
   "outputs": [],
   "source": [
    "propdesign = [14,6,3]\n",
    "convdesign = [18,12,3]\n",
    "params = 14*6+6*3+18*12+12*3\n",
    "\n",
    "propkernel = graphPINN.KernelNN(propdesign, torch.nn.ReLU)\n",
    "propgraph = graphPINN.BDPropGraph(propkernel)\n",
    "convkernel = graphPINN.KernelNN(convdesign, torch.nn.ReLU)\n",
    "convgraph = graphPINN.ConvGraph(convkernel)\n",
    "model = pyg.nn.DataParallel(graphPINN.FullModel(propgraph, convgraph))\n",
    "model.load_state_dict(torch.load(f'{folder}_1691861661.7859707epoch-1.pt'))\n",
    "model = model.module.to(device)"
   ]
  },
  {
   "cell_type": "code",
   "execution_count": null,
   "id": "543d63da",
   "metadata": {},
   "outputs": [],
   "source": [
    "params = 14*6+6*3+18*12+12*3\n",
    "# params = 3132\n",
    "model = torch.load(f'{folder}model_trainsize-58_k-{k}_params-{900}.pt')\n",
    "model.to(device)\n",
    "print(model)\n",
    "# model = torch.load(f'{folder}_1680737885.339157model.pt').module"
   ]
  },
  {
   "cell_type": "code",
   "execution_count": null,
   "id": "2b43e180",
   "metadata": {},
   "outputs": [],
   "source": [
    "set = 'train'"
   ]
  },
  {
   "cell_type": "code",
   "execution_count": null,
   "id": "0fbaa356",
   "metadata": {},
   "outputs": [],
   "source": [
    "for j in tqdm(range(0,5)):\n",
    "#     print(trainset[j].to_homogeneous().to(device))\n",
    "    if set == 'train':\n",
    "        data = trainset[j].to(device)\n",
    "    elif set == 'validate':\n",
    "        data = validset[j].to(device)\n",
    "    elif set == 'test':\n",
    "        data = testset[j].to(device)\n",
    "    else:\n",
    "        data = dataset.get(j).to(device)\n",
    "\n",
    "    print(j,data.sharpnum.cpu().numpy()[0])\n",
    "    pred = model.forward(data)[0].detach()\n",
    "    n0 = data['bd'].pos.shape[0]\n",
    "    n  = data['in'].pos.shape[0] + n0\n",
    "\n",
    "    Bml = np.concatenate((pred.cpu().numpy(), data['bd'].x[:,0:3].cpu().numpy()),0)\n",
    "    Btn = np.concatenate((data['in'].y.cpu().numpy(), data['bd'].y.cpu().numpy()),0)\n",
    "    nodes = np.concatenate((data['in'].pos.cpu().numpy(),\n",
    "                            np.concatenate((data['bd'].pos.cpu().numpy(),np.zeros((n0,1))),1)\n",
    "                           ),0)\n",
    "    pres = np.concatenate((data['in'].x[:,3:6].detach().cpu().numpy(),data['bd'].x[:,3:6].detach().cpu().numpy()),0)\n",
    "    sharp = data.sharpnum.cpu().numpy()[0]\n",
    "    mat = {'Bml':Bml,\n",
    "           'Btn':Btn,\n",
    "           'nodes':nodes,\n",
    "           'pres':pres,\n",
    "           'sharp':sharp,\n",
    "           'n0':n0,\n",
    "           'n':n}\n",
    "    savemat(f'{folder}\\\\extraps\\\\params-{params}_{set}{j}.mat',mat)"
   ]
  },
  {
   "cell_type": "code",
   "execution_count": null,
   "id": "3762fadb",
   "metadata": {},
   "outputs": [],
   "source": [
    "print(pred.shape)\n",
    "print(data['bd'].x)\n",
    "print(data['bd'].y)\n",
    "print(n0,n)"
   ]
  },
  {
   "cell_type": "code",
   "execution_count": null,
   "id": "1f93401f",
   "metadata": {},
   "outputs": [],
   "source": [
    "n0 = data['bd'].pos.shape[0]\n",
    "n  = data['in'].pos.shape[0] + n0\n",
    "\n",
    "Bml = np.concatenate((pred.cpu().numpy(), data['bd'].x[:,0:3].cpu().numpy()),0)\n",
    "Btn = np.concatenate((data['in'].y.cpu().numpy(), data['bd'].y.cpu().numpy()),0)\n",
    "nodes = np.concatenate((data['in'].pos.cpu().numpy(),\n",
    "                        np.concatenate((data['bd'].pos.cpu().numpy(),np.zeros((n0,1))),1)\n",
    "                       ),0)\n",
    "pres = np.concatenate((data['in'].x[:,3:6].detach().cpu().numpy(),data['bd'].x[:,3:6].detach().cpu().numpy()),0)\n",
    "sharp = data.sharpnum.cpu().numpy()[0]"
   ]
  },
  {
   "cell_type": "code",
   "execution_count": null,
   "id": "25f37d20",
   "metadata": {},
   "outputs": [],
   "source": [
    "for w in model.parameters():\n",
    "    print(w.data)"
   ]
  },
  {
   "cell_type": "code",
   "execution_count": null,
   "id": "a44f830f",
   "metadata": {},
   "outputs": [],
   "source": []
  }
 ],
 "metadata": {
  "kernelspec": {
   "display_name": "Python 3 (ipykernel)",
   "language": "python",
   "name": "python3"
  },
  "language_info": {
   "codemirror_mode": {
    "name": "ipython",
    "version": 3
   },
   "file_extension": ".py",
   "mimetype": "text/x-python",
   "name": "python",
   "nbconvert_exporter": "python",
   "pygments_lexer": "ipython3",
   "version": "3.10.11"
  }
 },
 "nbformat": 4,
 "nbformat_minor": 5
}
