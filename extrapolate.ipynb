{
 "cells": [
  {
   "cell_type": "code",
   "execution_count": null,
   "id": "25aa1953",
   "metadata": {},
   "outputs": [],
   "source": [
    "import numpy as np\n",
    "import torch\n",
    "import torch_geometric as pyg\n",
    "import graphPINN\n",
    "import math\n",
    "import logging\n",
    "from time import time\n",
    "from tqdm.notebook import tqdm\n",
    "from scipy.io import savemat, loadmat\n",
    "import os"
   ]
  },
  {
   "cell_type": "code",
   "execution_count": null,
   "id": "533e6021",
   "metadata": {},
   "outputs": [],
   "source": [
    "folder = \"/home/nasa/code/checkpoints/2023-03-30/\"\n",
    "if not os.path.exists(f'{folder}extraps/'):\n",
    "    os.makedirs(f'{folder}extraps/')\n",
    "device = torch.device('cuda' if torch.cuda.is_available() else 'cpu')"
   ]
  },
  {
   "cell_type": "code",
   "execution_count": null,
   "id": "543d63da",
   "metadata": {},
   "outputs": [],
   "source": [
    "k = 100\n",
    "\n",
    "dataset = graphPINN.data.MHSDataset(f'/mnt/d/data_k={k}',k=k)\n",
    "\n",
    "\n",
    "#trainset, validset, testset = torch.utils.data.random_split(dataset,[0.8, 0.1, 0.1],generator=torch.Generator().manual_seed(314))\n",
    "trainset, validset, testset = torch.utils.data.random_split(dataset,[0.005, 0.001, 0.994],generator=torch.Generator().manual_seed(314))\n",
    "\n",
    "# params = 90\n",
    "params = 3132\n",
    "model = torch.load(f'{folder}model_trainsize-18_k-100_params-{params}.pt').to(device)"
   ]
  },
  {
   "cell_type": "code",
   "execution_count": null,
   "id": "0fbaa356",
   "metadata": {},
   "outputs": [],
   "source": [
    "set = 'train'\n",
    "\n",
    "for j in tqdm(range(5)):\n",
    "    if set == 'train':\n",
    "        data = trainset[j].to_homogeneous().to(device)\n",
    "    elif set == 'validate':\n",
    "        data = validset[j].to_homogeneous().to(device)\n",
    "    else: # set == 'test'\n",
    "        data = testset[j].to_homogeneous().to(device)\n",
    "\n",
    "    pred = model(data)[0].detach()\n",
    "\n",
    "    mat = {'Bml':pred.cpu().numpy(),\n",
    "           'Btn':data.y.cpu().numpy(),\n",
    "           'nodes':data.pos.cpu().numpy(),\n",
    "           'pres':data.x[:,3:6].detach().cpu().numpy()}\n",
    "    savemat(f'{folder}/extraps/params-{params}_{set}{j}.mat',mat)"
   ]
  },
  {
   "cell_type": "code",
   "execution_count": null,
   "id": "3762fadb",
   "metadata": {},
   "outputs": [],
   "source": []
  }
 ],
 "metadata": {
  "kernelspec": {
   "display_name": "Python [conda env:.conda-pinn]",
   "language": "python",
   "name": "conda-env-.conda-pinn-py"
  },
  "language_info": {
   "codemirror_mode": {
    "name": "ipython",
    "version": 3
   },
   "file_extension": ".py",
   "mimetype": "text/x-python",
   "name": "python",
   "nbconvert_exporter": "python",
   "pygments_lexer": "ipython3",
   "version": "3.10.10"
  }
 },
 "nbformat": 4,
 "nbformat_minor": 5
}
