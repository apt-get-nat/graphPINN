{
 "cells": [
  {
   "cell_type": "code",
   "execution_count": 1,
   "id": "25aa1953",
   "metadata": {},
   "outputs": [],
   "source": [
    "import numpy as np\n",
    "import torch\n",
    "import torch_geometric as pyg\n",
    "import graphPINN\n",
    "import math\n",
    "import logging\n",
    "from time import time\n",
    "from tqdm.notebook import tqdm\n",
    "from scipy.io import savemat, loadmat\n",
    "import os"
   ]
  },
  {
   "cell_type": "code",
   "execution_count": 2,
   "id": "533e6021",
   "metadata": {},
   "outputs": [],
   "source": [
    "folder = \"C:\\\\Users\\\\NASA\\\\Documents\\\\ML_checkpoints\\\\2023-05-29\\\\\"\n",
    "if not os.path.exists(f'{folder}extraps\\\\'):\n",
    "    os.makedirs(f'{folder}extraps\\\\')\n",
    "device = torch.device('cuda' if torch.cuda.is_available() else 'cpu')"
   ]
  },
  {
   "cell_type": "code",
   "execution_count": 3,
   "id": "582c4bbb",
   "metadata": {},
   "outputs": [
    {
     "name": "stderr",
     "output_type": "stream",
     "text": [
      "Processing...\n",
      "100%|██████████████████████████████████████████████████████████████████████████████| 175/175 [2:30:26<00:00, 51.58s/it]\n",
      "Done!\n"
     ]
    }
   ],
   "source": [
    "k = 100\n",
    "\n",
    "dataset = graphPINN.data.MHSDataset(f\"E:\\\\scattered_data_v4_k={k}\",k)\n",
    "\n",
    "\n",
    "trainset, validset, testset = torch.utils.data.random_split(dataset,[0.8, 0.1, 0.1],generator=torch.Generator().manual_seed(314))\n",
    "# trainset, validset, testset = torch.utils.data.random_split(dataset,[0.005, 0.001, 0.994],generator=torch.Generator().manual_seed(314))"
   ]
  },
  {
   "cell_type": "code",
   "execution_count": 6,
   "id": "b8b8a7b7",
   "metadata": {},
   "outputs": [],
   "source": [
    "# propdesign = [12,6,3]\n",
    "propdesign = [12,3]\n",
    "# convdesign = [18,9,6,3]\n",
    "convdesign = [18,3]\n",
    "params = 90\n",
    "\n",
    "propkernel = graphPINN.KernelNN(propdesign, torch.nn.ReLU)\n",
    "propgraph = graphPINN.BDPropGraph(propkernel)\n",
    "convkernel = graphPINN.KernelNN(convdesign, torch.nn.ReLU)\n",
    "convgraph = graphPINN.ConvGraph(convkernel)\n",
    "model = pyg.nn.DataParallel(graphPINN.FullModel(propgraph, convgraph))\n",
    "model.load_state_dict(torch.load(f'{folder}_1685420656.7293692epoch-2.pt'))\n",
    "model = model.module.to(device)"
   ]
  },
  {
   "cell_type": "code",
   "execution_count": 5,
   "id": "543d63da",
   "metadata": {},
   "outputs": [
    {
     "ename": "AttributeError",
     "evalue": "'collections.OrderedDict' object has no attribute 'to'",
     "output_type": "error",
     "traceback": [
      "\u001b[1;31m---------------------------------------------------------------------------\u001b[0m",
      "\u001b[1;31mAttributeError\u001b[0m                            Traceback (most recent call last)",
      "Cell \u001b[1;32mIn[5], line 3\u001b[0m\n\u001b[0;32m      1\u001b[0m params \u001b[38;5;241m=\u001b[39m \u001b[38;5;241m90\u001b[39m\n\u001b[0;32m      2\u001b[0m \u001b[38;5;66;03m# params = 3132\u001b[39;00m\n\u001b[1;32m----> 3\u001b[0m model \u001b[38;5;241m=\u001b[39m \u001b[43mtorch\u001b[49m\u001b[38;5;241;43m.\u001b[39;49m\u001b[43mload\u001b[49m\u001b[43m(\u001b[49m\u001b[38;5;124;43mf\u001b[39;49m\u001b[38;5;124;43m'\u001b[39;49m\u001b[38;5;132;43;01m{\u001b[39;49;00m\u001b[43mfolder\u001b[49m\u001b[38;5;132;43;01m}\u001b[39;49;00m\u001b[38;5;124;43m_1685420656.7293692epoch-1.pt\u001b[39;49m\u001b[38;5;124;43m'\u001b[39;49m\u001b[43m)\u001b[49m\u001b[38;5;241;43m.\u001b[39;49m\u001b[43mto\u001b[49m(device)\n\u001b[0;32m      4\u001b[0m \u001b[38;5;28mprint\u001b[39m(model)\n\u001b[0;32m      5\u001b[0m \u001b[38;5;66;03m# model = torch.load(f'{folder}_1680737885.339157model.pt').module\u001b[39;00m\n",
      "\u001b[1;31mAttributeError\u001b[0m: 'collections.OrderedDict' object has no attribute 'to'"
     ]
    }
   ],
   "source": [
    "params = 90\n",
    "# params = 3132\n",
    "model = torch.load(f'{folder}_1685420656.7293692epoch-1.pt').to(device)\n",
    "print(model)\n",
    "# model = torch.load(f'{folder}_1680737885.339157model.pt').module"
   ]
  },
  {
   "cell_type": "code",
   "execution_count": 7,
   "id": "2b43e180",
   "metadata": {},
   "outputs": [],
   "source": [
    "set = 'full'"
   ]
  },
  {
   "cell_type": "code",
   "execution_count": 18,
   "id": "0fbaa356",
   "metadata": {},
   "outputs": [
    {
     "data": {
      "application/vnd.jupyter.widget-view+json": {
       "model_id": "8a589171a6134fff8d624adba8805aec",
       "version_major": 2,
       "version_minor": 0
      },
      "text/plain": [
       "  0%|          | 0/6 [00:00<?, ?it/s]"
      ]
     },
     "metadata": {},
     "output_type": "display_data"
    },
    {
     "name": "stdout",
     "output_type": "stream",
     "text": [
      "42 7075\n",
      "43 7075\n",
      "44 7075\n",
      "45 7075\n",
      "46 7075\n",
      "47 7075\n"
     ]
    }
   ],
   "source": [
    "for j in tqdm(range(42,48)):\n",
    "#     print(trainset[j].to_homogeneous().to(device))\n",
    "    if set == 'train':\n",
    "        data = trainset[j].to_homogeneous().to(device)\n",
    "    elif set == 'validate':\n",
    "        data = validset[j].to_homogeneous().to(device)\n",
    "    elif set == 'test':\n",
    "        data = testset[j].to_homogeneous().to(device)\n",
    "    else:\n",
    "        data = dataset.get(j).to_homogeneous().to(device)\n",
    "\n",
    "    print(j,data.sharpnum.cpu().numpy()[0])\n",
    "    pred = model(data)[0].detach()\n",
    "\n",
    "    mat = {'Bml':pred.cpu().numpy(),\n",
    "           'Btn':data.y.cpu().numpy(),\n",
    "           'nodes':data.pos.cpu().numpy(),\n",
    "           'pres':data.x[:,3:6].detach().cpu().numpy(),\n",
    "           'sharp':data.sharpnum.cpu().numpy()[0]}\n",
    "    savemat(f'{folder}\\\\extraps\\\\params-{params}_{set}{j}.mat',mat)"
   ]
  },
  {
   "cell_type": "code",
   "execution_count": 14,
   "id": "3762fadb",
   "metadata": {},
   "outputs": [
    {
     "name": "stdout",
     "output_type": "stream",
     "text": [
      "7085\n"
     ]
    }
   ],
   "source": [
    "print(data.sharpnum.cpu().numpy()[0])"
   ]
  },
  {
   "cell_type": "code",
   "execution_count": null,
   "id": "1f93401f",
   "metadata": {},
   "outputs": [],
   "source": []
  }
 ],
 "metadata": {
  "kernelspec": {
   "display_name": "Python 3 (ipykernel)",
   "language": "python",
   "name": "python3"
  },
  "language_info": {
   "codemirror_mode": {
    "name": "ipython",
    "version": 3
   },
   "file_extension": ".py",
   "mimetype": "text/x-python",
   "name": "python",
   "nbconvert_exporter": "python",
   "pygments_lexer": "ipython3",
   "version": "3.10.11"
  }
 },
 "nbformat": 4,
 "nbformat_minor": 5
}
