{
 "cells": [
  {
   "cell_type": "code",
   "execution_count": 1,
   "id": "cb2cb74b",
   "metadata": {},
   "outputs": [],
   "source": [
    "import numpy as np\n",
    "import torch\n",
    "import torch_geometric as pyg\n",
    "import graphPINN\n",
    "import math\n",
    "\n",
    "from time import time\n",
    "from scipy.io import savemat, loadmat\n",
    "import os\n",
    "\n",
    "from hanging_threads import start_monitoring"
   ]
  },
  {
   "cell_type": "code",
   "execution_count": 2,
   "id": "81f3cfcb",
   "metadata": {},
   "outputs": [],
   "source": [
    "# os.environ['MKL_THREADING_LAYER'] = 'GNU' # fixes a weird intel multiprocessing error with numpy\n",
    "\n",
    "folder = \"C:\\\\Users\\\\NASA\\\\Documents\\\\ML_checkpoints\\\\2023-10-10\\\\\"\n",
    "if not os.path.exists(folder):\n",
    "    os.makedirs(folder)\n",
    "logfn = graphPINN.debug.Logfn(folder)"
   ]
  },
  {
   "cell_type": "code",
   "execution_count": 3,
   "id": "4279d030",
   "metadata": {},
   "outputs": [
    {
     "name": "stdout",
     "output_type": "stream",
     "text": [
      "0: 48.0 GiB of cuda memory\n",
      "1: 48.0 GiB of cuda memory\n"
     ]
    }
   ],
   "source": [
    "device = torch.device('cuda' if torch.cuda.is_available() else 'cpu')\n",
    "for j in range(torch.cuda.device_count()):\n",
    "    logfn(f\"{j}: {graphPINN.debug.pretty_size(torch.cuda.get_device_properties(j).total_memory)} of {'cuda' if torch.cuda.is_available() else 'cpu'} memory\")\n",
    "\n",
    "k = 100\n",
    "ddp = True\n",
    "\n",
    "l = 100\n",
    "bd = 200\n",
    "dataset = graphPINN.data.MHSDataset(f'D:\\\\v4_set_k={k}_l={l}_bd={bd}',k=k, l=l, bd=bd)"
   ]
  },
  {
   "cell_type": "code",
   "execution_count": 4,
   "id": "e978cdae",
   "metadata": {},
   "outputs": [],
   "source": [
    "# layer 1 of prop: B_0 + x,y_0 + F_0 + x,y,z_node + F_node = 14\n",
    "#     propdesign = [12,6,3]\n",
    "propdesign = [14,6,3]\n",
    "# layer 1 of conv: P_k + x,y,z_k + F_k + P_node + x,y,z_node + F_node = 18\n",
    "#     convdesign = [18,9,6,3]\n",
    "convdesign = [18,12,3]\n",
    "\n",
    "propkernel = graphPINN.KernelNN(propdesign, torch.nn.ReLU)\n",
    "propgraph = graphPINN.BDPropGraph(propkernel)\n",
    "convkernel = graphPINN.KernelNN(convdesign, torch.nn.ReLU)\n",
    "convgraph = graphPINN.ConvGraph(convkernel)\n",
    "model = graphPINN.FullModel(propgraph, convgraph)"
   ]
  },
  {
   "cell_type": "code",
   "execution_count": 5,
   "id": "10085814",
   "metadata": {},
   "outputs": [
    {
     "name": "stdout",
     "output_type": "stream",
     "text": [
      "4594\n",
      "574\n"
     ]
    }
   ],
   "source": [
    "trainset, validset, testset = torch.utils.data.random_split(dataset,[0.8, 0.1, 0.1],generator=torch.Generator().manual_seed(314))\n",
    "#     trainset, validset, testset = torch.utils.data.random_split(dataset,[0.01, 0.005, 0.985],generator=torch.Generator().manual_seed(314))\n",
    "\n",
    "epochs = 5\n",
    "\n",
    "logfn(len(trainset))\n",
    "logfn(len(validset))"
   ]
  },
  {
   "cell_type": "code",
   "execution_count": 9,
   "id": "25e959e6",
   "metadata": {},
   "outputs": [
    {
     "name": "stdout",
     "output_type": "stream",
     "text": [
      "-- starting index 0 = -1 --\n"
     ]
    },
    {
     "data": {
      "application/vnd.jupyter.widget-view+json": {
       "model_id": "0069e4138fb644ddb77463cdceb38a75",
       "version_major": 2,
       "version_minor": 0
      },
      "text/plain": [
       "  0%|          | 0/4594 [00:00<?, ?it/s]"
      ]
     },
     "metadata": {},
     "output_type": "display_data"
    },
    {
     "name": "stdout",
     "output_type": "stream",
     "text": [
      "--vec:0.1374366581439972, mhs:0.05237735062837601, div:0.015456970781087875--\n",
      "  iter 1/4594, loss 0.20527097582817078\n",
      "--vec:0.04796988517045975, mhs:0.0870659202337265, div:0.006511620711535215--\n",
      "  iter 2/4594, loss 0.14154741168022156\n",
      "--vec:0.05644085258245468, mhs:0.17706474661827087, div:0.008398346602916718--\n",
      "  iter 3/4594, loss 0.24190396070480347\n",
      "--vec:0.054155923426151276, mhs:0.13004478812217712, div:0.012861459515988827--\n",
      "  iter 4/4594, loss 0.1970621645450592\n",
      "--vec:0.04105019569396973, mhs:0.07264723628759384, div:0.008229188621044159--\n",
      "  iter 5/4594, loss 0.12192662805318832\n",
      "--vec:0.058447204530239105, mhs:0.13542506098747253, div:0.00864883791655302--\n",
      "  iter 6/4594, loss 0.20252110064029694\n",
      "--vec:9592769536.0, mhs:9.644118193213958e+19, div:2518644480.0--\n",
      "  iter 7/4594, loss 9.644118193213958e+19\n",
      "--vec:nan, mhs:nan, div:nan--\n",
      "NaN found! dataset [tensor([8417], device='cuda:0')]\n",
      "tensor([[nan, nan, nan, nan, nan, nan, nan, nan, nan, nan, nan, nan, nan, nan],\n",
      "        [nan, nan, nan, nan, nan, nan, nan, nan, nan, nan, nan, nan, nan, nan],\n",
      "        [nan, nan, nan, nan, nan, nan, nan, nan, nan, nan, nan, nan, nan, nan],\n",
      "        [nan, nan, nan, nan, nan, nan, nan, nan, nan, nan, nan, nan, nan, nan],\n",
      "        [nan, nan, nan, nan, nan, nan, nan, nan, nan, nan, nan, nan, nan, nan],\n",
      "        [nan, nan, nan, nan, nan, nan, nan, nan, nan, nan, nan, nan, nan, nan]],\n",
      "       device='cuda:0')\n",
      "tensor([nan, nan, nan, nan, nan, nan], device='cuda:0')\n",
      "tensor([[nan, nan, nan, nan, nan, nan],\n",
      "        [nan, nan, nan, nan, nan, nan],\n",
      "        [nan, nan, nan, nan, nan, nan]], device='cuda:0')\n",
      "tensor([nan, nan, nan], device='cuda:0')\n",
      "tensor([[nan, nan, nan, nan, nan, nan, nan, nan, nan, nan, nan, nan, nan, nan, nan, nan, nan, nan],\n",
      "        [nan, nan, nan, nan, nan, nan, nan, nan, nan, nan, nan, nan, nan, nan, nan, nan, nan, nan],\n",
      "        [nan, nan, nan, nan, nan, nan, nan, nan, nan, nan, nan, nan, nan, nan, nan, nan, nan, nan],\n",
      "        [nan, nan, nan, nan, nan, nan, nan, nan, nan, nan, nan, nan, nan, nan, nan, nan, nan, nan],\n",
      "        [nan, nan, nan, nan, nan, nan, nan, nan, nan, nan, nan, nan, nan, nan, nan, nan, nan, nan],\n",
      "        [nan, nan, nan, nan, nan, nan, nan, nan, nan, nan, nan, nan, nan, nan, nan, nan, nan, nan],\n",
      "        [nan, nan, nan, nan, nan, nan, nan, nan, nan, nan, nan, nan, nan, nan, nan, nan, nan, nan],\n",
      "        [nan, nan, nan, nan, nan, nan, nan, nan, nan, nan, nan, nan, nan, nan, nan, nan, nan, nan],\n",
      "        [nan, nan, nan, nan, nan, nan, nan, nan, nan, nan, nan, nan, nan, nan, nan, nan, nan, nan],\n",
      "        [nan, nan, nan, nan, nan, nan, nan, nan, nan, nan, nan, nan, nan, nan, nan, nan, nan, nan],\n",
      "        [nan, nan, nan, nan, nan, nan, nan, nan, nan, nan, nan, nan, nan, nan, nan, nan, nan, nan],\n",
      "        [nan, nan, nan, nan, nan, nan, nan, nan, nan, nan, nan, nan, nan, nan, nan, nan, nan, nan]],\n",
      "       device='cuda:0')\n",
      "tensor([nan, nan, nan, nan, nan, nan, nan, nan, nan, nan, nan, nan],\n",
      "       device='cuda:0')\n",
      "tensor([[nan, nan, nan, nan, nan, nan, nan, nan, nan, nan, nan, nan],\n",
      "        [nan, nan, nan, nan, nan, nan, nan, nan, nan, nan, nan, nan],\n",
      "        [nan, nan, nan, nan, nan, nan, nan, nan, nan, nan, nan, nan]],\n",
      "       device='cuda:0')\n",
      "tensor([nan, nan, nan], device='cuda:0')\n"
     ]
    },
    {
     "ename": "AssertionError",
     "evalue": "Nan found",
     "output_type": "error",
     "traceback": [
      "\u001b[1;31m---------------------------------------------------------------------------\u001b[0m",
      "\u001b[1;31mAssertionError\u001b[0m                            Traceback (most recent call last)",
      "Cell \u001b[1;32mIn[9], line 1\u001b[0m\n\u001b[1;32m----> 1\u001b[0m training_loss, validation_loss, state_dict \u001b[38;5;241m=\u001b[39m \u001b[43mgraphPINN\u001b[49m\u001b[38;5;241;43m.\u001b[39;49m\u001b[43mlearn\u001b[49m\u001b[38;5;241;43m.\u001b[39;49m\u001b[43mtrain\u001b[49m\u001b[43m(\u001b[49m\n\u001b[0;32m      2\u001b[0m \u001b[43m            \u001b[49m\u001b[43mmodel\u001b[49m\u001b[43m,\u001b[49m\u001b[43m \u001b[49m\u001b[43mtrainset\u001b[49m\u001b[43m,\u001b[49m\u001b[43m \u001b[49m\u001b[43mvalidset\u001b[49m\u001b[43m,\u001b[49m\u001b[43m \u001b[49m\u001b[43muse_tqdm\u001b[49m\u001b[43m \u001b[49m\u001b[38;5;241;43m=\u001b[39;49m\u001b[43m \u001b[49m\u001b[38;5;28;43;01mTrue\u001b[39;49;00m\u001b[43m,\u001b[49m\u001b[43m \u001b[49m\u001b[43mlossindex\u001b[49m\u001b[38;5;241;43m=\u001b[39;49m\u001b[43m[\u001b[49m\u001b[38;5;241;43m-\u001b[39;49m\u001b[38;5;241;43m1\u001b[39;49m\u001b[43m]\u001b[49m\u001b[43m,\u001b[49m\n\u001b[0;32m      3\u001b[0m \u001b[43m            \u001b[49m\u001b[43mepochs\u001b[49m\u001b[38;5;241;43m=\u001b[39;49m\u001b[43mepochs\u001b[49m\u001b[43m,\u001b[49m\u001b[43m \u001b[49m\u001b[43mlogfn\u001b[49m\u001b[38;5;241;43m=\u001b[39;49m\u001b[43mlogfn\u001b[49m\u001b[43m,\u001b[49m\u001b[43m \u001b[49m\u001b[43mcheckpointfile\u001b[49m\u001b[38;5;241;43m=\u001b[39;49m\u001b[43mfolder\u001b[49m\u001b[43m,\u001b[49m\u001b[43m \u001b[49m\u001b[43muse_ddp\u001b[49m\u001b[43m \u001b[49m\u001b[38;5;241;43m=\u001b[39;49m\u001b[43m \u001b[49m\u001b[38;5;28;43;01mFalse\u001b[39;49;00m\u001b[43m,\u001b[49m\u001b[43m \u001b[49m\u001b[43moptmethod\u001b[49m\u001b[38;5;241;43m=\u001b[39;49m\u001b[43mtorch\u001b[49m\u001b[38;5;241;43m.\u001b[39;49m\u001b[43moptim\u001b[49m\u001b[38;5;241;43m.\u001b[39;49m\u001b[43mLBFGS\u001b[49m\u001b[43m)\u001b[49m\n\u001b[0;32m      4\u001b[0m model\u001b[38;5;241m.\u001b[39mload_state_dict(state_dict)\n\u001b[0;32m      5\u001b[0m lossdict \u001b[38;5;241m=\u001b[39m { \u001b[38;5;124m'\u001b[39m\u001b[38;5;124mtrainloss\u001b[39m\u001b[38;5;124m'\u001b[39m:  training_loss\u001b[38;5;241m.\u001b[39mnumpy(),\n\u001b[0;32m      6\u001b[0m              \u001b[38;5;124m'\u001b[39m\u001b[38;5;124mvalidloss\u001b[39m\u001b[38;5;124m'\u001b[39m:validation_loss\u001b[38;5;241m.\u001b[39mnumpy(),\n\u001b[0;32m      7\u001b[0m              \u001b[38;5;124m'\u001b[39m\u001b[38;5;124mindex_array\u001b[39m\u001b[38;5;124m'\u001b[39m:\u001b[38;5;28mstr\u001b[39m(lossindex)\n\u001b[0;32m      8\u001b[0m            }\n",
      "File \u001b[1;32m~\\Documents\\Python Scripts\\graphPINN\\graphPINN\\learn.py:38\u001b[0m, in \u001b[0;36mtrain\u001b[1;34m(model, trainset, validset, epochs, start_epoch, logfn, optmethod, lossindex, checkpointfile, use_ddp, use_tqdm)\u001b[0m\n\u001b[0;32m     35\u001b[0m start_time \u001b[38;5;241m=\u001b[39m time()\n\u001b[0;32m     36\u001b[0m model\u001b[38;5;241m.\u001b[39mtrain(\u001b[38;5;28;01mTrue\u001b[39;00m)\n\u001b[1;32m---> 38\u001b[0m training_loss[:,epoch,index] \u001b[38;5;241m=\u001b[39m \u001b[43mrunEpoch\u001b[49m\u001b[43m(\u001b[49m\u001b[43mmodel\u001b[49m\u001b[43m,\u001b[49m\u001b[43m \u001b[49m\u001b[43mtrainset\u001b[49m\u001b[43m,\u001b[49m\u001b[43m \u001b[49m\u001b[43moptmethod\u001b[49m\u001b[43m \u001b[49m\u001b[38;5;241;43m=\u001b[39;49m\u001b[43m \u001b[49m\u001b[43moptmethod\u001b[49m\u001b[43m,\u001b[49m\n\u001b[0;32m     39\u001b[0m \u001b[43m                                  \u001b[49m\u001b[43mlogfn\u001b[49m\u001b[38;5;241;43m=\u001b[39;49m\u001b[43mlogfn\u001b[49m\u001b[43m,\u001b[49m\u001b[43m \u001b[49m\u001b[43mlossindex\u001b[49m\u001b[38;5;241;43m=\u001b[39;49m\u001b[43mlossindex\u001b[49m\u001b[43m[\u001b[49m\u001b[43mindex\u001b[49m\u001b[43m]\u001b[49m\u001b[43m,\u001b[49m\u001b[43m \u001b[49m\u001b[43muse_tqdm\u001b[49m\u001b[38;5;241;43m=\u001b[39;49m\u001b[43muse_tqdm\u001b[49m\n\u001b[0;32m     40\u001b[0m \u001b[43m                                 \u001b[49m\u001b[43m)\u001b[49m\n\u001b[0;32m     41\u001b[0m logfn(\u001b[38;5;124mf\u001b[39m\u001b[38;5;124m'\u001b[39m\u001b[38;5;124mEpoch \u001b[39m\u001b[38;5;132;01m{\u001b[39;00mepoch\u001b[38;5;241m+\u001b[39m\u001b[38;5;241m1\u001b[39m\u001b[38;5;132;01m}\u001b[39;00m\u001b[38;5;124m completed. Loss: \u001b[39m\u001b[38;5;132;01m{\u001b[39;00mtraining_loss[\u001b[38;5;241m3\u001b[39m,epoch,index]\u001b[38;5;132;01m}\u001b[39;00m\u001b[38;5;124m; Total time: \u001b[39m\u001b[38;5;132;01m{\u001b[39;00mtime()\u001b[38;5;241m-\u001b[39mstart_time\u001b[38;5;132;01m}\u001b[39;00m\u001b[38;5;124m'\u001b[39m)\n\u001b[0;32m     42\u001b[0m logfn(\u001b[38;5;124mf\u001b[39m\u001b[38;5;124m'\u001b[39m\u001b[38;5;124mrunning vec: \u001b[39m\u001b[38;5;132;01m{\u001b[39;00mtraining_loss[\u001b[38;5;241m0\u001b[39m,epoch,index]\u001b[38;5;132;01m}\u001b[39;00m\u001b[38;5;124m, running mhs: \u001b[39m\u001b[38;5;132;01m{\u001b[39;00mtraining_loss[\u001b[38;5;241m1\u001b[39m,epoch,index]\u001b[38;5;132;01m}\u001b[39;00m\u001b[38;5;124m, running div: \u001b[39m\u001b[38;5;132;01m{\u001b[39;00mtraining_loss[\u001b[38;5;241m2\u001b[39m,epoch,index]\u001b[38;5;132;01m}\u001b[39;00m\u001b[38;5;124m'\u001b[39m)\n",
      "File \u001b[1;32m~\\Documents\\Python Scripts\\graphPINN\\graphPINN\\learn.py:117\u001b[0m, in \u001b[0;36mrunEpoch\u001b[1;34m(model, dataset, optmethod, logfn, lossindex, ddpRank, world_size, epoch, use_tqdm)\u001b[0m\n\u001b[0;32m    115\u001b[0m     \u001b[38;5;28;01mfor\u001b[39;00m w \u001b[38;5;129;01min\u001b[39;00m model\u001b[38;5;241m.\u001b[39mparameters():\n\u001b[0;32m    116\u001b[0m         logfn(w\u001b[38;5;241m.\u001b[39mdata)\n\u001b[1;32m--> 117\u001b[0m     \u001b[38;5;28;01mraise\u001b[39;00m \u001b[38;5;167;01mAssertionError\u001b[39;00m(\u001b[38;5;124m'\u001b[39m\u001b[38;5;124mNan found\u001b[39m\u001b[38;5;124m'\u001b[39m)\n\u001b[0;32m    119\u001b[0m \u001b[38;5;28;01mif\u001b[39;00m model\u001b[38;5;241m.\u001b[39mtraining:\n\u001b[0;32m    120\u001b[0m     loss\u001b[38;5;241m.\u001b[39mbackward()\n",
      "\u001b[1;31mAssertionError\u001b[0m: Nan found"
     ]
    }
   ],
   "source": [
    "training_loss, validation_loss, state_dict = graphPINN.learn.train(\n",
    "            model, trainset, validset, use_tqdm = True, lossindex=[-1],\n",
    "            epochs=epochs, logfn=logfn, checkpointfile=folder, use_ddp = False, optmethod=torch.optim.LBFGS)\n",
    "model.load_state_dict(state_dict)\n",
    "lossdict = { 'trainloss':  training_loss.numpy(),\n",
    "             'validloss':validation_loss.numpy(),\n",
    "             'index_array':str(lossindex)\n",
    "           }\n",
    "logfn(f'training loss:\\n{lossdict[f\"trainloss\"]}')\n",
    "logfn(f'validation loss:\\n{lossdict[f\"validloss\"]}')\n",
    "\n",
    "torch.save(model, f'{folder}model_trainsize-{len(trainset)}_k-{k}_params-{math.prod(convdesign)+math.prod(propdesign)}.pt')\n",
    "savemat(f'{folder}loss_{epochs}_trainsize-{len(trainset)}_k-{k}_params-{math.prod(convdesign)+math.prod(propdesign)}.mat',lossdict)"
   ]
  },
  {
   "cell_type": "code",
   "execution_count": null,
   "id": "2a871bf9",
   "metadata": {},
   "outputs": [],
   "source": [
    "import importlib\n",
    "importlib.reload(graphPINN)"
   ]
  },
  {
   "cell_type": "code",
   "execution_count": null,
   "id": "2aab9c15",
   "metadata": {},
   "outputs": [],
   "source": []
  }
 ],
 "metadata": {
  "kernelspec": {
   "display_name": "Python 3 (ipykernel)",
   "language": "python",
   "name": "python3"
  },
  "language_info": {
   "codemirror_mode": {
    "name": "ipython",
    "version": 3
   },
   "file_extension": ".py",
   "mimetype": "text/x-python",
   "name": "python",
   "nbconvert_exporter": "python",
   "pygments_lexer": "ipython3",
   "version": "3.10.11"
  }
 },
 "nbformat": 4,
 "nbformat_minor": 5
}
