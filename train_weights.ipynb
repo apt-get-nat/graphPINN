{
 "cells": [
  {
   "cell_type": "code",
   "execution_count": 1,
   "id": "0f0496c8",
   "metadata": {},
   "outputs": [],
   "source": [
    "import numpy as np\n",
    "import torch\n",
    "import torch_geometric as pyg\n",
    "import graphPINN\n",
    "import math\n",
    "import logging\n",
    "from time import time\n",
    "from tqdm.notebook import tqdm\n",
    "from scipy.io import savemat, loadmat\n",
    "import os"
   ]
  },
  {
   "cell_type": "code",
   "execution_count": 2,
   "id": "45a621a7",
   "metadata": {},
   "outputs": [],
   "source": [
    "folder = \"/home/nasa/code/checkpoints/2023-04-25/\"\n",
    "if not os.path.exists(folder):\n",
    "    os.makedirs(folder)"
   ]
  },
  {
   "cell_type": "code",
   "execution_count": 3,
   "id": "1868bce1",
   "metadata": {},
   "outputs": [],
   "source": [
    "def pretty_size(n,pow=0,b=1024,u='B',pre=['']+[p+'i'for p in'KMGTPEZY']):\n",
    "    pow,n=min(int(math.log(max(n*b**pow,1),b)),len(pre)-1),n*b**pow\n",
    "    return \"%%.%if %%s%%s\"%abs(pow%(-pow-1))%(n/b**float(pow),pre[pow],u)\n",
    "\n",
    "logging.basicConfig(filename=f'{folder}run.log',format='%(asctime)s - %(message)s', filemode='a+', level=logging.INFO)\n",
    "def logfn(message, tq=True):\n",
    "    logging.info(message)\n",
    "    if tq:\n",
    "        tqdm.write(message)\n",
    "    else:\n",
    "        print(message)"
   ]
  },
  {
   "cell_type": "code",
   "execution_count": 4,
   "id": "5d03cba2",
   "metadata": {},
   "outputs": [],
   "source": [
    "device = torch.device('cuda' if torch.cuda.is_available() else 'cpu')"
   ]
  },
  {
   "cell_type": "code",
   "execution_count": 5,
   "id": "db42feca",
   "metadata": {},
   "outputs": [
    {
     "name": "stdout",
     "output_type": "stream",
     "text": [
      "0: 48.0 GiB of cuda memory\n",
      "1: 48.0 GiB of cuda memory\n"
     ]
    }
   ],
   "source": [
    "for j in range(torch.cuda.device_count()):\n",
    "    logfn(f\"{j}: {pretty_size(torch.cuda.get_device_properties(j).total_memory)} of {'cuda' if torch.cuda.is_available() else 'cpu'} memory\")"
   ]
  },
  {
   "cell_type": "code",
   "execution_count": 6,
   "id": "b9361de8",
   "metadata": {
    "scrolled": false
   },
   "outputs": [
    {
     "name": "stderr",
     "output_type": "stream",
     "text": [
      "Processing...\n",
      "100%|███████████████████████████████████████████████████████████████████████████████████| 11/11 [06:54<00:00, 37.71s/it]\n",
      "Done!\n"
     ]
    }
   ],
   "source": [
    "k = 100\n",
    "ddp = False\n",
    "\n",
    "dataset = graphPINN.data.MHSDataset(f'/mnt/d/scattered_data_k={k}',k=k)\n",
    "\n",
    "propdesign = [12,6,3]\n",
    "# propdesign = [12,3]\n",
    "convdesign = [18,9,6,3]\n",
    "# convdesign = [18,3]\n",
    "\n",
    "propkernel = graphPINN.KernelNN(propdesign, torch.nn.ReLU)\n",
    "propgraph = graphPINN.BDPropGraph(propkernel)\n",
    "convkernel = graphPINN.KernelNN(convdesign, torch.nn.ReLU)\n",
    "convgraph = graphPINN.ConvGraph(convkernel)\n",
    "\n",
    "model = graphPINN.FullModel(propgraph, convgraph).to(device)\n",
    "\n",
    "trainset, validset, testset = torch.utils.data.random_split(dataset,[0.8, 0.1, 0.1],generator=torch.Generator().manual_seed(314))\n",
    "# trainset, validset, testset = torch.utils.data.random_split(dataset,[0.005, 0.001, 0.994],generator=torch.Generator().manual_seed(314))"
   ]
  },
  {
   "cell_type": "code",
   "execution_count": null,
   "id": "b11b6569",
   "metadata": {
    "scrolled": false
   },
   "outputs": [],
   "source": [
    "epochs = 5\n",
    "key = 0\n",
    "lossdict = {}\n",
    "\n",
    "    \n",
    "training_loss, validation_loss, state_dict = graphPINN.learn.train(\n",
    "            model, trainset, validset, epochs=epochs,\n",
    "            logfn=logfn, checkpointfile = f'{folder}_trainsize-{len(trainset)}_k-{k}')\n",
    "torch.save(state_dict, f'{folder}model_key-{key}_trainsize-{len(trainset)}_k-{k}.pt')\n",
    "\n",
    "lossdict[f'trainloss'] = training_loss.numpy()\n",
    "lossdict[f'validloss'] = validation_loss.numpy()\n",
    "logfn(f'training loss:\\n{lossdict[f\"train{key}\"]}')\n",
    "logfn(f'validation loss:\\n{lossdict[f\"valid{key}\"]}')\n",
    "savemat(f'{folder}loss_key-{key}_params-{math.prod(convdesign)+math.prod(propdesign)}.mat', lossdict)\n",
    "    \n",
    "    \n",
    "lossdict['index_array'] = str(lossdict['index_array'])\n",
    "torch.save(model, f'{folder}model_trainsize-{len(trainset)}_k-{k}_params-{math.prod(convdesign)+math.prod(propdesign)}.pt')\n",
    "savemat(f'{folder}loss_{epochs}_trainsize-{len(trainset)}_k-{k}_params-{math.prod(convdesign)+math.prod(propdesign)}.mat', lossdict)"
   ]
  },
  {
   "cell_type": "code",
   "execution_count": null,
   "id": "c127280b",
   "metadata": {},
   "outputs": [],
   "source": [
    "print(f'{pretty_size(torch.cuda.memory_allocated())}/{pretty_size(torch.cuda.max_memory_allocated())} allocated, ' +\n",
    "      f'{pretty_size(torch.cuda.memory_reserved())}/{pretty_size(torch.cuda.get_device_properties(0).total_memory)} reserved')"
   ]
  },
  {
   "cell_type": "code",
   "execution_count": null,
   "id": "604f24c4",
   "metadata": {},
   "outputs": [],
   "source": [
    "# convgraph.load_state_dict(torch.load('epoch-0_trainsize-3092_k-100.pt'))"
   ]
  },
  {
   "cell_type": "code",
   "execution_count": null,
   "id": "f8cbd7f9",
   "metadata": {},
   "outputs": [],
   "source": [
    "sample = dataset[0]\n",
    "sample['bd','propagates','in'].edge_index, sample['bd','propagates','in'].edge_attr = \\\n",
    "            pyg.utils.dense_to_sparse(\n",
    "                        torch.ones(sample['bd'].x.shape[0],sample['in'].x.shape[0])\n",
    "            )\n",
    "print(sample)"
   ]
  },
  {
   "cell_type": "code",
   "execution_count": null,
   "id": "2276101d",
   "metadata": {},
   "outputs": [],
   "source": [
    "homosamp = sample.to_homogeneous()"
   ]
  },
  {
   "cell_type": "code",
   "execution_count": null,
   "id": "522ef4a0",
   "metadata": {},
   "outputs": [],
   "source": [
    "print(sample['in'].x)"
   ]
  },
  {
   "cell_type": "code",
   "execution_count": null,
   "id": "b332f7f5",
   "metadata": {},
   "outputs": [],
   "source": [
    "print(homosamp.edge_index[:,homosamp.edge_type==1])"
   ]
  },
  {
   "cell_type": "code",
   "execution_count": null,
   "id": "cb6e4348",
   "metadata": {},
   "outputs": [],
   "source": [
    "lossdict"
   ]
  },
  {
   "cell_type": "code",
   "execution_count": null,
   "id": "7359b2f4",
   "metadata": {},
   "outputs": [],
   "source": [
    "mat = loadmat(f'{folder}loss_{epochs}_trainsize-{len(trainset)}_k-{k}_params-90.mat')"
   ]
  },
  {
   "cell_type": "code",
   "execution_count": null,
   "id": "9ba6447e",
   "metadata": {},
   "outputs": [],
   "source": [
    "for key in mat:\n",
    "    print(key)\n",
    "    print(mat[key])"
   ]
  },
  {
   "cell_type": "code",
   "execution_count": null,
   "id": "b62af8dd",
   "metadata": {},
   "outputs": [],
   "source": [
    "range(5)"
   ]
  },
  {
   "cell_type": "code",
   "execution_count": null,
   "id": "55d3acd4",
   "metadata": {},
   "outputs": [],
   "source": [
    "dataset = graphPINN.data.SHARPData(graphPINN.data._allsharps)"
   ]
  },
  {
   "cell_type": "code",
   "execution_count": null,
   "id": "f6679a23",
   "metadata": {},
   "outputs": [],
   "source": [
    "sim = dataset.__getitem__(0)[0]\n",
    "x_in = torch.zeros(sim[1].shape)\n",
    "x_bd = sim[3]\n",
    "y_in = sim[1]\n",
    "y_bd = sim[3]\n",
    "pos_in = sim[0]\n",
    "pos_bd = torch.cat((sim[2],torch.zeros(sim[2].shape[0],1)),1)\n",
    "\n",
    "p_in = sim[4]\n",
    "p_bd = sim[5]\n",
    "\n",
    "data = pyg.data.HeteroData()\n",
    "data['in'].x = torch.cat((x_in,p_in),1)\n",
    "data['in'].y = y_in\n",
    "data['in'].pos = pos_in\n",
    "data['in','adj','in'].edge_index = pyg.transforms.KNNGraph(k=50)(data['in']).edge_index\n",
    "data['in'].edge_index = None"
   ]
  },
  {
   "cell_type": "code",
   "execution_count": null,
   "id": "83d33983",
   "metadata": {},
   "outputs": [],
   "source": [
    "trainLoader = pyg.loader.DataListLoader(trainset, batch_size=2,shuffle=False)\n",
    "for data in trainLoader:\n",
    "    for j in range(len(data)):\n",
    "        data[j] = data[j].to_homogeneous()\n",
    "    true = [torch.cat([datum.y[:,0:3] for datum in data]),\n",
    "            torch.cat([datum.x[:,3] for datum in data]),\n",
    "            torch.cat([datum.x[:,4] for datum in data]),\n",
    "            torch.cat([datum.x[:,5] for datum in data])]\n",
    "\n",
    "    pred = model(data)\n",
    "\n",
    "    print(pred)\n",
    "    print(true)\n",
    "    break"
   ]
  },
  {
   "cell_type": "code",
   "execution_count": null,
   "id": "a10e9e1c",
   "metadata": {},
   "outputs": [],
   "source": [
    "len('')"
   ]
  },
  {
   "cell_type": "code",
   "execution_count": null,
   "id": "25e959e6",
   "metadata": {},
   "outputs": [],
   "source": []
  }
 ],
 "metadata": {
  "kernelspec": {
   "display_name": "Python [conda env:.conda-pinn]",
   "language": "python",
   "name": "conda-env-.conda-pinn-py"
  },
  "language_info": {
   "codemirror_mode": {
    "name": "ipython",
    "version": 3
   },
   "file_extension": ".py",
   "mimetype": "text/x-python",
   "name": "python",
   "nbconvert_exporter": "python",
   "pygments_lexer": "ipython3",
   "version": "3.10.10"
  }
 },
 "nbformat": 4,
 "nbformat_minor": 5
}
