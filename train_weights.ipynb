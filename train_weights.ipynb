{
 "cells": [
  {
   "cell_type": "code",
   "execution_count": 1,
   "id": "0f0496c8",
   "metadata": {},
   "outputs": [],
   "source": [
    "import numpy as np\n",
    "import torch\n",
    "import torch_geometric as pyg\n",
    "import graphPINN\n",
    "import math\n",
    "import logging\n",
    "from time import time\n",
    "from tqdm.notebook import tqdm\n",
    "from scipy.io import savemat, loadmat\n",
    "import os"
   ]
  },
  {
   "cell_type": "code",
   "execution_count": 2,
   "id": "45a621a7",
   "metadata": {},
   "outputs": [],
   "source": [
    "folder = \"/home/nasa/code/checkpoints/2023-04-03/\"\n",
    "if not os.path.exists(folder):\n",
    "    os.makedirs(folder)"
   ]
  },
  {
   "cell_type": "code",
   "execution_count": 3,
   "id": "1868bce1",
   "metadata": {},
   "outputs": [],
   "source": [
    "def pretty_size(n,pow=0,b=1024,u='B',pre=['']+[p+'i'for p in'KMGTPEZY']):\n",
    "    pow,n=min(int(math.log(max(n*b**pow,1),b)),len(pre)-1),n*b**pow\n",
    "    return \"%%.%if %%s%%s\"%abs(pow%(-pow-1))%(n/b**float(pow),pre[pow],u)\n",
    "\n",
    "logging.basicConfig(filename=f'{folder}run.log',format='%(asctime)s - %(message)s', filemode='a+', level=logging.INFO)\n",
    "def logfn(message, tq=True):\n",
    "    logging.info(message)\n",
    "    if tq:\n",
    "        tqdm.write(message)\n",
    "    else:\n",
    "        print(message)"
   ]
  },
  {
   "cell_type": "code",
   "execution_count": 4,
   "id": "5d03cba2",
   "metadata": {},
   "outputs": [],
   "source": [
    "device = torch.device('cuda' if torch.cuda.is_available() else 'cpu')"
   ]
  },
  {
   "cell_type": "code",
   "execution_count": 5,
   "id": "db42feca",
   "metadata": {},
   "outputs": [
    {
     "name": "stdout",
     "output_type": "stream",
     "text": [
      "0: 48.0 GiB of cuda memory\n",
      "1: 48.0 GiB of cuda memory\n"
     ]
    }
   ],
   "source": [
    "for j in range(torch.cuda.device_count()):\n",
    "    logfn(f\"{j}: {pretty_size(torch.cuda.get_device_properties(j).total_memory)} of {'cuda' if torch.cuda.is_available() else 'cpu'} memory\")"
   ]
  },
  {
   "cell_type": "code",
   "execution_count": 6,
   "id": "b9361de8",
   "metadata": {},
   "outputs": [],
   "source": [
    "k = 100\n",
    "ddp = False\n",
    "\n",
    "dataset = graphPINN.data.MHSDataset(f'/mnt/d/data_k={k}',k=k)\n",
    "\n",
    "propdesign = [12,6,3]\n",
    "# propdesign = [12,3]\n",
    "convdesign = [18,9,6,3]\n",
    "# convdesign = [18,3]\n",
    "\n",
    "propkernel = graphPINN.KernelNN(propdesign, torch.nn.ReLU)\n",
    "propgraph = graphPINN.BDPropGraph(propkernel)\n",
    "convkernel = graphPINN.KernelNN(convdesign, torch.nn.ReLU)\n",
    "convgraph = graphPINN.ConvGraph(convkernel)\n",
    "\n",
    "model = graphPINN.FullModel(propgraph, convgraph).to(device)\n",
    "\n",
    "#trainset, validset, testset = torch.utils.data.random_split(dataset,[0.8, 0.1, 0.1],generator=torch.Generator().manual_seed(314))\n",
    "trainset, validset, testset = torch.utils.data.random_split(dataset,[0.005, 0.001, 0.994],generator=torch.Generator().manual_seed(314))"
   ]
  },
  {
   "cell_type": "code",
   "execution_count": 7,
   "id": "b11b6569",
   "metadata": {
    "scrolled": false
   },
   "outputs": [
    {
     "data": {
      "application/vnd.jupyter.widget-view+json": {
       "model_id": "2e4e61c9721f4a2f8ae734e6f7829a6c",
       "version_major": 2,
       "version_minor": 0
      },
      "text/plain": [
       "  0%|          | 0/5 [00:00<?, ?it/s]"
      ]
     },
     "metadata": {},
     "output_type": "display_data"
    },
    {
     "name": "stdout",
     "output_type": "stream",
     "text": [
      "key 0 - index [0, 1, 2]\n"
     ]
    },
    {
     "data": {
      "application/vnd.jupyter.widget-view+json": {
       "model_id": "a152140295044ac395e76b88cc1e6aa0",
       "version_major": 2,
       "version_minor": 0
      },
      "text/plain": [
       "  0%|          | 0/18 [00:00<?, ?it/s]"
      ]
     },
     "metadata": {},
     "output_type": "display_data"
    },
    {
     "name": "stdout",
     "output_type": "stream",
     "text": [
      "  iter 1/18, loss 5.718084812164307\n",
      "  iter 2/18, loss 4.106081962585449\n",
      "  iter 3/18, loss 10.801087379455566\n",
      "  iter 4/18, loss 7.518902778625488\n"
     ]
    },
    {
     "ename": "KeyboardInterrupt",
     "evalue": "",
     "output_type": "error",
     "traceback": [
      "\u001b[0;31m---------------------------------------------------------------------------\u001b[0m",
      "\u001b[0;31mKeyboardInterrupt\u001b[0m                         Traceback (most recent call last)",
      "Cell \u001b[0;32mIn[7], line 8\u001b[0m\n\u001b[1;32m      5\u001b[0m \u001b[38;5;28;01mfor\u001b[39;00m index \u001b[38;5;129;01min\u001b[39;00m tqdm(lossdict[\u001b[38;5;124m'\u001b[39m\u001b[38;5;124mindex_array\u001b[39m\u001b[38;5;124m'\u001b[39m]):\n\u001b[1;32m      6\u001b[0m     \u001b[38;5;28mprint\u001b[39m(\u001b[38;5;124mf\u001b[39m\u001b[38;5;124m'\u001b[39m\u001b[38;5;124mkey \u001b[39m\u001b[38;5;132;01m{\u001b[39;00mkey\u001b[38;5;132;01m}\u001b[39;00m\u001b[38;5;124m - index \u001b[39m\u001b[38;5;132;01m{\u001b[39;00mindex\u001b[38;5;132;01m}\u001b[39;00m\u001b[38;5;124m'\u001b[39m)\n\u001b[0;32m----> 8\u001b[0m     training_loss, validation_loss \u001b[38;5;241m=\u001b[39m \u001b[43mgraphPINN\u001b[49m\u001b[38;5;241;43m.\u001b[39;49m\u001b[43mlearn\u001b[49m\u001b[38;5;241;43m.\u001b[39;49m\u001b[43mtrain\u001b[49m\u001b[43m(\u001b[49m\n\u001b[1;32m      9\u001b[0m \u001b[43m                \u001b[49m\u001b[43mmodel\u001b[49m\u001b[43m,\u001b[49m\u001b[43m \u001b[49m\u001b[43mtrainset\u001b[49m\u001b[43m,\u001b[49m\u001b[43m \u001b[49m\u001b[43mvalidset\u001b[49m\u001b[43m,\u001b[49m\u001b[43m \u001b[49m\u001b[43mepochs\u001b[49m\u001b[38;5;241;43m=\u001b[39;49m\u001b[43mepochs\u001b[49m\u001b[43m,\u001b[49m\n\u001b[1;32m     10\u001b[0m \u001b[43m                \u001b[49m\u001b[43mlogfn\u001b[49m\u001b[38;5;241;43m=\u001b[39;49m\u001b[43mlogfn\u001b[49m\u001b[43m,\u001b[49m\u001b[43m \u001b[49m\u001b[43mcheckpointfile\u001b[49m\u001b[43m \u001b[49m\u001b[38;5;241;43m=\u001b[39;49m\u001b[43m \u001b[49m\u001b[38;5;124;43mf\u001b[39;49m\u001b[38;5;124;43m'\u001b[39;49m\u001b[38;5;132;43;01m{\u001b[39;49;00m\u001b[43mfolder\u001b[49m\u001b[38;5;132;43;01m}\u001b[39;49;00m\u001b[38;5;124;43m_trainsize-\u001b[39;49m\u001b[38;5;132;43;01m{\u001b[39;49;00m\u001b[38;5;28;43mlen\u001b[39;49m\u001b[43m(\u001b[49m\u001b[43mtrainset\u001b[49m\u001b[43m)\u001b[49m\u001b[38;5;132;43;01m}\u001b[39;49;00m\u001b[38;5;124;43m_k-\u001b[39;49m\u001b[38;5;132;43;01m{\u001b[39;49;00m\u001b[43mk\u001b[49m\u001b[38;5;132;43;01m}\u001b[39;49;00m\u001b[38;5;124;43m'\u001b[39;49m\u001b[43m)\u001b[49m\n\u001b[1;32m     11\u001b[0m     torch\u001b[38;5;241m.\u001b[39msave(model\u001b[38;5;241m.\u001b[39mstate_dict(), \u001b[38;5;124mf\u001b[39m\u001b[38;5;124m'\u001b[39m\u001b[38;5;132;01m{\u001b[39;00mfolder\u001b[38;5;132;01m}\u001b[39;00m\u001b[38;5;124mmodel_key-\u001b[39m\u001b[38;5;132;01m{\u001b[39;00mkey\u001b[38;5;132;01m}\u001b[39;00m\u001b[38;5;124m_trainsize-\u001b[39m\u001b[38;5;132;01m{\u001b[39;00m\u001b[38;5;28mlen\u001b[39m(trainset)\u001b[38;5;132;01m}\u001b[39;00m\u001b[38;5;124m_k-\u001b[39m\u001b[38;5;132;01m{\u001b[39;00mk\u001b[38;5;132;01m}\u001b[39;00m\u001b[38;5;124m.pt\u001b[39m\u001b[38;5;124m'\u001b[39m)\n\u001b[1;32m     13\u001b[0m     lossdict[\u001b[38;5;124mf\u001b[39m\u001b[38;5;124m'\u001b[39m\u001b[38;5;124mtrain\u001b[39m\u001b[38;5;132;01m{\u001b[39;00mkey\u001b[38;5;132;01m}\u001b[39;00m\u001b[38;5;124m'\u001b[39m] \u001b[38;5;241m=\u001b[39m training_loss\u001b[38;5;241m.\u001b[39mnumpy()\n",
      "File \u001b[0;32m~/code/graphPINN/graphPINN/learn.py:30\u001b[0m, in \u001b[0;36mtrain\u001b[0;34m(model, trainset, validset, epochs, start_epoch, logfn, optmethod, lossindex, checkpointfile, use_ddp)\u001b[0m\n\u001b[1;32m     27\u001b[0m start_time \u001b[38;5;241m=\u001b[39m time()\n\u001b[1;32m     28\u001b[0m model\u001b[38;5;241m.\u001b[39mtrain(\u001b[38;5;28;01mTrue\u001b[39;00m)\n\u001b[0;32m---> 30\u001b[0m training_loss[:,epoch] \u001b[38;5;241m=\u001b[39m \u001b[43mrunEpoch\u001b[49m\u001b[43m(\u001b[49m\u001b[43mmodel\u001b[49m\u001b[43m,\u001b[49m\u001b[43m \u001b[49m\u001b[43mtrainset\u001b[49m\u001b[43m,\u001b[49m\u001b[43m \u001b[49m\u001b[43moptmethod\u001b[49m\u001b[43m \u001b[49m\u001b[38;5;241;43m=\u001b[39;49m\u001b[43m \u001b[49m\u001b[43moptmethod\u001b[49m\u001b[43m,\u001b[49m\n\u001b[1;32m     31\u001b[0m \u001b[43m                                  \u001b[49m\u001b[43mlogfn\u001b[49m\u001b[38;5;241;43m=\u001b[39;49m\u001b[43mlogfn\u001b[49m\u001b[43m,\u001b[49m\u001b[43m \u001b[49m\u001b[43mlossindex\u001b[49m\u001b[38;5;241;43m=\u001b[39;49m\u001b[43mlossindex\u001b[49m\n\u001b[1;32m     32\u001b[0m \u001b[43m                                 \u001b[49m\u001b[43m)\u001b[49m\n\u001b[1;32m     33\u001b[0m logfn(\u001b[38;5;124mf\u001b[39m\u001b[38;5;124m'\u001b[39m\u001b[38;5;124mEpoch \u001b[39m\u001b[38;5;132;01m{\u001b[39;00mepoch\u001b[38;5;241m+\u001b[39m\u001b[38;5;241m1\u001b[39m\u001b[38;5;132;01m}\u001b[39;00m\u001b[38;5;124m completed. Loss: \u001b[39m\u001b[38;5;132;01m{\u001b[39;00mtraining_loss[\u001b[38;5;241m3\u001b[39m,epoch]\u001b[38;5;132;01m}\u001b[39;00m\u001b[38;5;124m; Total time: \u001b[39m\u001b[38;5;132;01m{\u001b[39;00mtime()\u001b[38;5;241m-\u001b[39mstart_time\u001b[38;5;132;01m}\u001b[39;00m\u001b[38;5;124m'\u001b[39m)\n\u001b[1;32m     34\u001b[0m logfn(\u001b[38;5;124mf\u001b[39m\u001b[38;5;124m'\u001b[39m\u001b[38;5;124mrunning vec: \u001b[39m\u001b[38;5;132;01m{\u001b[39;00mtraining_loss[\u001b[38;5;241m0\u001b[39m,epoch]\u001b[38;5;132;01m}\u001b[39;00m\u001b[38;5;124m, running mhs: \u001b[39m\u001b[38;5;132;01m{\u001b[39;00mtraining_loss[\u001b[38;5;241m1\u001b[39m,epoch]\u001b[38;5;132;01m}\u001b[39;00m\u001b[38;5;124m, running div: \u001b[39m\u001b[38;5;132;01m{\u001b[39;00mtraining_loss[\u001b[38;5;241m2\u001b[39m,epoch]\u001b[38;5;132;01m}\u001b[39;00m\u001b[38;5;124m'\u001b[39m)\n",
      "File \u001b[0;32m~/code/graphPINN/graphPINN/learn.py:97\u001b[0m, in \u001b[0;36mrunEpoch\u001b[0;34m(model, dataset, optmethod, logfn, lossindex, ddpRank, world_size, epoch, use_tqdm)\u001b[0m\n\u001b[1;32m     94\u001b[0m     data \u001b[38;5;241m=\u001b[39m data\u001b[38;5;241m.\u001b[39mto(device)\u001b[38;5;241m.\u001b[39mto_homogeneous()\n\u001b[1;32m     95\u001b[0m     true \u001b[38;5;241m=\u001b[39m [data\u001b[38;5;241m.\u001b[39my[:,\u001b[38;5;241m0\u001b[39m:\u001b[38;5;241m3\u001b[39m],data\u001b[38;5;241m.\u001b[39mx[:,\u001b[38;5;241m3\u001b[39m],data\u001b[38;5;241m.\u001b[39mx[:,\u001b[38;5;241m4\u001b[39m],data\u001b[38;5;241m.\u001b[39mx[:,\u001b[38;5;241m5\u001b[39m]]\n\u001b[0;32m---> 97\u001b[0m pred \u001b[38;5;241m=\u001b[39m \u001b[43mmodel\u001b[49m\u001b[43m(\u001b[49m\u001b[43mdata\u001b[49m\u001b[43m)\u001b[49m\n\u001b[1;32m     99\u001b[0m loss, vec_diff, mhs_diff, div_diff \u001b[38;5;241m=\u001b[39m MHSloss(pred,true, index\u001b[38;5;241m=\u001b[39mlossindex, logfn\u001b[38;5;241m=\u001b[39m\u001b[38;5;28;01mNone\u001b[39;00m)\n\u001b[1;32m    101\u001b[0m \u001b[38;5;28miter\u001b[39m \u001b[38;5;241m+\u001b[39m\u001b[38;5;241m=\u001b[39m \u001b[38;5;241m1\u001b[39m\n",
      "File \u001b[0;32m~/.conda/envs/pinn/lib/python3.10/site-packages/torch/nn/modules/module.py:1501\u001b[0m, in \u001b[0;36mModule._call_impl\u001b[0;34m(self, *args, **kwargs)\u001b[0m\n\u001b[1;32m   1496\u001b[0m \u001b[38;5;66;03m# If we don't have any hooks, we want to skip the rest of the logic in\u001b[39;00m\n\u001b[1;32m   1497\u001b[0m \u001b[38;5;66;03m# this function, and just call forward.\u001b[39;00m\n\u001b[1;32m   1498\u001b[0m \u001b[38;5;28;01mif\u001b[39;00m \u001b[38;5;129;01mnot\u001b[39;00m (\u001b[38;5;28mself\u001b[39m\u001b[38;5;241m.\u001b[39m_backward_hooks \u001b[38;5;129;01mor\u001b[39;00m \u001b[38;5;28mself\u001b[39m\u001b[38;5;241m.\u001b[39m_backward_pre_hooks \u001b[38;5;129;01mor\u001b[39;00m \u001b[38;5;28mself\u001b[39m\u001b[38;5;241m.\u001b[39m_forward_hooks \u001b[38;5;129;01mor\u001b[39;00m \u001b[38;5;28mself\u001b[39m\u001b[38;5;241m.\u001b[39m_forward_pre_hooks\n\u001b[1;32m   1499\u001b[0m         \u001b[38;5;129;01mor\u001b[39;00m _global_backward_pre_hooks \u001b[38;5;129;01mor\u001b[39;00m _global_backward_hooks\n\u001b[1;32m   1500\u001b[0m         \u001b[38;5;129;01mor\u001b[39;00m _global_forward_hooks \u001b[38;5;129;01mor\u001b[39;00m _global_forward_pre_hooks):\n\u001b[0;32m-> 1501\u001b[0m     \u001b[38;5;28;01mreturn\u001b[39;00m \u001b[43mforward_call\u001b[49m\u001b[43m(\u001b[49m\u001b[38;5;241;43m*\u001b[39;49m\u001b[43margs\u001b[49m\u001b[43m,\u001b[49m\u001b[43m \u001b[49m\u001b[38;5;241;43m*\u001b[39;49m\u001b[38;5;241;43m*\u001b[39;49m\u001b[43mkwargs\u001b[49m\u001b[43m)\u001b[49m\n\u001b[1;32m   1502\u001b[0m \u001b[38;5;66;03m# Do not call functions when jit is used\u001b[39;00m\n\u001b[1;32m   1503\u001b[0m full_backward_hooks, non_full_backward_hooks \u001b[38;5;241m=\u001b[39m [], []\n",
      "File \u001b[0;32m~/code/graphPINN/graphPINN/core.py:86\u001b[0m, in \u001b[0;36mFullModel.forward\u001b[0;34m(self, data)\u001b[0m\n\u001b[1;32m     83\u001b[0m data\u001b[38;5;241m.\u001b[39mx[:,\u001b[38;5;241m0\u001b[39m:\u001b[38;5;241m3\u001b[39m] \u001b[38;5;241m=\u001b[39m \u001b[38;5;28mself\u001b[39m\u001b[38;5;241m.\u001b[39mpropgraph\u001b[38;5;241m.\u001b[39mforward(data,positions)\n\u001b[1;32m     84\u001b[0m B \u001b[38;5;241m=\u001b[39m \u001b[38;5;28mself\u001b[39m\u001b[38;5;241m.\u001b[39mconvgraph\u001b[38;5;241m.\u001b[39mforward(data, positions)\n\u001b[0;32m---> 86\u001b[0m gradBx \u001b[38;5;241m=\u001b[39m \u001b[43mtorch\u001b[49m\u001b[38;5;241;43m.\u001b[39;49m\u001b[43mautograd\u001b[49m\u001b[38;5;241;43m.\u001b[39;49m\u001b[43mgrad\u001b[49m\u001b[43m(\u001b[49m\u001b[43m[\u001b[49m\u001b[43mB\u001b[49m\u001b[43m[\u001b[49m\u001b[43mj\u001b[49m\u001b[43m,\u001b[49m\u001b[38;5;241;43m0\u001b[39;49m\u001b[43m]\u001b[49m\u001b[43m \u001b[49m\u001b[38;5;28;43;01mfor\u001b[39;49;00m\u001b[43m \u001b[49m\u001b[43mj\u001b[49m\u001b[43m \u001b[49m\u001b[38;5;129;43;01min\u001b[39;49;00m\u001b[43m \u001b[49m\u001b[38;5;28;43mrange\u001b[39;49m\u001b[43m(\u001b[49m\u001b[43mB\u001b[49m\u001b[38;5;241;43m.\u001b[39;49m\u001b[43mshape\u001b[49m\u001b[43m[\u001b[49m\u001b[38;5;241;43m0\u001b[39;49m\u001b[43m]\u001b[49m\u001b[43m)\u001b[49m\u001b[43m]\u001b[49m\u001b[43m,\u001b[49m\u001b[43m \u001b[49m\u001b[43mpositions\u001b[49m\u001b[43m,\u001b[49m\u001b[43m \u001b[49m\u001b[43mretain_graph\u001b[49m\u001b[38;5;241;43m=\u001b[39;49m\u001b[38;5;28;43;01mTrue\u001b[39;49;00m\u001b[43m)\u001b[49m\n\u001b[1;32m     87\u001b[0m gradBy \u001b[38;5;241m=\u001b[39m torch\u001b[38;5;241m.\u001b[39mautograd\u001b[38;5;241m.\u001b[39mgrad([B[j,\u001b[38;5;241m1\u001b[39m] \u001b[38;5;28;01mfor\u001b[39;00m j \u001b[38;5;129;01min\u001b[39;00m \u001b[38;5;28mrange\u001b[39m(B\u001b[38;5;241m.\u001b[39mshape[\u001b[38;5;241m0\u001b[39m])], positions, retain_graph\u001b[38;5;241m=\u001b[39m\u001b[38;5;28;01mTrue\u001b[39;00m)\n\u001b[1;32m     88\u001b[0m gradBz \u001b[38;5;241m=\u001b[39m torch\u001b[38;5;241m.\u001b[39mautograd\u001b[38;5;241m.\u001b[39mgrad([B[j,\u001b[38;5;241m2\u001b[39m] \u001b[38;5;28;01mfor\u001b[39;00m j \u001b[38;5;129;01min\u001b[39;00m \u001b[38;5;28mrange\u001b[39m(B\u001b[38;5;241m.\u001b[39mshape[\u001b[38;5;241m0\u001b[39m])], positions, retain_graph\u001b[38;5;241m=\u001b[39m\u001b[38;5;28;01mTrue\u001b[39;00m)\n",
      "File \u001b[0;32m~/.conda/envs/pinn/lib/python3.10/site-packages/torch/autograd/__init__.py:303\u001b[0m, in \u001b[0;36mgrad\u001b[0;34m(outputs, inputs, grad_outputs, retain_graph, create_graph, only_inputs, allow_unused, is_grads_batched)\u001b[0m\n\u001b[1;32m    301\u001b[0m     \u001b[38;5;28;01mreturn\u001b[39;00m _vmap_internals\u001b[38;5;241m.\u001b[39m_vmap(vjp, \u001b[38;5;241m0\u001b[39m, \u001b[38;5;241m0\u001b[39m, allow_none_pass_through\u001b[38;5;241m=\u001b[39m\u001b[38;5;28;01mTrue\u001b[39;00m)(grad_outputs_)\n\u001b[1;32m    302\u001b[0m \u001b[38;5;28;01melse\u001b[39;00m:\n\u001b[0;32m--> 303\u001b[0m     \u001b[38;5;28;01mreturn\u001b[39;00m \u001b[43mVariable\u001b[49m\u001b[38;5;241;43m.\u001b[39;49m\u001b[43m_execution_engine\u001b[49m\u001b[38;5;241;43m.\u001b[39;49m\u001b[43mrun_backward\u001b[49m\u001b[43m(\u001b[49m\u001b[43m  \u001b[49m\u001b[38;5;66;43;03m# Calls into the C++ engine to run the backward pass\u001b[39;49;00m\n\u001b[1;32m    304\u001b[0m \u001b[43m        \u001b[49m\u001b[43mt_outputs\u001b[49m\u001b[43m,\u001b[49m\u001b[43m \u001b[49m\u001b[43mgrad_outputs_\u001b[49m\u001b[43m,\u001b[49m\u001b[43m \u001b[49m\u001b[43mretain_graph\u001b[49m\u001b[43m,\u001b[49m\u001b[43m \u001b[49m\u001b[43mcreate_graph\u001b[49m\u001b[43m,\u001b[49m\u001b[43m \u001b[49m\u001b[43mt_inputs\u001b[49m\u001b[43m,\u001b[49m\n\u001b[1;32m    305\u001b[0m \u001b[43m        \u001b[49m\u001b[43mallow_unused\u001b[49m\u001b[43m,\u001b[49m\u001b[43m \u001b[49m\u001b[43maccumulate_grad\u001b[49m\u001b[38;5;241;43m=\u001b[39;49m\u001b[38;5;28;43;01mFalse\u001b[39;49;00m\u001b[43m)\u001b[49m\n",
      "\u001b[0;31mKeyboardInterrupt\u001b[0m: "
     ]
    }
   ],
   "source": [
    "epochs = 5\n",
    "key = 0\n",
    "lossdict = {'index_array':[[0,1,2],[3,4,5],[0,1,2],[3,4,5],-1]}\n",
    "\n",
    "for index in tqdm(lossdict['index_array']):\n",
    "    print(f'key {key} - index {index}')\n",
    "    \n",
    "    training_loss, validation_loss, state_dict = graphPINN.learn.train(\n",
    "                model, trainset, validset, epochs=epochs,\n",
    "                logfn=logfn, checkpointfile = f'{folder}_trainsize-{len(trainset)}_k-{k}')\n",
    "    torch.save(state_dict, f'{folder}model_key-{key}_trainsize-{len(trainset)}_k-{k}.pt')\n",
    "    \n",
    "    lossdict[f'train{key}'] = training_loss.numpy()\n",
    "    lossdict[f'valid{key}'] = validation_loss.numpy()\n",
    "    logfn(f'training loss:\\n{lossdict[f\"train{key}\"]}')\n",
    "    logfn(f'validation loss:\\n{lossdict[f\"valid{key}\"]}')\n",
    "    savemat(f'{folder}loss_key-{key}_params-{math.prod(convdesign)+math.prod(propdesign)}.mat', lossdict)\n",
    "    \n",
    "    key = key + 1\n",
    "    \n",
    "lossdict['index_array'] = str(lossdict['index_array'])\n",
    "torch.save(model, f'{folder}model_trainsize-{len(trainset)}_k-{k}_params-{math.prod(convdesign)+math.prod(propdesign)}.pt')\n",
    "savemat(f'{folder}loss_{epochs}_trainsize-{len(trainset)}_k-{k}_params-{math.prod(convdesign)+math.prod(propdesign)}.mat', lossdict)"
   ]
  },
  {
   "cell_type": "code",
   "execution_count": null,
   "id": "c127280b",
   "metadata": {},
   "outputs": [],
   "source": [
    "print(f'{pretty_size(torch.cuda.memory_allocated())}/{pretty_size(torch.cuda.max_memory_allocated())} allocated, ' +\n",
    "      f'{pretty_size(torch.cuda.memory_reserved())}/{pretty_size(torch.cuda.get_device_properties(0).total_memory)} reserved')"
   ]
  },
  {
   "cell_type": "code",
   "execution_count": null,
   "id": "604f24c4",
   "metadata": {},
   "outputs": [],
   "source": [
    "# convgraph.load_state_dict(torch.load('epoch-0_trainsize-3092_k-100.pt'))"
   ]
  },
  {
   "cell_type": "code",
   "execution_count": null,
   "id": "f8cbd7f9",
   "metadata": {},
   "outputs": [],
   "source": [
    "sample = dataset[0]\n",
    "sample['bd','propagates','in'].edge_index, sample['bd','propagates','in'].edge_attr = \\\n",
    "            pyg.utils.dense_to_sparse(\n",
    "                        torch.ones(sample['bd'].x.shape[0],sample['in'].x.shape[0])\n",
    "            )\n",
    "print(sample)"
   ]
  },
  {
   "cell_type": "code",
   "execution_count": null,
   "id": "2276101d",
   "metadata": {},
   "outputs": [],
   "source": [
    "homosamp = sample.to_homogeneous()"
   ]
  },
  {
   "cell_type": "code",
   "execution_count": null,
   "id": "522ef4a0",
   "metadata": {},
   "outputs": [],
   "source": [
    "print(sample['in'].x)"
   ]
  },
  {
   "cell_type": "code",
   "execution_count": null,
   "id": "b332f7f5",
   "metadata": {},
   "outputs": [],
   "source": [
    "print(homosamp.edge_index[:,homosamp.edge_type==1])"
   ]
  },
  {
   "cell_type": "code",
   "execution_count": null,
   "id": "cb6e4348",
   "metadata": {},
   "outputs": [],
   "source": [
    "lossdict"
   ]
  },
  {
   "cell_type": "code",
   "execution_count": null,
   "id": "7359b2f4",
   "metadata": {},
   "outputs": [],
   "source": [
    "mat = loadmat(f'{folder}loss_{epochs}_trainsize-{len(trainset)}_k-{k}_params-90.mat')"
   ]
  },
  {
   "cell_type": "code",
   "execution_count": null,
   "id": "9ba6447e",
   "metadata": {},
   "outputs": [],
   "source": [
    "for key in mat:\n",
    "    print(key)\n",
    "    print(mat[key])"
   ]
  },
  {
   "cell_type": "code",
   "execution_count": null,
   "id": "b62af8dd",
   "metadata": {},
   "outputs": [],
   "source": [
    "range(5)"
   ]
  },
  {
   "cell_type": "code",
   "execution_count": null,
   "id": "55d3acd4",
   "metadata": {},
   "outputs": [],
   "source": [
    "dataset = graphPINN.data.SHARPData(graphPINN.data._allsharps)"
   ]
  },
  {
   "cell_type": "code",
   "execution_count": null,
   "id": "f6679a23",
   "metadata": {},
   "outputs": [],
   "source": [
    "sim = dataset.__getitem__(0)[0]\n",
    "x_in = torch.zeros(sim[1].shape)\n",
    "x_bd = sim[3]\n",
    "y_in = sim[1]\n",
    "y_bd = sim[3]\n",
    "pos_in = sim[0]\n",
    "pos_bd = torch.cat((sim[2],torch.zeros(sim[2].shape[0],1)),1)\n",
    "\n",
    "p_in = sim[4]\n",
    "p_bd = sim[5]\n",
    "\n",
    "data = pyg.data.HeteroData()\n",
    "data['in'].x = torch.cat((x_in,p_in),1)\n",
    "data['in'].y = y_in\n",
    "data['in'].pos = pos_in\n",
    "data['in','adj','in'].edge_index = pyg.transforms.KNNGraph(k=50)(data['in']).edge_index\n",
    "data['in'].edge_index = None"
   ]
  },
  {
   "cell_type": "code",
   "execution_count": null,
   "id": "83d33983",
   "metadata": {},
   "outputs": [],
   "source": [
    "trainLoader = pyg.loader.DataListLoader(trainset, batch_size=2,shuffle=False)\n",
    "for data in trainLoader:\n",
    "    for j in range(len(data)):\n",
    "        data[j] = data[j].to_homogeneous()\n",
    "    true = [torch.cat([datum.y[:,0:3] for datum in data]),\n",
    "            torch.cat([datum.x[:,3] for datum in data]),\n",
    "            torch.cat([datum.x[:,4] for datum in data]),\n",
    "            torch.cat([datum.x[:,5] for datum in data])]\n",
    "\n",
    "    pred = model(data)\n",
    "\n",
    "    print(pred)\n",
    "    print(true)\n",
    "    break"
   ]
  },
  {
   "cell_type": "code",
   "execution_count": null,
   "id": "a10e9e1c",
   "metadata": {},
   "outputs": [],
   "source": [
    "len('')"
   ]
  },
  {
   "cell_type": "code",
   "execution_count": null,
   "id": "25e959e6",
   "metadata": {},
   "outputs": [],
   "source": []
  }
 ],
 "metadata": {
  "kernelspec": {
   "display_name": "Python [conda env:.conda-pinn]",
   "language": "python",
   "name": "conda-env-.conda-pinn-py"
  },
  "language_info": {
   "codemirror_mode": {
    "name": "ipython",
    "version": 3
   },
   "file_extension": ".py",
   "mimetype": "text/x-python",
   "name": "python",
   "nbconvert_exporter": "python",
   "pygments_lexer": "ipython3",
   "version": "3.10.10"
  }
 },
 "nbformat": 4,
 "nbformat_minor": 5
}
